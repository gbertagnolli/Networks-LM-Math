{
 "cells": [
  {
   "cell_type": "code",
   "execution_count": 1,
   "metadata": {},
   "outputs": [
    {
     "name": "stderr",
     "output_type": "stream",
     "text": [
      "\n",
      "Attaching package: ‘igraph’\n",
      "\n",
      "The following objects are masked from ‘package:stats’:\n",
      "\n",
      "    decompose, spectrum\n",
      "\n",
      "The following object is masked from ‘package:base’:\n",
      "\n",
      "    union\n",
      "\n",
      "── Attaching packages ─────────────────────────────────────── tidyverse 1.2.1 ──\n",
      "✔ ggplot2 3.1.0     ✔ purrr   0.3.0\n",
      "✔ tibble  2.0.1     ✔ dplyr   0.7.8\n",
      "✔ tidyr   0.8.2     ✔ stringr 1.3.1\n",
      "✔ readr   1.3.1     ✔ forcats 0.3.0\n",
      "── Conflicts ────────────────────────────────────────── tidyverse_conflicts() ──\n",
      "✖ dplyr::as_data_frame() masks tibble::as_data_frame(), igraph::as_data_frame()\n",
      "✖ purrr::compose()       masks igraph::compose()\n",
      "✖ tidyr::crossing()      masks igraph::crossing()\n",
      "✖ dplyr::filter()        masks stats::filter()\n",
      "✖ dplyr::groups()        masks igraph::groups()\n",
      "✖ dplyr::lag()           masks stats::lag()\n",
      "✖ purrr::simplify()      masks igraph::simplify()\n"
     ]
    }
   ],
   "source": [
    "# Clear workspace\n",
    "rm(list = ls())\n",
    "# Load libraries\n",
    "library(IRdisplay)\n",
    "library(igraph)\n",
    "igraph_options(vertex.frame.color = \"white\", vertex.frame.size = 1)\n",
    "library(tidyverse)\n",
    "theme_set(new = theme_light())\n",
    "mygreen <- hcl(h = c(135), c = 70, l = 80)\n",
    "options(repr.plot.width = 4*1.5, repr.plot.height = 3*1.5)"
   ]
  },
  {
   "cell_type": "markdown",
   "metadata": {},
   "source": [
    "# >Who are we (CoMuNe Lab)?"
   ]
  },
  {
   "cell_type": "code",
   "execution_count": 2,
   "metadata": {},
   "outputs": [
    {
     "data": {
      "text/html": [
       "<blockquote class=\"twitter-tweet\" data-lang=\"it\">\n",
       "<p lang=\"en\" dir=\"ltr\">\n",
       "Day 0: the Lab is complete and starting in the best possible way with \n",
       "i) talented researchers (physicists, applied mathematicians, engineers, social scientists &amp; neuroscientists), \n",
       "ii) encouraging gender balance &amp; \n",
       "iii) an avg age of ~30yr. \n",
       "<br>Ready to <a href=\"https://twitter.com/hashtag/NetworkScience?src=hash&amp;ref_src=twsrc%5Etfw\">#NetworkScience</a> \n",
       "rock &#39;n roll ! <a href=\"https://t.co/0FWJUeb7Ga\">pic.twitter.com/0FWJUeb7Ga</a>\n",
       "</p>\n",
       "&mdash; CoMuNe Lab (@ComuneLab) \n",
       "<a href=\"https://twitter.com/ComuneLab/status/1059523613932613632?ref_src=twsrc%5Etfw\">5 novembre 2018</a>\n",
       "</blockquote>\n",
       "<script async src=\"https://platform.twitter.com/widgets.js\" charset=\"utf-8\"></script>"
      ]
     },
     "metadata": {},
     "output_type": "display_data"
    }
   ],
   "source": [
    "IRdisplay::display_html('<blockquote class=\"twitter-tweet\" data-lang=\"it\">\n",
    "<p lang=\"en\" dir=\"ltr\">\n",
    "Day 0: the Lab is complete and starting in the best possible way with \n",
    "i) talented researchers (physicists, applied mathematicians, engineers, social scientists &amp; neuroscientists), \n",
    "ii) encouraging gender balance &amp; \n",
    "iii) an avg age of ~30yr. \n",
    "<br>Ready to <a href=\"https://twitter.com/hashtag/NetworkScience?src=hash&amp;ref_src=twsrc%5Etfw\">#NetworkScience</a> \n",
    "rock &#39;n roll ! <a href=\"https://t.co/0FWJUeb7Ga\">pic.twitter.com/0FWJUeb7Ga</a>\n",
    "</p>\n",
    "&mdash; CoMuNe Lab (@ComuneLab) \n",
    "<a href=\"https://twitter.com/ComuneLab/status/1059523613932613632?ref_src=twsrc%5Etfw\">5 novembre 2018</a>\n",
    "</blockquote>\n",
    "<script async src=\"https://platform.twitter.com/widgets.js\" charset=\"utf-8\"></script>')\n"
   ]
  },
  {
   "cell_type": "markdown",
   "metadata": {},
   "source": [
    "# Networks: A very brief Introduction\n",
    "\n",
    "A seminar series on Networks for the Masters in Math and Data Science.\n",
    "\n",
    "\n",
    "Practical Issues:\n",
    "\n",
    "* R needed\n",
    "* I am using Jupyter Notebooks (read [this, on _Nature_](https://www.nature.com/articles/d41586-018-07196-1) to see how **cool** Jupyter is!!):\n",
    "    \n",
    "    * http://jupyter.org/install\n",
    "    * https://irkernel.github.io/installation/\n",
    "    * just as Rmarkdown (code not in chunks but in code-cells and markdown in markdown-cells)\n",
    "    * [Binder](https://mybinder.org/)\n",
    "\n",
    "## Contents\n",
    "\n",
    "0. Why do we study Networks?\n",
    "\n",
    "  * Complex Systems\n",
    "  * Network Modeling\n",
    "\n",
    "\n",
    "1. Fundamentals of Graph Theory\n",
    "  * Definitions\n",
    "  * The Laplacian of a Graph\n",
    "  * Random Walks and Graphs\n",
    "  \n",
    "<div style=\"color:gray; padding-right:30pt; padding-top:30pt;\">  \n",
    "    <ol start=\"2\">\n",
    "        <li> Network Centrality</li>\n",
    "        <li> Community Detection</li>\n",
    "        <li> _Current Research at CoMuNe Lab - FBK_ </li>\n",
    "    </ol>\n",
    "</div>\n",
    "\n",
    "## References\n",
    "\n",
    "Ognyanova, K. (2016) *Networks analysis with R and igraph: NetSci X Tutorial.* Retrieved from [www.kateto.net/networks-r-igraph](http://kateto.net/networks-r-igraph).\n",
    "\n",
    "Newman, M. (2018). *Networks*. Oxford university press.\n",
    "\n",
    "Masuda, N., Porter, M. A., & Lambiotte, R. (2017). Random walks and diffusion on networks. [Physics reports.](https://doi.org/10.1016/j.physrep.2017.07.007)"
   ]
  },
  {
   "cell_type": "markdown",
   "metadata": {},
   "source": [
    "## 0. Why do we study Networks?\n",
    "\n",
    "### Complex Systems\n",
    "\n",
    "[Top 20 Papers That Will Introduce You to Complexity Theory Research\n",
    "](http://complexitylabs.io/top-20-papers-that-will-introduce-you-to-complexity-theory-research/)\n",
    "\n",
    "**Focus shift**: from the analysis of small graphs (with tens of vertices) and individual nodes/edges features to the study of very large systems (millions of entities) and their large-scale statistical properties.\n",
    "\n",
    "##### Some Keywords:\n",
    "\n",
    "* interacting parts\n",
    "* emergence\n",
    "* collective behaviour\n",
    "* self-organisation\n",
    "* evolution\n",
    "* patterns\n",
    "* non-linearity\n",
    "* ...\n",
    "\n",
    "##### Some examples\n",
    "\n",
    "* Ecosystems\n",
    "* Human body or brain...\n",
    "* An [ant colony](https://www.quantamagazine.org/ants-build-complex-structures-with-a-few-simple-rules-20140409/)\n",
    "* ...\n",
    "* Millennium Bridge, London, 2000\n",
    "\n",
    "<span style=\"color:#0167b5;background:#f0dbcc;font-size:18pt;line-height:1.5em;\">Networks are a natural framework for representing and studying systems of ineracting unitns.</span>"
   ]
  },
  {
   "cell_type": "code",
   "execution_count": 3,
   "metadata": {},
   "outputs": [
    {
     "data": {
      "text/html": [
       "<iframe width=\"560\" height=\"315\" \n",
       "                          src=\"https://www.youtube.com/embed/eAXVa__XWZ8\" \n",
       "                          frameborder=\"0\" allow=\"accelerometer; autoplay; encrypted-media; gyroscope; \n",
       "                          picture-in-picture\" allowfullscreen></iframe>"
      ]
     },
     "metadata": {},
     "output_type": "display_data"
    }
   ],
   "source": [
    "IRdisplay::display_html('<iframe width=\"560\" height=\"315\" \n",
    "                          src=\"https://www.youtube.com/embed/eAXVa__XWZ8\" \n",
    "                          frameborder=\"0\" allow=\"accelerometer; autoplay; encrypted-media; gyroscope; \n",
    "                          picture-in-picture\" allowfullscreen></iframe>')"
   ]
  },
  {
   "cell_type": "markdown",
   "metadata": {},
   "source": [
    "### Network Modeling\n",
    "\n",
    "Networks as mathematical models of complex systems, [Borgatti, Halgin 2011](http://steveborgatti.com/papers/orsc.1110.0641.pdf).\n",
    "\n",
    "> A graph $G = (V, E)$ is a pair of sets, where the elements of $V$ are called _vertices_ (nodes), $E \\subseteq V \\times V$.\n",
    ">\n",
    "> For $u, v \\in V$, $(u, v) \\in E$, or $\\{u, v\\} \\in E$ if $G$ is undirected, are called _edges_. \n",
    "\n",
    "Elements ~ **vertices**, interactions and relationships ~ **edges**. \n",
    "\n",
    "The pattern of connections in a network yields a particular network structure so we can study its characteristics (e.g. edge denity, rich-clubs, **community structure** etc.) and what position vertices occupy (node **centrality**).\n",
    "\n",
    "\n",
    "#### Importance of Network Modeling\n",
    "\n",
    "* Framework with applications in various fiedls\n",
    "* Model: simplify and find key feature of the problem"
   ]
  },
  {
   "cell_type": "markdown",
   "metadata": {},
   "source": [
    "## 1. Fundamentals of Graph Theory\n",
    "\n",
    "Throughout this course we are going to mix theory and practice, so to have a rough idea of network analysis in R.\n",
    "\n",
    "R packages required:\n",
    "\n",
    "* `igraph`, see [`igraph`'s documentation](http://igraph.org/r/doc/);\n",
    "* `igraphdata`"
   ]
  },
  {
   "cell_type": "markdown",
   "metadata": {},
   "source": [
    "### 1.1 Definitions\n",
    "\n",
    "###### Def. (Graph)\n",
    "A graph $G = (V, E)$ is a pair of sets, where the elements of $V$ are called vertices (nodes), $E \\subseteq V \\times V$, whit $(u, v) \\in E$ (if $G$ is undirected $\\{u, v\\}$) is an _edge_ for $u, v \\in V$. "
   ]
  },
  {
   "cell_type": "code",
   "execution_count": 4,
   "metadata": {},
   "outputs": [
    {
     "data": {
      "image/png": "[encoded data removed]",
      "text/plain": [
       "Plot with title “”"
      ]
     },
     "metadata": {},
     "output_type": "display_data"
    }
   ],
   "source": [
    "g <- make_graph(edges = c(\"a\", \"b\", \"b\", \"c\", \"a\", \"d\", \"c\", \"d\", \"a\", \"e\"), directed = FALSE)\n",
    "plot(g)"
   ]
  },
  {
   "cell_type": "markdown",
   "metadata": {},
   "source": [
    "Networks do not have to be _connected_. A disconnected network is one in which some nodes cannot reach certain others by any path; the network is divided into _components_. Nodes without any adjacent are said to be _isolated_."
   ]
  },
  {
   "cell_type": "code",
   "execution_count": 5,
   "metadata": {},
   "outputs": [
    {
     "data": {
      "image/png": "[encoded data removed]",
      "text/plain": [
       "Plot with title “”"
      ]
     },
     "metadata": {},
     "output_type": "display_data"
    }
   ],
   "source": [
    "g <- make_graph(edges = c(\"a\", \"b\", \"b\", \"c\", \"a\", \"d\", \"c\", \"d\", \"a\", \"e\", \"h\", \"i\", \"h\", \"j\", \"h\", \"k\"), \n",
    "                isolates = c(\"f\", \"g\"),\n",
    "                directed = FALSE)\n",
    "plot(g)"
   ]
  },
  {
   "cell_type": "markdown",
   "metadata": {},
   "source": [
    "You can explore the graph, asking for the sets $V$, $E$."
   ]
  },
  {
   "cell_type": "code",
   "execution_count": 6,
   "metadata": {},
   "outputs": [
    {
     "data": {
      "text/plain": [
       "+ 11/11 vertices, named, from 1418df0:\n",
       " [1] a b c d e h i j k f g"
      ]
     },
     "metadata": {},
     "output_type": "display_data"
    },
    {
     "data": {
      "text/plain": [
       "+ 8/8 edges from 1418df0 (vertex names):\n",
       "[1] a--b b--c a--d c--d a--e h--i h--j h--k"
      ]
     },
     "metadata": {},
     "output_type": "display_data"
    }
   ],
   "source": [
    "V(g)\n",
    "E(g)"
   ]
  },
  {
   "cell_type": "markdown",
   "metadata": {},
   "source": [
    "Compute $|V|$ and $E$"
   ]
  },
  {
   "cell_type": "code",
   "execution_count": 7,
   "metadata": {},
   "outputs": [
    {
     "data": {
      "text/html": [
       "11"
      ],
      "text/latex": [
       "11"
      ],
      "text/markdown": [
       "11"
      ],
      "text/plain": [
       "[1] 11"
      ]
     },
     "metadata": {},
     "output_type": "display_data"
    },
    {
     "data": {
      "text/html": [
       "8"
      ],
      "text/latex": [
       "8"
      ],
      "text/markdown": [
       "8"
      ],
      "text/plain": [
       "[1] 8"
      ]
     },
     "metadata": {},
     "output_type": "display_data"
    }
   ],
   "source": [
    "N <- length(V(g))\n",
    "N\n",
    "m <- dim(get.edgelist(g))[1]\n",
    "m"
   ]
  },
  {
   "cell_type": "markdown",
   "metadata": {},
   "source": [
    "### Adjacency list\n",
    "Given a vertex $u$ we can loo at its _adjacents_ or _adjacency set orlist_\n",
    "$$\n",
    "A(u) = \\{v \\in V(G) : (u, v) \\in E\\}.\n",
    "$$\n",
    "Take \"a\" in our example:"
   ]
  },
  {
   "cell_type": "code",
   "execution_count": 8,
   "metadata": {},
   "outputs": [
    {
     "data": {
      "text/plain": [
       "$a\n",
       "+ 3/11 vertices, named, from 1418df0:\n",
       "[1] b d e\n"
      ]
     },
     "metadata": {},
     "output_type": "display_data"
    }
   ],
   "source": [
    "adjacent_vertices(g, \"a\")"
   ]
  },
  {
   "cell_type": "markdown",
   "metadata": {},
   "source": [
    "A graph is completely determined by $V$ and the adjacency sets $A(u)$ for each $u \\in V$\n",
    "\n",
    "```r\n",
    "as_adj_list(graph, mode = c(\"all\", \"out\", \"in\", \"total\"))\n",
    "```"
   ]
  },
  {
   "cell_type": "code",
   "execution_count": 9,
   "metadata": {},
   "outputs": [
    {
     "data": {
      "text/plain": [
       "$a\n",
       "+ 3/11 vertices, named, from 1418df0:\n",
       "[1] b d e\n",
       "\n",
       "$b\n",
       "+ 2/11 vertices, named, from 1418df0:\n",
       "[1] a c\n",
       "\n",
       "$c\n",
       "+ 2/11 vertices, named, from 1418df0:\n",
       "[1] b d\n",
       "\n",
       "$d\n",
       "+ 2/11 vertices, named, from 1418df0:\n",
       "[1] a c\n",
       "\n",
       "$e\n",
       "+ 1/11 vertex, named, from 1418df0:\n",
       "[1] a\n",
       "\n",
       "$h\n",
       "+ 3/11 vertices, named, from 1418df0:\n",
       "[1] i j k\n",
       "\n",
       "$i\n",
       "+ 1/11 vertex, named, from 1418df0:\n",
       "[1] h\n",
       "\n",
       "$j\n",
       "+ 1/11 vertex, named, from 1418df0:\n",
       "[1] h\n",
       "\n",
       "$k\n",
       "+ 1/11 vertex, named, from 1418df0:\n",
       "[1] h\n",
       "\n",
       "$f\n",
       "+ 0/11 vertices, named, from 1418df0:\n",
       "\n",
       "$g\n",
       "+ 0/11 vertices, named, from 1418df0:\n"
      ]
     },
     "metadata": {},
     "output_type": "display_data"
    }
   ],
   "source": [
    "as_adj_list(g)  "
   ]
  },
  {
   "cell_type": "markdown",
   "metadata": {},
   "source": [
    "## Adjacency Matrix\n",
    "Take node \"a\", from its adjacency list we can build the following vector "
   ]
  },
  {
   "cell_type": "code",
   "execution_count": 10,
   "metadata": {},
   "outputs": [
    {
     "data": {
      "text/html": [
       "<ol class=list-inline>\n",
       "\t<li>0</li>\n",
       "\t<li>1</li>\n",
       "\t<li>0</li>\n",
       "\t<li>1</li>\n",
       "\t<li>1</li>\n",
       "\t<li>0</li>\n",
       "\t<li>0</li>\n",
       "\t<li>0</li>\n",
       "\t<li>0</li>\n",
       "\t<li>0</li>\n",
       "\t<li>0</li>\n",
       "</ol>\n"
      ],
      "text/latex": [
       "\\begin{enumerate*}\n",
       "\\item 0\n",
       "\\item 1\n",
       "\\item 0\n",
       "\\item 1\n",
       "\\item 1\n",
       "\\item 0\n",
       "\\item 0\n",
       "\\item 0\n",
       "\\item 0\n",
       "\\item 0\n",
       "\\item 0\n",
       "\\end{enumerate*}\n"
      ],
      "text/markdown": [
       "1. 0\n",
       "2. 1\n",
       "3. 0\n",
       "4. 1\n",
       "5. 1\n",
       "6. 0\n",
       "7. 0\n",
       "8. 0\n",
       "9. 0\n",
       "10. 0\n",
       "11. 0\n",
       "\n",
       "\n"
      ],
      "text/plain": [
       " [1] 0 1 0 1 1 0 0 0 0 0 0"
      ]
     },
     "metadata": {},
     "output_type": "display_data"
    }
   ],
   "source": [
    "as.vector(g[\"a\", ])"
   ]
  },
  {
   "cell_type": "markdown",
   "metadata": {},
   "source": [
    "Then take two nodes \"a\" and \"b\":"
   ]
  },
  {
   "cell_type": "code",
   "execution_count": 11,
   "metadata": {},
   "outputs": [
    {
     "data": {
      "text/html": [
       "<table>\n",
       "<thead><tr><th></th><th scope=col>a</th><th scope=col>b</th><th scope=col>c</th><th scope=col>d</th><th scope=col>e</th><th scope=col>h</th><th scope=col>i</th><th scope=col>j</th><th scope=col>k</th><th scope=col>f</th><th scope=col>g</th></tr></thead>\n",
       "<tbody>\n",
       "\t<tr><th scope=row>a</th><td>0</td><td>1</td><td>0</td><td>1</td><td>1</td><td>0</td><td>0</td><td>0</td><td>0</td><td>0</td><td>0</td></tr>\n",
       "\t<tr><th scope=row>b</th><td>1</td><td>0</td><td>1</td><td>0</td><td>0</td><td>0</td><td>0</td><td>0</td><td>0</td><td>0</td><td>0</td></tr>\n",
       "</tbody>\n",
       "</table>\n"
      ],
      "text/latex": [
       "\\begin{tabular}{r|lllllllllll}\n",
       "  & a & b & c & d & e & h & i & j & k & f & g\\\\\n",
       "\\hline\n",
       "\ta & 0 & 1 & 0 & 1 & 1 & 0 & 0 & 0 & 0 & 0 & 0\\\\\n",
       "\tb & 1 & 0 & 1 & 0 & 0 & 0 & 0 & 0 & 0 & 0 & 0\\\\\n",
       "\\end{tabular}\n"
      ],
      "text/markdown": [
       "\n",
       "| <!--/--> | a | b | c | d | e | h | i | j | k | f | g |\n",
       "|---|---|---|---|---|---|---|---|---|---|---|---|\n",
       "| a | 0 | 1 | 0 | 1 | 1 | 0 | 0 | 0 | 0 | 0 | 0 |\n",
       "| b | 1 | 0 | 1 | 0 | 0 | 0 | 0 | 0 | 0 | 0 | 0 |\n",
       "\n"
      ],
      "text/plain": [
       "  a b c d e h i j k f g\n",
       "a 0 1 0 1 1 0 0 0 0 0 0\n",
       "b 1 0 1 0 0 0 0 0 0 0 0"
      ]
     },
     "metadata": {},
     "output_type": "display_data"
    }
   ],
   "source": [
    "as.matrix(g[c(\"a\", \"b\"), ])"
   ]
  },
  {
   "cell_type": "markdown",
   "metadata": {},
   "source": [
    "Putting all vectors together, for each node in $G$, we get a very important matrix, which completely determines $G$: the _adjacency matrix_.\n",
    "\n",
    "#### Def. Adjacency Matrix\n",
    "\n",
    "> Given a graph $G = (V, E)$ with $N = |V|$ vertices, which can be labeled from $1, \\dots, N$.\n",
    "The adjacency matrix $A$ of $G$ is defined as\n",
    "$A = \\{a_{ij}\\}_{i,j=1}^{N}$, where its elements are\n",
    "$$a_{ij} = \n",
    "\\begin{cases}\n",
    "1 & (i, j) \\in V \\\\\n",
    "0 & \\text{otherwise}\n",
    "\\end{cases}$$\n",
    "\n",
    "In `igraph`:\n",
    "\n",
    "```r\n",
    "as_adjacency_matrix(graph, type = c(\"both\", \"upper\", \"lower\"), attr = NULL, \n",
    "                    edges = FALSE, names = TRUE, sparse = igraph_opt(\"sparsematrices\"))\n",
    "```"
   ]
  },
  {
   "cell_type": "code",
   "execution_count": 12,
   "metadata": {},
   "outputs": [
    {
     "name": "stderr",
     "output_type": "stream",
     "text": [
      "   [[ suppressing 11 column names ‘a’, ‘b’, ‘c’ ... ]]\n"
     ]
    },
    {
     "data": {
      "text/plain": [
       "11 x 11 sparse Matrix of class \"dgCMatrix\"\n",
       "                       \n",
       "a . 1 . 1 1 . . . . . .\n",
       "b 1 . 1 . . . . . . . .\n",
       "c . 1 . 1 . . . . . . .\n",
       "d 1 . 1 . . . . . . . .\n",
       "e 1 . . . . . . . . . .\n",
       "h . . . . . . 1 1 1 . .\n",
       "i . . . . . 1 . . . . .\n",
       "j . . . . . 1 . . . . .\n",
       "k . . . . . 1 . . . . .\n",
       "f . . . . . . . . . . .\n",
       "g . . . . . . . . . . ."
      ]
     },
     "metadata": {},
     "output_type": "display_data"
    }
   ],
   "source": [
    "g[] # equivalently: as_adjacency_matrix(g)"
   ]
  },
  {
   "cell_type": "markdown",
   "metadata": {},
   "source": [
    "**Observation:** The adjacency matrix of $G$ is a block matrix, $G$ is not connected."
   ]
  },
  {
   "cell_type": "markdown",
   "metadata": {},
   "source": [
    "Graphs are also very stuidied as a data structure:\n",
    "\n",
    "* graphs and trees (an undirected graph $G$ is a tree if for each $u, v \\in G$ there exists a unique path connecting $u$ and $v$;\n",
    "* representations of graphs: adjacency sets and lists, matrices\n",
    "* search algorithms on graphs\n",
    "* ...\n",
    "\n",
    "We will now see several ways to save an igraph-graph and the other way around\n",
    "\n",
    "```r\n",
    "write_graph(graph, file, format = c(\"edgelist\", ...), ...)\n",
    "read_graph(file, format = c(\"edgelist\", ...), ...)\n",
    "```"
   ]
  },
  {
   "cell_type": "code",
   "execution_count": 13,
   "metadata": {},
   "outputs": [
    {
     "data": {
      "text/html": [
       "<table>\n",
       "<tbody>\n",
       "\t<tr><td>a</td><td>b</td></tr>\n",
       "\t<tr><td>b</td><td>c</td></tr>\n",
       "\t<tr><td>a</td><td>d</td></tr>\n",
       "\t<tr><td>c</td><td>d</td></tr>\n",
       "\t<tr><td>a</td><td>e</td></tr>\n",
       "\t<tr><td>h</td><td>i</td></tr>\n",
       "\t<tr><td>h</td><td>j</td></tr>\n",
       "\t<tr><td>h</td><td>k</td></tr>\n",
       "</tbody>\n",
       "</table>\n"
      ],
      "text/latex": [
       "\\begin{tabular}{ll}\n",
       "\t a & b\\\\\n",
       "\t b & c\\\\\n",
       "\t a & d\\\\\n",
       "\t c & d\\\\\n",
       "\t a & e\\\\\n",
       "\t h & i\\\\\n",
       "\t h & j\\\\\n",
       "\t h & k\\\\\n",
       "\\end{tabular}\n"
      ],
      "text/markdown": [
       "\n",
       "| a | b |\n",
       "| b | c |\n",
       "| a | d |\n",
       "| c | d |\n",
       "| a | e |\n",
       "| h | i |\n",
       "| h | j |\n",
       "| h | k |\n",
       "\n"
      ],
      "text/plain": [
       "     [,1] [,2]\n",
       "[1,] a    b   \n",
       "[2,] b    c   \n",
       "[3,] a    d   \n",
       "[4,] c    d   \n",
       "[5,] a    e   \n",
       "[6,] h    i   \n",
       "[7,] h    j   \n",
       "[8,] h    k   "
      ]
     },
     "metadata": {},
     "output_type": "display_data"
    }
   ],
   "source": [
    "as_edgelist(g)\n",
    "write_graph(g, \"g-edge-list.txt\", format = \"edgelist\")\n",
    "# read_graph(\"g-edge-list.txt\", format = \"edgelist\")"
   ]
  },
  {
   "cell_type": "code",
   "execution_count": 14,
   "metadata": {},
   "outputs": [],
   "source": [
    "el <- as_edgelist(g)\n",
    "# write_csv(data.frame(el) , \"el.csv\", col_names = F)"
   ]
  },
  {
   "cell_type": "markdown",
   "metadata": {},
   "source": [
    "Small networks can also be saved and build from their adjacency matrix\n",
    "\n",
    "```r\n",
    "graph_from_adjacency_matrix(adjmatrix, \n",
    "                            mode = c(\"directed\", \"undirected\", \"max\", \"min\", \"upper\", \"lower\", \"plus\"), \n",
    "                            weighted = NULL, diag = TRUE, add.colnames = NULL, add.rownames = NA)\n",
    "\n",
    "from_adjacency(...)\n",
    "```"
   ]
  },
  {
   "cell_type": "code",
   "execution_count": 15,
   "metadata": {},
   "outputs": [
    {
     "data": {
      "image/png": "[encoded data removed]",
      "text/plain": [
       "Plot with title “”"
      ]
     },
     "metadata": {},
     "output_type": "display_data"
    }
   ],
   "source": [
    "adj_matrix <- as_adjacency_matrix(g)\n",
    "plot(graph_from_adjacency_matrix(adj_matrix, mode = \"undirected\"))"
   ]
  },
  {
   "cell_type": "markdown",
   "metadata": {},
   "source": [
    "In order to write and read the graph using its adjacency matrix, uncomment the code in the next cell. Observe that the sparse matrix is converted to a full matrix `as.matrix(adj_matrix)`, which is usually a problem for larger networks. Alternatively use\n",
    "```r\n",
    "writeMM(sparse_matrix,file)\n",
    "readMM(file)\n",
    "```\n",
    "to write/read spare matrices to/from text files; for undirected graphs it is also better to save just a triangular adjacency matrix.\n",
    "\n",
    "**N.B.** Edge lists are preferred!"
   ]
  },
  {
   "cell_type": "code",
   "execution_count": 16,
   "metadata": {},
   "outputs": [],
   "source": [
    "# save adjacency matrix, read it and build (plot) the resulting graph\n",
    "# write.csv(as.matrix(adj_matrix), file = \"g-adj-matrix.csv\")\n",
    "# plot(graph_from_adjacency_matrix(as.matrix(read.csv(\"g-adj-matrix.csv\", row.names = 1)), mode = \"undirected\"))"
   ]
  },
  {
   "cell_type": "markdown",
   "metadata": {},
   "source": [
    "## Degree of a node\n",
    "\n",
    "Given a vertex $v \\in V$ we can count how many edges are connected to $v$. If the graph is _simple_, i.e. no loops and no multiedges, then the number of $v$'s incident edges is equal to the length of its adjacency list. This is a key number and it is called the _degree_ of vertex $v$.\n",
    "\n",
    "#### Def. Degree\n",
    "\n",
    "> The _degree_ $k_i$ of a vertex $i \\in G$ is the number of edges incident to $i$. Given $A$ the adjacency matrix of $G$ \n",
    "$$k_i = \\sum_j a_{ij}.$$\n",
    "\n",
    "#### Def. Degree distribution.\n",
    "\n",
    "> Given vertex $i \\in G$ we can ask what is the probability of its degree being exactly $k$ and this is given by\n",
    "$$P(k_i = k) = \\frac{n_k}{N}$$\n",
    "where $n_k$ is the number of nodes having degree $k$.\n",
    "\n",
    "It is then possible to look at frequency distribution, which is called _degree distribution_."
   ]
  },
  {
   "cell_type": "code",
   "execution_count": 17,
   "metadata": {},
   "outputs": [
    {
     "data": {
      "text/html": [
       "<dl class=dl-horizontal>\n",
       "\t<dt>a</dt>\n",
       "\t\t<dd>3</dd>\n",
       "\t<dt>b</dt>\n",
       "\t\t<dd>2</dd>\n",
       "\t<dt>c</dt>\n",
       "\t\t<dd>2</dd>\n",
       "\t<dt>d</dt>\n",
       "\t\t<dd>2</dd>\n",
       "\t<dt>e</dt>\n",
       "\t\t<dd>1</dd>\n",
       "\t<dt>h</dt>\n",
       "\t\t<dd>3</dd>\n",
       "\t<dt>i</dt>\n",
       "\t\t<dd>1</dd>\n",
       "\t<dt>j</dt>\n",
       "\t\t<dd>1</dd>\n",
       "\t<dt>k</dt>\n",
       "\t\t<dd>1</dd>\n",
       "\t<dt>f</dt>\n",
       "\t\t<dd>0</dd>\n",
       "\t<dt>g</dt>\n",
       "\t\t<dd>0</dd>\n",
       "</dl>\n"
      ],
      "text/latex": [
       "\\begin{description*}\n",
       "\\item[a] 3\n",
       "\\item[b] 2\n",
       "\\item[c] 2\n",
       "\\item[d] 2\n",
       "\\item[e] 1\n",
       "\\item[h] 3\n",
       "\\item[i] 1\n",
       "\\item[j] 1\n",
       "\\item[k] 1\n",
       "\\item[f] 0\n",
       "\\item[g] 0\n",
       "\\end{description*}\n"
      ],
      "text/markdown": [
       "a\n",
       ":   3b\n",
       ":   2c\n",
       ":   2d\n",
       ":   2e\n",
       ":   1h\n",
       ":   3i\n",
       ":   1j\n",
       ":   1k\n",
       ":   1f\n",
       ":   0g\n",
       ":   0\n",
       "\n"
      ],
      "text/plain": [
       "a b c d e h i j k f g \n",
       "3 2 2 2 1 3 1 1 1 0 0 "
      ]
     },
     "metadata": {},
     "output_type": "display_data"
    }
   ],
   "source": [
    "k_g <- degree(g)\n",
    "k_g\n",
    "deg_g <- degree_distribution(g)"
   ]
  },
  {
   "cell_type": "code",
   "execution_count": 18,
   "metadata": {},
   "outputs": [
    {
     "data": {
      "image/png": "[encoded data removed]",
      "text/plain": [
       "plot without title"
      ]
     },
     "metadata": {},
     "output_type": "display_data"
    }
   ],
   "source": [
    "data <- data.frame(\"k\" = 1:length(deg_g), \"deg\" = deg_g)\n",
    "ggplot(data, aes(x = k, y = deg)) + \n",
    "  geom_col(width = 0.5) +\n",
    "  labs(x = \"k\", y = \"P(k)\") "
   ]
  },
  {
   "cell_type": "markdown",
   "metadata": {},
   "source": [
    "## Weighted Graphs\n",
    "\n",
    "A graph $G = (V, E)$ can also be _weighted_ if we provide a weight function $w: V \\times V \\to \\mathbb{R}$. Let the nodes of $G$ be labeled $1, \\dots, N = |V|$ then we write $w_{ij} = w(i, j)$ and $w_{i, j} = 0$ if $(i, j) \\notin E$.\n",
    "\n",
    "In particular \n",
    "\n",
    "* if $G$ is undirected the weight function satisfies $w_{ij} = w_{ji}$\n",
    "* if $G$ is unweighted we can still think of $w$, in which case \n",
    "$$w_{ij} = \\begin{cases} 1 & (i, j) \\in E \\\\ 0 & (i, j) \\notin E. \\end{cases} $$\n",
    "\n",
    "An example of weighted undirected graph is the well-known [Zachary's Karate Club Network](https://www.jstor.org/stable/3629752), often use as a toy model for checking new methods and metrics.  "
   ]
  },
  {
   "cell_type": "code",
   "execution_count": 19,
   "metadata": {},
   "outputs": [],
   "source": [
    "library(igraphdata)\n",
    "data(karate)"
   ]
  },
  {
   "cell_type": "code",
   "execution_count": 20,
   "metadata": {},
   "outputs": [
    {
     "data": {
      "image/png": "[encoded data removed]",
      "text/plain": [
       "Plot with title “”"
      ]
     },
     "metadata": {},
     "output_type": "display_data"
    }
   ],
   "source": [
    "plot(karate, layout = layout_in_circle, edge.width = E(karate)$weight)"
   ]
  },
  {
   "cell_type": "markdown",
   "metadata": {},
   "source": [
    "By default `karate` nodes are plotted in different colours, reflecting the two factions in this social network. We will see it in detail in the **Community Detection** module."
   ]
  },
  {
   "cell_type": "code",
   "execution_count": 21,
   "metadata": {},
   "outputs": [
    {
     "name": "stderr",
     "output_type": "stream",
     "text": [
      "   [[ suppressing 34 column names ‘Mr Hi’, ‘Actor 2’, ‘Actor 3’ ... ]]\n"
     ]
    },
    {
     "data": {
      "text/plain": [
       "34 x 34 sparse Matrix of class \"dgCMatrix\"\n",
       "                                                                            \n",
       "Mr Hi    . 4 5 3 3 3 3 2 2 . 2 3 1 3 . . . 2 . 2 . 2 . . . . . . . . . 2 . .\n",
       "Actor 2  4 . 6 3 . . . 4 . . . . . 5 . . . 1 . 2 . 2 . . . . . . . . 2 . . .\n",
       "Actor 3  5 6 . 3 . . . 4 5 1 . . . 3 . . . . . . . . . . . . . 2 2 . . . 2 .\n",
       "Actor 4  3 3 3 . . . . 3 . . . . 3 3 . . . . . . . . . . . . . . . . . . . .\n",
       "Actor 5  3 . . . . . 2 . . . 3 . . . . . . . . . . . . . . . . . . . . . . .\n",
       "Actor 6  3 . . . . . 5 . . . 3 . . . . . 3 . . . . . . . . . . . . . . . . .\n",
       "Actor 7  3 . . . 2 5 . . . . . . . . . . 3 . . . . . . . . . . . . . . . . .\n",
       "Actor 8  2 4 4 3 . . . . . . . . . . . . . . . . . . . . . . . . . . . . . .\n",
       "Actor 9  2 . 5 . . . . . . . . . . . . . . . . . . . . . . . . . . . 3 . 3 4\n",
       "Actor 10 . . 1 . . . . . . . . . . . . . . . . . . . . . . . . . . . . . . 2\n",
       "Actor 11 2 . . . 3 3 . . . . . . . . . . . . . . . . . . . . . . . . . . . .\n",
       "Actor 12 3 . . . . . . . . . . . . . . . . . . . . . . . . . . . . . . . . .\n",
       "Actor 13 1 . . 3 . . . . . . . . . . . . . . . . . . . . . . . . . . . . . .\n",
       "Actor 14 3 5 3 3 . . . . . . . . . . . . . . . . . . . . . . . . . . . . . 3\n",
       "Actor 15 . . . . . . . . . . . . . . . . . . . . . . . . . . . . . . . . 3 2\n",
       "Actor 16 . . . . . . . . . . . . . . . . . . . . . . . . . . . . . . . . 3 4\n",
       "Actor 17 . . . . . 3 3 . . . . . . . . . . . . . . . . . . . . . . . . . . .\n",
       "Actor 18 2 1 . . . . . . . . . . . . . . . . . . . . . . . . . . . . . . . .\n",
       "Actor 19 . . . . . . . . . . . . . . . . . . . . . . . . . . . . . . . . 1 2\n",
       "Actor 20 2 2 . . . . . . . . . . . . . . . . . . . . . . . . . . . . . . . 1\n",
       "Actor 21 . . . . . . . . . . . . . . . . . . . . . . . . . . . . . . . . 3 1\n",
       "Actor 22 2 2 . . . . . . . . . . . . . . . . . . . . . . . . . . . . . . . .\n",
       "Actor 23 . . . . . . . . . . . . . . . . . . . . . . . . . . . . . . . . 2 3\n",
       "Actor 24 . . . . . . . . . . . . . . . . . . . . . . . . . 5 . 4 . 3 . . 5 4\n",
       "Actor 25 . . . . . . . . . . . . . . . . . . . . . . . . . 2 . 3 . . . 2 . .\n",
       "Actor 26 . . . . . . . . . . . . . . . . . . . . . . . 5 2 . . . . . . 7 . .\n",
       "Actor 27 . . . . . . . . . . . . . . . . . . . . . . . . . . . . . 4 . . . 2\n",
       "Actor 28 . . 2 . . . . . . . . . . . . . . . . . . . . 4 3 . . . . . . . . 4\n",
       "Actor 29 . . 2 . . . . . . . . . . . . . . . . . . . . . . . . . . . . 2 . 2\n",
       "Actor 30 . . . . . . . . . . . . . . . . . . . . . . . 3 . . 4 . . . . . 4 2\n",
       "Actor 31 . 2 . . . . . . 3 . . . . . . . . . . . . . . . . . . . . . . . 3 3\n",
       "Actor 32 2 . . . . . . . . . . . . . . . . . . . . . . . 2 7 . . 2 . . . 4 4\n",
       "Actor 33 . . 2 . . . . . 3 . . . . . 3 3 . . 1 . 3 . 2 5 . . . . . 4 3 4 . 5\n",
       "John A   . . . . . . . . 4 2 . . . 3 2 4 . . 2 1 1 . 3 4 . . 2 4 2 2 3 4 5 ."
      ]
     },
     "metadata": {},
     "output_type": "display_data"
    }
   ],
   "source": [
    "karate[]"
   ]
  },
  {
   "cell_type": "markdown",
   "metadata": {},
   "source": [
    "**Observations.** \n",
    "\n",
    "* Nodes are called \"actors\" in social network analysis and edges are usually referred to as \"ties\".\n",
    "* Entries of the adjacency matrix are now weights $a_{ij} = w_{ij}$.\n",
    "* The [karate club network](https://www.jstor.org/stable/3629752) is undirected, indeed the adjacency matrix is symmetric:"
   ]
  },
  {
   "cell_type": "code",
   "execution_count": 22,
   "metadata": {},
   "outputs": [
    {
     "data": {
      "text/html": [
       "TRUE"
      ],
      "text/latex": [
       "TRUE"
      ],
      "text/markdown": [
       "TRUE"
      ],
      "text/plain": [
       "[1] TRUE"
      ]
     },
     "metadata": {},
     "output_type": "display_data"
    }
   ],
   "source": [
    "isSymmetric(as.matrix(karate[]))"
   ]
  },
  {
   "cell_type": "markdown",
   "metadata": {},
   "source": [
    "### Degree of a weighted graph\n",
    "The _degree_ becomes then a weighted degree $$k_i = \\sum_j w_{ij}.$$\n",
    "\n",
    "We can also build the degree matrix $D$, a diagonal $N \\times N$ matrix having $d_{ii} = k_i$ on the diagonal."
   ]
  },
  {
   "cell_type": "code",
   "execution_count": 23,
   "metadata": {},
   "outputs": [
    {
     "data": {
      "text/html": [
       "<dl class=dl-horizontal>\n",
       "\t<dt>Mr Hi</dt>\n",
       "\t\t<dd>16</dd>\n",
       "\t<dt>Actor 2</dt>\n",
       "\t\t<dd>9</dd>\n",
       "\t<dt>Actor 3</dt>\n",
       "\t\t<dd>10</dd>\n",
       "\t<dt>Actor 4</dt>\n",
       "\t\t<dd>6</dd>\n",
       "\t<dt>Actor 5</dt>\n",
       "\t\t<dd>3</dd>\n",
       "\t<dt>Actor 6</dt>\n",
       "\t\t<dd>4</dd>\n",
       "</dl>\n"
      ],
      "text/latex": [
       "\\begin{description*}\n",
       "\\item[Mr Hi] 16\n",
       "\\item[Actor 2] 9\n",
       "\\item[Actor 3] 10\n",
       "\\item[Actor 4] 6\n",
       "\\item[Actor 5] 3\n",
       "\\item[Actor 6] 4\n",
       "\\end{description*}\n"
      ],
      "text/markdown": [
       "Mr Hi\n",
       ":   16Actor 2\n",
       ":   9Actor 3\n",
       ":   10Actor 4\n",
       ":   6Actor 5\n",
       ":   3Actor 6\n",
       ":   4\n",
       "\n"
      ],
      "text/plain": [
       "  Mr Hi Actor 2 Actor 3 Actor 4 Actor 5 Actor 6 \n",
       "     16       9      10       6       3       4 "
      ]
     },
     "metadata": {},
     "output_type": "display_data"
    }
   ],
   "source": [
    "head(degree(karate))"
   ]
  },
  {
   "cell_type": "code",
   "execution_count": 24,
   "metadata": {},
   "outputs": [
    {
     "data": {
      "image/png": "[encoded data removed]",
      "text/plain": [
       "plot without title"
      ]
     },
     "metadata": {},
     "output_type": "display_data"
    }
   ],
   "source": [
    "data <- data.frame(deg = degree(karate))\n",
    "ggplot(data = data, aes(x = deg)) + \n",
    "  geom_bar(aes(y = (..count..)/sum(..count..))) +\n",
    "  labs(x = \"k\", y = \"P(k)\")"
   ]
  },
  {
   "cell_type": "markdown",
   "metadata": {},
   "source": [
    "### 1.2 The Laplacian of a Graph\n",
    "\n",
    "A very important matrix in network science is the graph's Laplacian matrix $L$, also called admittance or Kirchhoff matrix, together with its _normalised_ counterpart $\\textbf{L}$. \n",
    "The main reference for the following paragraphs is [Chung, 1997](https://goo.gl/5wh715), a classic book in Spectral graph theory; the first chapther can be found [here](http://www.cs.ucsb.edu/~veronika/MAE/lecturesspectralgraphtheory_chung.pdf).\n",
    "\n",
    "###### Def. (Graph's Laplacian)\n",
    "\n",
    "Let $G$ be a weighted undirected graph such that $w$ is not-negative. Then the Laplacian matrix $L$ is a square $N \\times N$ matrix defined as\n",
    "\\begin{equation}\n",
    "    l_{ij} =\n",
    "    \\begin{cases}\n",
    "    k_i - w_{ii} & \\text{if } i = j \\\\\n",
    "    - w_{ij} & \\text{if } i \\neq j \\\\\n",
    "    0 & \\text{otherwise}\n",
    "    \\end{cases}\n",
    "\\end{equation}\n",
    "note that $L = D - A$, where $D$ and $A$ are respectively the degree and the adjacency matrices."
   ]
  },
  {
   "cell_type": "code",
   "execution_count": 25,
   "metadata": {},
   "outputs": [
    {
     "name": "stderr",
     "output_type": "stream",
     "text": [
      "   [[ suppressing 11 column names ‘a’, ‘b’, ‘c’ ... ]]\n"
     ]
    },
    {
     "data": {
      "text/plain": [
       "11 x 11 sparse Matrix of class \"dgCMatrix\"\n",
       "                                \n",
       "a  3 -1  . -1 -1  .  .  .  . . .\n",
       "b -1  2 -1  .  .  .  .  .  . . .\n",
       "c  . -1  2 -1  .  .  .  .  . . .\n",
       "d -1  . -1  2  .  .  .  .  . . .\n",
       "e -1  .  .  .  1  .  .  .  . . .\n",
       "h  .  .  .  .  .  3 -1 -1 -1 . .\n",
       "i  .  .  .  .  . -1  1  .  . . .\n",
       "j  .  .  .  .  . -1  .  1  . . .\n",
       "k  .  .  .  .  . -1  .  .  1 . .\n",
       "f  .  .  .  .  .  .  .  .  . 0 .\n",
       "g  .  .  .  .  .  .  .  .  . . 0"
      ]
     },
     "metadata": {},
     "output_type": "display_data"
    },
    {
     "data": {
      "text/plain": [
       "10 x 5 sparse Matrix of class \"dgCMatrix\"\n",
       "         Mr Hi Actor 2 Actor 3 Actor 4 Actor 5\n",
       "Mr Hi       42      -4      -5      -3      -3\n",
       "Actor 2     -4      29      -6      -3       .\n",
       "Actor 3     -5      -6      33      -3       .\n",
       "Actor 4     -3      -3      -3      18       .\n",
       "Actor 5     -3       .       .       .       8\n",
       "Actor 6     -3       .       .       .       .\n",
       "Actor 7     -3       .       .       .      -2\n",
       "Actor 8     -2      -4      -4      -3       .\n",
       "Actor 9     -2       .      -5       .       .\n",
       "Actor 10     .       .      -1       .       ."
      ]
     },
     "metadata": {},
     "output_type": "display_data"
    }
   ],
   "source": [
    "Lg <- laplacian_matrix(g, normalized = FALSE)\n",
    "Lk <- laplacian_matrix(karate, normalized = FALSE, weights = NULL) # if NULL and the graph has an edge attribute called \n",
    "                                                                   # weight, then it will be used automatically\n",
    "Lg\n",
    "Lk[1:10, 1:5]"
   ]
  },
  {
   "cell_type": "markdown",
   "metadata": {},
   "source": [
    "#### *Laplacian as an Operator\n",
    "\n",
    "$L$ can be seen as an **operator** on the space of functions $f: V \\to \\mathbb{R}$.\n",
    "Indeed let $v^i: V \\to \\mathbb{R}$ such that $v^i(v_j) = 1$ if $i=j$ and zero otherwise. Then $\\{v^1, \\dots, v^N\\}$ forms a basis of the vector space of all functions from $V$ to $\\mathbb{R}$ and every other function $g$ can be written as $g = \\sum_i g_i v^i$ and it can be thought as a column vector.\n",
    "\n",
    "The operator $L$ satisfies\n",
    "\\begin{align}\n",
    "  Lf(v_i) & = (k_i - w_{ii}) f(v) - \\sum_j w_{ij} f(v_j)\\\\\n",
    "  & = \\sum_{j} w_{ij} \\left( f(v_i) - f(v_j) \\right) \n",
    "\\end{align}\n",
    "\n",
    "and if $G$ is unweighted previous equation can be rewritten as\n",
    "\\begin{equation}\n",
    "    Lf(v_i) = C \\sum_{j} \\left( f(v_i) - f(v_j) \\right) a_{ij}\n",
    "\\end{equation}\n",
    "a diffusion operator with diffusion constant $C$.\n",
    "\n",
    "Indicating with $\\langle f, g \\rangle = \\sum_i f(v_i)g(v_i)$ the standard scalar product in $\\mathbb{R}^N$, we also have\n",
    "\\begin{align}\n",
    "  \\langle f, Lf \\rangle & = \\sum_{i} f(v_i) \\sum_{i, j} w_{ij} \\left( f(v_i) - f(v_j) \\right) \\\\\n",
    "  & = \\sum_{i, j} w_{ij} \\left( f(v_i)^2 - f(v_i)f(v_j) + f(v_j)^2\\right) \\\\\n",
    "  & = \\sum_{i, j} w_{ij} \\left( f(v_i) - f(v_j)\\right)^2\n",
    "\\end{align}\n",
    "\n",
    "Looking at the Laplacian as an operator provides to be very useful in characterising its _spectrum_, i.e. the set of its eigenvalues."
   ]
  },
  {
   "cell_type": "markdown",
   "metadata": {},
   "source": [
    "#### Normalised Laplacian\n",
    "\n",
    "Often with \"Laplacian\" one refers to the normalised matrix $\\textbf{L}$.\n",
    "\n",
    "##### Def. (Normalised Laplacian)\n",
    "$\\textbf{L}$ is defined as\n",
    "\\begin{equation}\n",
    "    \\textbf{l}_{ij} =\n",
    "    \\begin{cases}\n",
    "    1 - \\frac{w_{ii}}{k_i} & \\text{if } i = j \\\\\n",
    "    - \\frac{w_{ih}}{\\sqrt{k_i k_j}} & \\text{if } i \\neq j \\text{ and } e_{ij} \\in E \\\\\n",
    "    0 & \\text{otherwise}\n",
    "    \\end{cases}\n",
    "\\end{equation}\n",
    "and it can be written as $\\textbf{L}=D^{-\\frac12} L D^{-\\frac12}$, with the convention that $D^{-1}(v, v) = 0$ if $k_v=0$, i.e. $v$ is an isolated node.\n",
    "\n",
    "Further $\\textbf{L}=D^{-\\frac12} L D^{-\\frac12} = D^{-\\frac12} (D - A) D^{-\\frac12} = I - D^{-\\frac12} A D^{-\\frac12}$.\n",
    "\n",
    "Observe that for a _regular_ graph, that is an undirected graph with each vertex having the same degree $k$, last equation reduces to $I - \\frac{1}{k} A$."
   ]
  },
  {
   "cell_type": "code",
   "execution_count": 26,
   "metadata": {
    "scrolled": false
   },
   "outputs": [
    {
     "name": "stderr",
     "output_type": "stream",
     "text": [
      "   [[ suppressing 11 column names ‘a’, ‘b’, ‘c’ ... ]]\n"
     ]
    },
    {
     "data": {
      "text/plain": [
       "11 x 11 sparse Matrix of class \"dgCMatrix\"\n",
       "                                                                  \n",
       "a  1.000 -0.408  .   -0.408 -0.577  .      .      .      .     . .\n",
       "b -0.408  1.000 -0.5  .      .      .      .      .      .     . .\n",
       "c  .     -0.500  1.0 -0.500  .      .      .      .      .     . .\n",
       "d -0.408  .     -0.5  1.000  .      .      .      .      .     . .\n",
       "e -0.577  .      .    .      1.000  .      .      .      .     . .\n",
       "h  .      .      .    .      .      1.000 -0.577 -0.577 -0.577 . .\n",
       "i  .      .      .    .      .     -0.577  1.000  .      .     . .\n",
       "j  .      .      .    .      .     -0.577  .      1.000  .     . .\n",
       "k  .      .      .    .      .     -0.577  .      .      1.000 . .\n",
       "f  .      .      .    .      .      .      .      .      .     0 .\n",
       "g  .      .      .    .      .      .      .      .      .     . 0"
      ]
     },
     "metadata": {},
     "output_type": "display_data"
    },
    {
     "name": "stderr",
     "output_type": "stream",
     "text": [
      "   [[ suppressing 10 column names ‘Mr Hi’, ‘Actor 2’, ‘Actor 3’ ... ]]\n"
     ]
    },
    {
     "data": {
      "text/plain": [
       "10 x 10 sparse Matrix of class \"dgCMatrix\"\n",
       "                                                                              \n",
       "Mr Hi     1.000 -0.115 -0.134 -0.109 -0.164 -0.124 -0.128 -0.086 -0.075  .    \n",
       "Actor 2  -0.115  1.000 -0.194 -0.131  .      .      .     -0.206  .      .    \n",
       "Actor 3  -0.134 -0.194  1.000 -0.123  .      .      .     -0.193 -0.211 -0.101\n",
       "Actor 4  -0.109 -0.131 -0.123  1.000  .      .      .     -0.196  .      .    \n",
       "Actor 5  -0.164  .      .      .      1.000  .     -0.196  .      .      .    \n",
       "Actor 6  -0.124  .      .      .      .      1.000 -0.371  .      .      .    \n",
       "Actor 7  -0.128  .      .      .     -0.196 -0.371  1.000  .      .      .    \n",
       "Actor 8  -0.086 -0.206 -0.193 -0.196  .      .      .      1.000  .      .    \n",
       "Actor 9  -0.075  .     -0.211  .      .      .      .      .      1.000  .    \n",
       "Actor 10  .      .     -0.101  .      .      .      .      .      .      1.000"
      ]
     },
     "metadata": {},
     "output_type": "display_data"
    }
   ],
   "source": [
    "Lng <- laplacian_matrix(g, normalized = TRUE)\n",
    "Lnk <- laplacian_matrix(karate, normalized = TRUE)\n",
    "round(Lng, 3)\n",
    "round(Lnk[1:10, 1:10], 3)"
   ]
  },
  {
   "cell_type": "markdown",
   "metadata": {},
   "source": [
    "One can also visualise the Laplacian by means of a heatmap (I use `ggplot`).\n",
    "\n",
    "**N.B.** You can either load \n",
    "* two libraries `ggplot2` and `reshape2`\n",
    "* just `tidyverse`, [see here](https://www.tidyverse.org/)\n",
    "\n",
    "I suggest you the second option since `reshape2` is out of maintenance. Unfortunately syntax between `reshape2` and `tidyr` varies a bit, see [tidyr](https://tidyr.tidyverse.org/)."
   ]
  },
  {
   "cell_type": "code",
   "execution_count": 27,
   "metadata": {},
   "outputs": [
    {
     "data": {
      "image/png": "[encoded data removed]",
      "text/plain": [
       "plot without title"
      ]
     },
     "metadata": {},
     "output_type": "display_data"
    }
   ],
   "source": [
    "melted_Lng <- as_tibble(as.matrix(Lng)) %>%\n",
    "  mutate(Var1 = factor(row.names(.), levels = row.names(.))) %>% \n",
    "  gather(key = Var2, value = value, -Var1, na.rm = TRUE, factor_key = TRUE) \n",
    "\n",
    "# with reshape2 (I used column names Var1 and Var2 for backward compatibility with reshape2::melt())\n",
    "#\n",
    "# install.packages(\"reshape2\")  # install the package if you do not have it\n",
    "# library(reshape2)             # if you want to load the lilbrary, OR just use reshape2:: reshape2 has to be installed\n",
    "#\n",
    "# melted_Lng <- reshape2::melt(as.matrix(Lng))\n",
    "\n",
    "ggplot(data = melted_Lng, aes(x = Var1, y = Var2, fill = value)) + \n",
    "  geom_tile() +\n",
    "  coord_equal() +\n",
    "  scale_fill_gradient2(low = scales::muted(\"blue\"), mid = \"white\", high = scales::muted(\"red\")) + \n",
    "  labs(x = \"\", y = \"\", fill = \"\")"
   ]
  },
  {
   "cell_type": "code",
   "execution_count": 28,
   "metadata": {},
   "outputs": [
    {
     "data": {
      "image/png": "[encoded data removed]",
      "text/plain": [
       "plot without title"
      ]
     },
     "metadata": {},
     "output_type": "display_data"
    }
   ],
   "source": [
    "melted_Lnk <- as_tibble(as.matrix(Lnk)) %>%\n",
    "  mutate(Var1 = factor(row.names(.), levels = row.names(.))) %>% \n",
    "  gather(key = Var2, value = value, -Var1, na.rm = TRUE, factor_key = TRUE) \n",
    "\n",
    "ggplot(data = melted_Lnk, aes(x = Var1, y = Var2, fill = value)) + \n",
    "  geom_tile() +\n",
    "  coord_equal() +\n",
    "  scale_fill_gradient2(low = scales::muted(\"blue\"), mid = \"white\", high = scales::muted(\"red\")) + \n",
    "  theme(axis.text.x = element_text(angle = 90, hjust = 1)) +\n",
    "  labs(x = \"\", y = \"\", fill = \"\")"
   ]
  },
  {
   "cell_type": "markdown",
   "metadata": {},
   "source": [
    "#### Eigenvalues of the Laplacian\n",
    "\n",
    "Due to the assumption of the kernel symmetry $w$, the (normalised) Laplacian is real symmetric, so that its eigenvalues are **all real and non-negative**.\n",
    "\n",
    "Some important results are briefly summarised, for details and proofs see [Spectral Graph Theory, Chung 1977].\n",
    "As a function $g:V \\to \\mathbb{R}$ can be seen as a vector, we may consider the Rayleigh quotient\n",
    "\n",
    "\\begin{align}\n",
    "    \\frac{\\langle g, \\textbf{L}g \\rangle}{\\langle g, g \\rangle} & = \\frac{\\langle g, D^{-\\frac12} L D^{-\\frac12} g \\rangle}{\\langle g, g \\rangle} \\\\\n",
    "    & = \\frac{\\langle f, L f \\rangle}{\\langle D^{\\frac12}f, D^{\\frac12} f \\rangle} \\\\\n",
    "    & = \\frac{\\sum_{i, j} \\left( f(v_i) - f(v_j) \\right)^2 w_{ij}}{\\sum_{j} \\left( f(v_j) \\right)^2 k_j} \n",
    "\\end{align}\n",
    "\n",
    "From last equation we see that all eigenvalues are non-negative, indeed the smallest eigenvalue of $\\textbf{L}$ is $\\lambda_0=0$ with eigenvector (or eigenfunction) $\\phi_0 = \\frac{\\textbf{1}D^{\\frac12}}{\\sqrt{\\sum_i k_i}}$, so that $0 = \\lambda_0 \\leq \\lambda_1 \\leq \\dots \\leq \\lambda_{N-1}$.\n",
    "\n",
    "\n",
    "<div style=\"color:gray;padding-top:20pt\">\n",
    "<b>On Rayleigh Quotient.</b>\n",
    "    \n",
    "It can be shown that, for a given matrix $M$, the Rayleigh quotient $R(M, x)\\frac{x^*Mx}{x^*x}$ reaches its minimum value $\\lambda_{\\min}$ (the smallest eigenvalue of $M$) when $x = v_{\\min }$ (the corresponding eigenvector). \n",
    "\n",
    "Similarly, $R(M,x)\\leq \\lambda _{\\max }$ and $R(M,v_{\\max })=\\lambda _{\\max }$.\n",
    "</div>"
   ]
  },
  {
   "cell_type": "markdown",
   "metadata": {},
   "source": [
    "### 1.3 Random Walks and Graphs\n",
    "\n",
    "Random walks and graphs are closely related. Let us build a simple random walk: given a startng point `x_start` and the number of steps `n_step`, the random walker can only move up or down with equal probability."
   ]
  },
  {
   "cell_type": "code",
   "execution_count": 29,
   "metadata": {},
   "outputs": [],
   "source": [
    "my_random_walk <- function(x_start, n_steps) {\n",
    "    r_steps <- rbinom(n = n_steps, size = 1, prob = 0.5)\n",
    "    r_steps <- 1*(r_steps) - 1*(rep(1, n_steps) - r_steps)\n",
    "    rw <- cbind(x = c(x_start[1]:(x_start[1] + n_steps)), y = cumsum(c(x_start[2], r_steps)))\n",
    "    return(rw)\n",
    "}"
   ]
  },
  {
   "cell_type": "code",
   "execution_count": 30,
   "metadata": {},
   "outputs": [],
   "source": [
    "rw <- data.frame(my_random_walk(x_start = c(0, 0), n_steps = 1000))"
   ]
  },
  {
   "cell_type": "code",
   "execution_count": 31,
   "metadata": {},
   "outputs": [
    {
     "data": {
      "image/png": "[encoded data removed]",
      "text/plain": [
       "plot without title"
      ]
     },
     "metadata": {},
     "output_type": "display_data"
    }
   ],
   "source": [
    "options(repr.plot.width = 9, repr.plot.height = 3)\n",
    "ggplot(rw, aes(x = x, y = y)) +\n",
    "  geom_line() +\n",
    "  labs(x = \"\", y = \"\")\n",
    "options(repr.plot.width = 4*1.5, repr.plot.height = 3*1.5)"
   ]
  },
  {
   "cell_type": "markdown",
   "metadata": {},
   "source": [
    "Figure: At each step a random walker starting from $x_0 = 0$ can move up or down ($\\pm 1$) with equal probability.\n",
    "\n",
    "We use to represent it graphically by means of a state diagram, which looks like\n",
    "\n",
    "<img src=\"./rw-graph-lattice.png\" alt=\"Drawing\" style=\"width: 350px;\"/>\n",
    "\n",
    "This is called a **lattice random walk**, a one dimensional Markov chain with states $\\{0, \\pm 1, \\pm 2, \\dots\\}$. \n",
    "Now let us look at the following graph"
   ]
  },
  {
   "cell_type": "code",
   "execution_count": 32,
   "metadata": {},
   "outputs": [
    {
     "data": {
      "image/png": "[encoded data removed]",
      "text/plain": [
       "Plot with title “”"
      ]
     },
     "metadata": {},
     "output_type": "display_data"
    }
   ],
   "source": [
    "lattice_g <- make_lattice(c(4, 4))\n",
    "lattice_layout <- as.matrix(expand.grid(x = c(1:4), y = c(1:4))) %*% matrix(c(1/sqrt(2), -1/sqrt(2), 1/sqrt(2), 1/sqrt(2)), nrow = 2)\n",
    "plot(lattice_g, layout = lattice_layout, vertex.label = \"\")"
   ]
  },
  {
   "cell_type": "markdown",
   "metadata": {},
   "source": [
    "This is called a _lattice graph_ or simply a lattice. So we can think of finite state **Markov chains as graphs** where each node has $k_i$ links (in simple undirected graphs), so that the walker can randomly choose one of the $k_i$ possible directions. Let us formalise it.\n",
    "\n",
    "Let  $G=(V, E)$ be an undirected unweighted graph with vertices $V = 1, \\dots, N$, with adjacency matrix $A$ and degree matrix $D = \\text{diag}(k_i)$; start a random walk at one node, which may be fixed or drawn from an initial distribution $p_0: V \\to \\mathbb{R}$ - since $V$ is finite, the initial distribution can be seen as a row vector $\\textbf{p}_0=(p_0(i))_{i \\in V}$.\n",
    "\n",
    "Let $X_t$ be the position of the walker at time $t$ and indicate by $p_t(i) = p(X_t = i)$.\n",
    "If $X_t = i$ in a single time step the walker can move to one of $i$'s adjacent vertices, with probability $\\frac{1}{k_i}$.\n",
    "\n",
    "The sequence of random positions $\\{X_t : t = 1, 2, \\dots\\}$ is a time-homogeneous Markov chain with transition probability\n",
    "\\begin{equation}\n",
    "  p_{ij} = \\frac{a_{ij}}{k_i}.\n",
    "\\end{equation}\n",
    "In matrix form\n",
    "\\begin{equation*}\n",
    "  P = D^{-1}A\n",
    "\\end{equation*}\n",
    "so that the probability of being in $j$ at time $t+1$ is given by\n",
    "\\begin{align}\n",
    "  p_{t+1}(j) & = \\sum_i \\frac{a_{ij}}{k_i} p_t(i) \\\\\n",
    "  \\textbf{p}_{t+1} & = \\textbf{p}_t D^{-1}A = \\textbf{p}_t P \\\\\n",
    "  \\textbf{p}_{t+1} & = \\textbf{p}_0 P^{t+1}\n",
    "\\end{align}\n",
    "\n",
    "\n",
    "Probabilities $\\textbf{p}_0, \\textbf{p}_1, \\dots$ are different in general, but for the case of _stationary distribution_ $\\boldsymbol{\\pi}$, which satisfies\n",
    "\\begin{equation}\n",
    "  \\boldsymbol{\\pi} = \\boldsymbol{\\pi} P.\n",
    "\\end{equation}\n",
    "\n",
    "In words: if the initial position $X_0$ of the random walker is random with distribution $\\boldsymbol{\\pi}$ then after $t$ time steps $X_t$ will have the same probability distribution.\n",
    "\n",
    "If the random walk is (i) **irreducible**, i.e. for all pairs $i, j \\in V$ there exists some $s$ such that $p_{ij}^s = p(X_{t+s} = j | X_t = i) > 0$ then a unique stationary distribution exists.\n",
    "\n",
    "Further, if it is also (ii) **aperiodic**, i.e. $\\text{gcd}\\{s : p_{ij}^s > 0 \\}=1$, then the random walk is said \\textit{ergodic} and the following convergence theorem holds\n",
    "\n",
    "> **Thmeorem [Thm.1.8.3, Norris]**\n",
    "For any initial distribution $f$\n",
    "\\begin{equation}\n",
    "  \\lim_{s\\to\\infty} f P^s = \\boldsymbol{\\pi}\n",
    "\\end{equation}\n",
    "provided the chain is aperiodic.\n",
    "\n",
    "\n",
    "The two conditions for ergodicity in terms of graph $G$ are \n",
    "\n",
    "* $G$ is connected (i)\n",
    "* $G$ is non-bipartite (ii).\n",
    "\n",
    "In terms of eigenvalues of the Laplacian $\\textbf{L}$, [Lemma 1.7, Chung 1977]\n",
    "\n",
    "* $\\lambda_1>0$ (i) and \n",
    "* $\\lambda_{N-1}<2$ (ii).\n",
    "\n",
    "Now, let us write $P = D^{-1}A = D^{-\\frac12}D^{-\\frac12}AD^{-\\frac12}D^{\\frac12} = D^{-\\frac12} (I - \\textbf{L}) D^{\\frac12}$, where $\\textbf{L}$ is the **normalised Laplacian**.\n",
    "\n",
    "It follows that, in a random walk with an associated connected graph, the transition matrix satisfies $\\textbf{1} D P=\\textbf{1} DD^{-1}A=D$, therefore the stationary distribution\n",
    "\\begin{equation}\n",
    "\\boldsymbol{\\pi} = \\frac{1}{\\sum_i k_i}D.\n",
    "\\end{equation}\n",
    "\n",
    "**N.B.** Everything can be generalised to weighted connected networks.\n",
    "\n",
    "A random walk such that $\\pi(i)p_{ij}=\\pi(j)p_{ji}$ is called _reversible_.\n",
    "The associated weighted connected network $G$ has weights satisfying\n",
    "\\begin{equation}\n",
    "w(i, j) = w(j, i) = \\pi(i) p_{ij} \\frac{1}{c}\n",
    "\\end{equation}\n",
    "where $c$ is a constant that can be chosen in order to simplify calculations.\n",
    "Transition probabilities are $p_{ij} = \\frac{w(i, j)}{k_i}$ with $k_i$, weighted degree of $i$."
   ]
  },
  {
   "cell_type": "markdown",
   "metadata": {},
   "source": [
    "### Further References on Random Walks and Related Articles.\n",
    "\n",
    "[Masuda, N., Porter, M. A., & Lambiotte, R. (2017). Random walks and diffusion on networks. Physics reports, 716, 1-58.](https://journals.aps.org/prx/abstract/10.1103/PhysRevX.3.041022)\n",
    "\n",
    "[Noh, J. D., & Rieger, H. (2004). Random walks on complex networks. Physical review letters, 92(11), 118701.](https://journals.aps.org/prl/abstract/10.1103/PhysRevLett.92.118701).\n",
    "\n",
    "[De Domenico, M. (2017). Diffusion geometry unravels the emergence of functional clusters in collective phenomena. Physical review letters, 118(16), 168301.](https://journals.aps.org/prl/abstract/10.1103/PhysRevLett.118.168301).\n",
    "\n"
   ]
  },
  {
   "cell_type": "code",
   "execution_count": null,
   "metadata": {},
   "outputs": [],
   "source": []
  }
 ],
 "metadata": {
  "kernelspec": {
   "display_name": "R",
   "language": "R",
   "name": "ir"
  },
  "language_info": {
   "codemirror_mode": "r",
   "file_extension": ".r",
   "mimetype": "text/x-r-source",
   "name": "R",
   "pygments_lexer": "r",
   "version": "3.5.2"
  }
 },
 "nbformat": 4,
 "nbformat_minor": 2
}
