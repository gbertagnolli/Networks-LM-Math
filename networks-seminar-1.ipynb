{
 "cells": [
  {
   "cell_type": "code",
   "execution_count": 1,
   "metadata": {},
   "outputs": [
    {
     "name": "stderr",
     "output_type": "stream",
     "text": [
      "\n",
      "Attaching package: ‘igraph’\n",
      "\n",
      "The following objects are masked from ‘package:stats’:\n",
      "\n",
      "    decompose, spectrum\n",
      "\n",
      "The following object is masked from ‘package:base’:\n",
      "\n",
      "    union\n",
      "\n",
      "── Attaching packages ─────────────────────────────────────── tidyverse 1.2.1 ──\n",
      "✔ ggplot2 3.1.0     ✔ purrr   0.3.0\n",
      "✔ tibble  2.0.1     ✔ dplyr   0.7.8\n",
      "✔ tidyr   0.8.2     ✔ stringr 1.3.1\n",
      "✔ readr   1.3.1     ✔ forcats 0.3.0\n",
      "── Conflicts ────────────────────────────────────────── tidyverse_conflicts() ──\n",
      "✖ dplyr::as_data_frame() masks tibble::as_data_frame(), igraph::as_data_frame()\n",
      "✖ purrr::compose()       masks igraph::compose()\n",
      "✖ tidyr::crossing()      masks igraph::crossing()\n",
      "✖ dplyr::filter()        masks stats::filter()\n",
      "✖ dplyr::groups()        masks igraph::groups()\n",
      "✖ dplyr::lag()           masks stats::lag()\n",
      "✖ purrr::simplify()      masks igraph::simplify()\n"
     ]
    }
   ],
   "source": [
    "# Clear workspace\n",
    "rm(list = ls())\n",
    "# Load libraries\n",
    "library(IRdisplay)\n",
    "library(igraph)\n",
    "igraph_options(vertex.frame.color = \"white\", vertex.frame.size = 1)\n",
    "library(tidyverse)\n",
    "theme_set(new = theme_light())\n",
    "mygreen <- hcl(h = c(135), c = 70, l = 80)\n",
    "options(repr.plot.width = 4*1.5, repr.plot.height = 3*1.5)"
   ]
  },
  {
   "cell_type": "markdown",
   "metadata": {},
   "source": [
    "# >Who are we (CoMuNe Lab)?"
   ]
  },
  {
   "cell_type": "code",
   "execution_count": 2,
   "metadata": {},
   "outputs": [
    {
     "data": {
      "text/html": [
       "<blockquote class=\"twitter-tweet\" data-lang=\"it\">\n",
       "<p lang=\"en\" dir=\"ltr\">\n",
       "Day 0: the Lab is complete and starting in the best possible way with \n",
       "i) talented researchers (physicists, applied mathematicians, engineers, social scientists &amp; neuroscientists), \n",
       "ii) encouraging gender balance &amp; \n",
       "iii) an avg age of ~30yr. \n",
       "<br>Ready to <a href=\"https://twitter.com/hashtag/NetworkScience?src=hash&amp;ref_src=twsrc%5Etfw\">#NetworkScience</a> \n",
       "rock &#39;n roll ! <a href=\"https://t.co/0FWJUeb7Ga\">pic.twitter.com/0FWJUeb7Ga</a>\n",
       "</p>\n",
       "&mdash; CoMuNe Lab (@ComuneLab) \n",
       "<a href=\"https://twitter.com/ComuneLab/status/1059523613932613632?ref_src=twsrc%5Etfw\">5 novembre 2018</a>\n",
       "</blockquote>\n",
       "<script async src=\"https://platform.twitter.com/widgets.js\" charset=\"utf-8\"></script>"
      ]
     },
     "metadata": {},
     "output_type": "display_data"
    }
   ],
   "source": [
    "IRdisplay::display_html('<blockquote class=\"twitter-tweet\" data-lang=\"it\">\n",
    "<p lang=\"en\" dir=\"ltr\">\n",
    "Day 0: the Lab is complete and starting in the best possible way with \n",
    "i) talented researchers (physicists, applied mathematicians, engineers, social scientists &amp; neuroscientists), \n",
    "ii) encouraging gender balance &amp; \n",
    "iii) an avg age of ~30yr. \n",
    "<br>Ready to <a href=\"https://twitter.com/hashtag/NetworkScience?src=hash&amp;ref_src=twsrc%5Etfw\">#NetworkScience</a> \n",
    "rock &#39;n roll ! <a href=\"https://t.co/0FWJUeb7Ga\">pic.twitter.com/0FWJUeb7Ga</a>\n",
    "</p>\n",
    "&mdash; CoMuNe Lab (@ComuneLab) \n",
    "<a href=\"https://twitter.com/ComuneLab/status/1059523613932613632?ref_src=twsrc%5Etfw\">5 novembre 2018</a>\n",
    "</blockquote>\n",
    "<script async src=\"https://platform.twitter.com/widgets.js\" charset=\"utf-8\"></script>')\n"
   ]
  },
  {
   "cell_type": "markdown",
   "metadata": {},
   "source": [
    "# Networks: A very brief Introduction\n",
    "\n",
    "A seminar series on Networks for the Masters in Math and Data Science.\n",
    "\n",
    "\n",
    "Practical Issues:\n",
    "\n",
    "* R needed\n",
    "* I am using Jupyter Notebooks (read [this, on _Nature_](https://www.nature.com/articles/d41586-018-07196-1) to see how **cool** Jupyter is!!):\n",
    "    \n",
    "    * http://jupyter.org/install\n",
    "    * https://irkernel.github.io/installation/\n",
    "    * just as Rmarkdown (code not in chunks but in code-cells and markdown in markdown-cells)\n",
    "    * [Binder](https://mybinder.org/)\n",
    "\n",
    "## Contents\n",
    "\n",
    "0. Why do we study Networks?\n",
    "\n",
    "  * Complex Systems\n",
    "  * Network Modeling\n",
    "\n",
    "\n",
    "1. Fundamentals of Graph Theory\n",
    "  * Definitions\n",
    "  * The Laplacian of a Graph\n",
    "  * Random Walks and Graphs\n",
    "  \n",
    "<div style=\"color:gray; padding-right:30pt; padding-top:30pt;\">  \n",
    "    <ol start=\"2\">\n",
    "        <li> Network Centrality</li>\n",
    "        <li> Community Detection</li>\n",
    "        <li> _Current Research at CoMuNe Lab - FBK_ </li>\n",
    "    </ol>\n",
    "</div>\n",
    "\n",
    "## References\n",
    "\n",
    "Ognyanova, K. (2016) *Networks analysis with R and igraph: NetSci X Tutorial.* Retrieved from [www.kateto.net/networks-r-igraph](http://kateto.net/networks-r-igraph).\n",
    "\n",
    "Newman, M. (2018). *Networks*. Oxford university press.\n",
    "\n",
    "Masuda, N., Porter, M. A., & Lambiotte, R. (2017). Random walks and diffusion on networks. [Physics reports.](https://doi.org/10.1016/j.physrep.2017.07.007)"
   ]
  },
  {
   "cell_type": "markdown",
   "metadata": {},
   "source": [
    "## 0. Why do we study Networks?\n",
    "\n",
    "### Complex Systems\n",
    "\n",
    "[Top 20 Papers That Will Introduce You to Complexity Theory Research\n",
    "](http://complexitylabs.io/top-20-papers-that-will-introduce-you-to-complexity-theory-research/)\n",
    "\n",
    "**Focus shift**: from the analysis of small graphs (with tens of vertices) and individual nodes/edges features to the study of very large systems (millions of entities) and their large-scale statistical properties.\n",
    "\n",
    "##### Some Keywords:\n",
    "\n",
    "* interacting parts\n",
    "* emergence\n",
    "* collective behaviour\n",
    "* self-organisation\n",
    "* evolution\n",
    "* patterns\n",
    "* non-linearity\n",
    "* ...\n",
    "\n",
    "##### Some examples\n",
    "\n",
    "* Ecosystems\n",
    "* Human body or brain...\n",
    "* An [ant colony](https://www.quantamagazine.org/ants-build-complex-structures-with-a-few-simple-rules-20140409/)\n",
    "* ...\n",
    "* Millennium Bridge, London, 2000\n",
    "\n",
    "<span style=\"color:#0167b5;background:#f0dbcc;font-size:18pt;line-height:1.5em;\">Networks are a natural framework for representing and studying systems of ineracting unitns.</span>"
   ]
  },
  {
   "cell_type": "code",
   "execution_count": 3,
   "metadata": {},
   "outputs": [
    {
     "data": {
      "text/html": [
       "<iframe width=\"560\" height=\"315\" \n",
       "                          src=\"https://www.youtube.com/embed/eAXVa__XWZ8\" \n",
       "                          frameborder=\"0\" allow=\"accelerometer; autoplay; encrypted-media; gyroscope; \n",
       "                          picture-in-picture\" allowfullscreen></iframe>"
      ]
     },
     "metadata": {},
     "output_type": "display_data"
    }
   ],
   "source": [
    "IRdisplay::display_html('<iframe width=\"560\" height=\"315\" \n",
    "                          src=\"https://www.youtube.com/embed/eAXVa__XWZ8\" \n",
    "                          frameborder=\"0\" allow=\"accelerometer; autoplay; encrypted-media; gyroscope; \n",
    "                          picture-in-picture\" allowfullscreen></iframe>')"
   ]
  },
  {
   "cell_type": "markdown",
   "metadata": {},
   "source": [
    "### Network Modeling\n",
    "\n",
    "Networks as mathematical models of complex systems, [Borgatti, Halgin 2011](http://steveborgatti.com/papers/orsc.1110.0641.pdf).\n",
    "\n",
    "> A graph $G = (V, E)$ is a pair of sets, where the elements of $V$ are called _vertices_ (nodes), $E \\subseteq V \\times V$.\n",
    ">\n",
    "> For $u, v \\in V$, $(u, v) \\in E$, or $\\{u, v\\} \\in E$ if $G$ is undirected, are called _edges_. \n",
    "\n",
    "Elements ~ **vertices**, interactions and relationships ~ **edges**. \n",
    "\n",
    "The pattern of connections in a network yields a particular network structure so we can study its characteristics (e.g. edge denity, rich-clubs, **community structure** etc.) and what position vertices occupy (node **centrality**).\n",
    "\n",
    "\n",
    "#### Importance of Network Modeling\n",
    "\n",
    "* Framework with applications in various fiedls\n",
    "* Model: simplify and find key feature of the problem"
   ]
  },
  {
   "cell_type": "markdown",
   "metadata": {},
   "source": [
    "## 1. Fundamentals of Graph Theory\n",
    "\n",
    "Throughout this course we are going to mix theory and practice, so to have a rough idea of network analysis in R.\n",
    "\n",
    "R packages required:\n",
    "\n",
    "* `igraph`, see [`igraph`'s documentation](http://igraph.org/r/doc/);\n",
    "* `igraphdata`"
   ]
  },
  {
   "cell_type": "markdown",
   "metadata": {},
   "source": [
    "### 1.1 Definitions\n",
    "\n",
    "###### Def. (Graph)\n",
    "A graph $G = (V, E)$ is a pair of sets, where the elements of $V$ are called vertices (nodes), $E \\subseteq V \\times V$, whit $(u, v) \\in E$ (if $G$ is undirected $\\{u, v\\}$) is an _edge_ for $u, v \\in V$. "
   ]
  },
  {
   "cell_type": "code",
   "execution_count": 4,
   "metadata": {},
   "outputs": [
    {
     "data": {
      "image/png": "[encoded data removed]",
      "text/plain": [
       "Plot with title “”"
      ]
     },
     "metadata": {},
     "output_type": "display_data"
    }
   ],
   "source": [
    "g <- make_graph(edges = c(\"a\", \"b\", \"b\", \"c\", \"a\", \"d\", \"c\", \"d\", \"a\", \"e\"), directed = FALSE)\n",
    "plot(g)"
   ]
  },
  {
   "cell_type": "markdown",
   "metadata": {},
   "source": [
    "Networks do not have to be _connected_. A disconnected network is one in which some nodes cannot reach certain others by any path; the network is divided into _components_. Nodes without any adjacent are said to be _isolated_."
   ]
  },
  {
   "cell_type": "code",
   "execution_count": 5,
   "metadata": {},
   "outputs": [
    {
     "data": {
      "image/png": "[encoded data removed]",
      "text/plain": [
       "Plot with title “”"
      ]
     },
     "metadata": {},
     "output_type": "display_data"
    }
   ],
   "source": [
    "g <- make_graph(edges = c(\"a\", \"b\", \"b\", \"c\", \"a\", \"d\", \"c\", \"d\", \"a\", \"e\", \"h\", \"i\", \"h\", \"j\", \"h\", \"k\"), \n",
    "                isolates = c(\"f\", \"g\"),\n",
    "                directed = FALSE)\n",
    "plot(g)"
   ]
  },
  {
   "cell_type": "markdown",
   "metadata": {},
   "source": [
    "You can explore the graph, asking for the sets $V$, $E$."
   ]
  },
  {
   "cell_type": "code",
   "execution_count": 6,
   "metadata": {},
   "outputs": [
    {
     "data": {
      "text/plain": [
       "+ 11/11 vertices, named, from 9cef9bb:\n",
       " [1] a b c d e h i j k f g"
      ]
     },
     "metadata": {},
     "output_type": "display_data"
    },
    {
     "data": {
      "text/plain": [
       "+ 8/8 edges from 9cef9bb (vertex names):\n",
       "[1] a--b b--c a--d c--d a--e h--i h--j h--k"
      ]
     },
     "metadata": {},
     "output_type": "display_data"
    }
   ],
   "source": [
    "V(g)\n",
    "E(g)"
   ]
  },
  {
   "cell_type": "markdown",
   "metadata": {},
   "source": [
    "Compute $|V|$ and $E$"
   ]
  },
  {
   "cell_type": "code",
   "execution_count": 7,
   "metadata": {},
   "outputs": [
    {
     "data": {
      "text/html": [
       "11"
      ],
      "text/latex": [
       "11"
      ],
      "text/markdown": [
       "11"
      ],
      "text/plain": [
       "[1] 11"
      ]
     },
     "metadata": {},
     "output_type": "display_data"
    },
    {
     "data": {
      "text/html": [
       "8"
      ],
      "text/latex": [
       "8"
      ],
      "text/markdown": [
       "8"
      ],
      "text/plain": [
       "[1] 8"
      ]
     },
     "metadata": {},
     "output_type": "display_data"
    }
   ],
   "source": [
    "N <- length(V(g))\n",
    "N\n",
    "m <- dim(get.edgelist(g))[1]\n",
    "m"
   ]
  },
  {
   "cell_type": "code",
   "execution_count": 13,
   "metadata": {},
   "outputs": [],
   "source": [
    "?igraph::plot.igraph"
   ]
  },
  {
   "cell_type": "code",
   "execution_count": 11,
   "metadata": {},
   "outputs": [
    {
     "data": {
      "image/png": "[encoded data removed]",
      "text/plain": [
       "Plot with title “”"
      ]
     },
     "metadata": {},
     "output_type": "display_data"
    }
   ],
   "source": [
    "plot(g, vertex.label = \"\", vertex.color = \"red\", edge.width = 5)"
   ]
  },
  {
   "cell_type": "markdown",
   "metadata": {},
   "source": [
    "### Adjacency list\n",
    "Given a vertex $u$ we can loo at its _adjacents_ or _adjacency set orlist_\n",
    "$$\n",
    "A(u) = \\{v \\in V(G) : (u, v) \\in E\\}.\n",
    "$$\n",
    "Take \"a\" in our example:"
   ]
  },
  {
   "cell_type": "code",
   "execution_count": 14,
   "metadata": {},
   "outputs": [
    {
     "data": {
      "text/plain": [
       "$a\n",
       "+ 3/11 vertices, named, from 9cef9bb:\n",
       "[1] b d e\n"
      ]
     },
     "metadata": {},
     "output_type": "display_data"
    }
   ],
   "source": [
    "adjacent_vertices(g, \"a\")"
   ]
  },
  {
   "cell_type": "markdown",
   "metadata": {},
   "source": [
    "A graph is completely determined by $V$ and the adjacency sets $A(u)$ for each $u \\in V$\n",
    "\n",
    "```r\n",
    "as_adj_list(graph, mode = c(\"all\", \"out\", \"in\", \"total\"))\n",
    "```"
   ]
  },
  {
   "cell_type": "code",
   "execution_count": 15,
   "metadata": {
    "scrolled": true
   },
   "outputs": [
    {
     "data": {
      "text/plain": [
       "$a\n",
       "+ 3/11 vertices, named, from 9cef9bb:\n",
       "[1] b d e\n",
       "\n",
       "$b\n",
       "+ 2/11 vertices, named, from 9cef9bb:\n",
       "[1] a c\n",
       "\n",
       "$c\n",
       "+ 2/11 vertices, named, from 9cef9bb:\n",
       "[1] b d\n",
       "\n",
       "$d\n",
       "+ 2/11 vertices, named, from 9cef9bb:\n",
       "[1] a c\n",
       "\n",
       "$e\n",
       "+ 1/11 vertex, named, from 9cef9bb:\n",
       "[1] a\n",
       "\n",
       "$h\n",
       "+ 3/11 vertices, named, from 9cef9bb:\n",
       "[1] i j k\n",
       "\n",
       "$i\n",
       "+ 1/11 vertex, named, from 9cef9bb:\n",
       "[1] h\n",
       "\n",
       "$j\n",
       "+ 1/11 vertex, named, from 9cef9bb:\n",
       "[1] h\n",
       "\n",
       "$k\n",
       "+ 1/11 vertex, named, from 9cef9bb:\n",
       "[1] h\n",
       "\n",
       "$f\n",
       "+ 0/11 vertices, named, from 9cef9bb:\n",
       "\n",
       "$g\n",
       "+ 0/11 vertices, named, from 9cef9bb:\n"
      ]
     },
     "metadata": {},
     "output_type": "display_data"
    }
   ],
   "source": [
    "as_adj_list(g)  "
   ]
  },
  {
   "cell_type": "markdown",
   "metadata": {},
   "source": [
    "## Adjacency Matrix\n",
    "Take node \"a\", from its adjacency list we can build the following vector "
   ]
  },
  {
   "cell_type": "code",
   "execution_count": 16,
   "metadata": {},
   "outputs": [
    {
     "data": {
      "text/html": [
       "<ol class=list-inline>\n",
       "\t<li>0</li>\n",
       "\t<li>1</li>\n",
       "\t<li>0</li>\n",
       "\t<li>1</li>\n",
       "\t<li>1</li>\n",
       "\t<li>0</li>\n",
       "\t<li>0</li>\n",
       "\t<li>0</li>\n",
       "\t<li>0</li>\n",
       "\t<li>0</li>\n",
       "\t<li>0</li>\n",
       "</ol>\n"
      ],
      "text/latex": [
       "\\begin{enumerate*}\n",
       "\\item 0\n",
       "\\item 1\n",
       "\\item 0\n",
       "\\item 1\n",
       "\\item 1\n",
       "\\item 0\n",
       "\\item 0\n",
       "\\item 0\n",
       "\\item 0\n",
       "\\item 0\n",
       "\\item 0\n",
       "\\end{enumerate*}\n"
      ],
      "text/markdown": [
       "1. 0\n",
       "2. 1\n",
       "3. 0\n",
       "4. 1\n",
       "5. 1\n",
       "6. 0\n",
       "7. 0\n",
       "8. 0\n",
       "9. 0\n",
       "10. 0\n",
       "11. 0\n",
       "\n",
       "\n"
      ],
      "text/plain": [
       " [1] 0 1 0 1 1 0 0 0 0 0 0"
      ]
     },
     "metadata": {},
     "output_type": "display_data"
    }
   ],
   "source": [
    "as.vector(g[\"a\", ])"
   ]
  },
  {
   "cell_type": "markdown",
   "metadata": {},
   "source": [
    "Then take two nodes \"a\" and \"b\":"
   ]
  },
  {
   "cell_type": "code",
   "execution_count": 11,
   "metadata": {},
   "outputs": [
    {
     "data": {
      "text/html": [
       "<table>\n",
       "<thead><tr><th></th><th scope=col>a</th><th scope=col>b</th><th scope=col>c</th><th scope=col>d</th><th scope=col>e</th><th scope=col>h</th><th scope=col>i</th><th scope=col>j</th><th scope=col>k</th><th scope=col>f</th><th scope=col>g</th></tr></thead>\n",
       "<tbody>\n",
       "\t<tr><th scope=row>a</th><td>0</td><td>1</td><td>0</td><td>1</td><td>1</td><td>0</td><td>0</td><td>0</td><td>0</td><td>0</td><td>0</td></tr>\n",
       "\t<tr><th scope=row>b</th><td>1</td><td>0</td><td>1</td><td>0</td><td>0</td><td>0</td><td>0</td><td>0</td><td>0</td><td>0</td><td>0</td></tr>\n",
       "</tbody>\n",
       "</table>\n"
      ],
      "text/latex": [
       "\\begin{tabular}{r|lllllllllll}\n",
       "  & a & b & c & d & e & h & i & j & k & f & g\\\\\n",
       "\\hline\n",
       "\ta & 0 & 1 & 0 & 1 & 1 & 0 & 0 & 0 & 0 & 0 & 0\\\\\n",
       "\tb & 1 & 0 & 1 & 0 & 0 & 0 & 0 & 0 & 0 & 0 & 0\\\\\n",
       "\\end{tabular}\n"
      ],
      "text/markdown": [
       "\n",
       "| <!--/--> | a | b | c | d | e | h | i | j | k | f | g |\n",
       "|---|---|---|---|---|---|---|---|---|---|---|---|\n",
       "| a | 0 | 1 | 0 | 1 | 1 | 0 | 0 | 0 | 0 | 0 | 0 |\n",
       "| b | 1 | 0 | 1 | 0 | 0 | 0 | 0 | 0 | 0 | 0 | 0 |\n",
       "\n"
      ],
      "text/plain": [
       "  a b c d e h i j k f g\n",
       "a 0 1 0 1 1 0 0 0 0 0 0\n",
       "b 1 0 1 0 0 0 0 0 0 0 0"
      ]
     },
     "metadata": {},
     "output_type": "display_data"
    }
   ],
   "source": [
    "as.matrix(g[c(\"a\", \"b\"), ])"
   ]
  },
  {
   "cell_type": "markdown",
   "metadata": {},
   "source": [
    "Putting all vectors together, for each node in $G$, we get a very important matrix, which completely determines $G$: the _adjacency matrix_.\n",
    "\n",
    "#### Def. Adjacency Matrix\n",
    "\n",
    "> Given a graph $G = (V, E)$ with $N = |V|$ vertices, which can be labeled from $1, \\dots, N$.\n",
    "The adjacency matrix $A$ of $G$ is defined as\n",
    "$A = \\{a_{ij}\\}_{i,j=1}^{N}$, where its elements are\n",
    "$$a_{ij} = \n",
    "\\begin{cases}\n",
    "1 & (i, j) \\in V \\\\\n",
    "0 & \\text{otherwise}\n",
    "\\end{cases}$$\n",
    "\n",
    "In `igraph`:\n",
    "\n",
    "```r\n",
    "as_adjacency_matrix(graph, type = c(\"both\", \"upper\", \"lower\"), attr = NULL, \n",
    "                    edges = FALSE, names = TRUE, sparse = igraph_opt(\"sparsematrices\"))\n",
    "```"
   ]
  },
  {
   "cell_type": "code",
   "execution_count": 17,
   "metadata": {},
   "outputs": [
    {
     "name": "stderr",
     "output_type": "stream",
     "text": [
      "   [[ suppressing 11 column names ‘a’, ‘b’, ‘c’ ... ]]\n"
     ]
    },
    {
     "data": {
      "text/plain": [
       "11 x 11 sparse Matrix of class \"dgCMatrix\"\n",
       "                       \n",
       "a . 1 . 1 1 . . . . . .\n",
       "b 1 . 1 . . . . . . . .\n",
       "c . 1 . 1 . . . . . . .\n",
       "d 1 . 1 . . . . . . . .\n",
       "e 1 . . . . . . . . . .\n",
       "h . . . . . . 1 1 1 . .\n",
       "i . . . . . 1 . . . . .\n",
       "j . . . . . 1 . . . . .\n",
       "k . . . . . 1 . . . . .\n",
       "f . . . . . . . . . . .\n",
       "g . . . . . . . . . . ."
      ]
     },
     "metadata": {},
     "output_type": "display_data"
    }
   ],
   "source": [
    "g[] # equivalently: as_adjacency_matrix(g)"
   ]
  },
  {
   "cell_type": "code",
   "execution_count": 18,
   "metadata": {},
   "outputs": [
    {
     "data": {
      "text/html": [
       "<table>\n",
       "<thead><tr><th></th><th scope=col>a</th><th scope=col>b</th><th scope=col>c</th><th scope=col>d</th><th scope=col>e</th><th scope=col>h</th><th scope=col>i</th><th scope=col>j</th><th scope=col>k</th><th scope=col>f</th><th scope=col>g</th></tr></thead>\n",
       "<tbody>\n",
       "\t<tr><th scope=row>a</th><td>0</td><td>1</td><td>0</td><td>1</td><td>1</td><td>0</td><td>0</td><td>0</td><td>0</td><td>0</td><td>0</td></tr>\n",
       "\t<tr><th scope=row>b</th><td>1</td><td>0</td><td>1</td><td>0</td><td>0</td><td>0</td><td>0</td><td>0</td><td>0</td><td>0</td><td>0</td></tr>\n",
       "\t<tr><th scope=row>c</th><td>0</td><td>1</td><td>0</td><td>1</td><td>0</td><td>0</td><td>0</td><td>0</td><td>0</td><td>0</td><td>0</td></tr>\n",
       "\t<tr><th scope=row>d</th><td>1</td><td>0</td><td>1</td><td>0</td><td>0</td><td>0</td><td>0</td><td>0</td><td>0</td><td>0</td><td>0</td></tr>\n",
       "\t<tr><th scope=row>e</th><td>1</td><td>0</td><td>0</td><td>0</td><td>0</td><td>0</td><td>0</td><td>0</td><td>0</td><td>0</td><td>0</td></tr>\n",
       "\t<tr><th scope=row>h</th><td>0</td><td>0</td><td>0</td><td>0</td><td>0</td><td>0</td><td>1</td><td>1</td><td>1</td><td>0</td><td>0</td></tr>\n",
       "\t<tr><th scope=row>i</th><td>0</td><td>0</td><td>0</td><td>0</td><td>0</td><td>1</td><td>0</td><td>0</td><td>0</td><td>0</td><td>0</td></tr>\n",
       "\t<tr><th scope=row>j</th><td>0</td><td>0</td><td>0</td><td>0</td><td>0</td><td>1</td><td>0</td><td>0</td><td>0</td><td>0</td><td>0</td></tr>\n",
       "\t<tr><th scope=row>k</th><td>0</td><td>0</td><td>0</td><td>0</td><td>0</td><td>1</td><td>0</td><td>0</td><td>0</td><td>0</td><td>0</td></tr>\n",
       "\t<tr><th scope=row>f</th><td>0</td><td>0</td><td>0</td><td>0</td><td>0</td><td>0</td><td>0</td><td>0</td><td>0</td><td>0</td><td>0</td></tr>\n",
       "\t<tr><th scope=row>g</th><td>0</td><td>0</td><td>0</td><td>0</td><td>0</td><td>0</td><td>0</td><td>0</td><td>0</td><td>0</td><td>0</td></tr>\n",
       "</tbody>\n",
       "</table>\n"
      ],
      "text/latex": [
       "\\begin{tabular}{r|lllllllllll}\n",
       "  & a & b & c & d & e & h & i & j & k & f & g\\\\\n",
       "\\hline\n",
       "\ta & 0 & 1 & 0 & 1 & 1 & 0 & 0 & 0 & 0 & 0 & 0\\\\\n",
       "\tb & 1 & 0 & 1 & 0 & 0 & 0 & 0 & 0 & 0 & 0 & 0\\\\\n",
       "\tc & 0 & 1 & 0 & 1 & 0 & 0 & 0 & 0 & 0 & 0 & 0\\\\\n",
       "\td & 1 & 0 & 1 & 0 & 0 & 0 & 0 & 0 & 0 & 0 & 0\\\\\n",
       "\te & 1 & 0 & 0 & 0 & 0 & 0 & 0 & 0 & 0 & 0 & 0\\\\\n",
       "\th & 0 & 0 & 0 & 0 & 0 & 0 & 1 & 1 & 1 & 0 & 0\\\\\n",
       "\ti & 0 & 0 & 0 & 0 & 0 & 1 & 0 & 0 & 0 & 0 & 0\\\\\n",
       "\tj & 0 & 0 & 0 & 0 & 0 & 1 & 0 & 0 & 0 & 0 & 0\\\\\n",
       "\tk & 0 & 0 & 0 & 0 & 0 & 1 & 0 & 0 & 0 & 0 & 0\\\\\n",
       "\tf & 0 & 0 & 0 & 0 & 0 & 0 & 0 & 0 & 0 & 0 & 0\\\\\n",
       "\tg & 0 & 0 & 0 & 0 & 0 & 0 & 0 & 0 & 0 & 0 & 0\\\\\n",
       "\\end{tabular}\n"
      ],
      "text/markdown": [
       "\n",
       "| <!--/--> | a | b | c | d | e | h | i | j | k | f | g |\n",
       "|---|---|---|---|---|---|---|---|---|---|---|---|\n",
       "| a | 0 | 1 | 0 | 1 | 1 | 0 | 0 | 0 | 0 | 0 | 0 |\n",
       "| b | 1 | 0 | 1 | 0 | 0 | 0 | 0 | 0 | 0 | 0 | 0 |\n",
       "| c | 0 | 1 | 0 | 1 | 0 | 0 | 0 | 0 | 0 | 0 | 0 |\n",
       "| d | 1 | 0 | 1 | 0 | 0 | 0 | 0 | 0 | 0 | 0 | 0 |\n",
       "| e | 1 | 0 | 0 | 0 | 0 | 0 | 0 | 0 | 0 | 0 | 0 |\n",
       "| h | 0 | 0 | 0 | 0 | 0 | 0 | 1 | 1 | 1 | 0 | 0 |\n",
       "| i | 0 | 0 | 0 | 0 | 0 | 1 | 0 | 0 | 0 | 0 | 0 |\n",
       "| j | 0 | 0 | 0 | 0 | 0 | 1 | 0 | 0 | 0 | 0 | 0 |\n",
       "| k | 0 | 0 | 0 | 0 | 0 | 1 | 0 | 0 | 0 | 0 | 0 |\n",
       "| f | 0 | 0 | 0 | 0 | 0 | 0 | 0 | 0 | 0 | 0 | 0 |\n",
       "| g | 0 | 0 | 0 | 0 | 0 | 0 | 0 | 0 | 0 | 0 | 0 |\n",
       "\n"
      ],
      "text/plain": [
       "  a b c d e h i j k f g\n",
       "a 0 1 0 1 1 0 0 0 0 0 0\n",
       "b 1 0 1 0 0 0 0 0 0 0 0\n",
       "c 0 1 0 1 0 0 0 0 0 0 0\n",
       "d 1 0 1 0 0 0 0 0 0 0 0\n",
       "e 1 0 0 0 0 0 0 0 0 0 0\n",
       "h 0 0 0 0 0 0 1 1 1 0 0\n",
       "i 0 0 0 0 0 1 0 0 0 0 0\n",
       "j 0 0 0 0 0 1 0 0 0 0 0\n",
       "k 0 0 0 0 0 1 0 0 0 0 0\n",
       "f 0 0 0 0 0 0 0 0 0 0 0\n",
       "g 0 0 0 0 0 0 0 0 0 0 0"
      ]
     },
     "metadata": {},
     "output_type": "display_data"
    }
   ],
   "source": [
    "as.matrix(g[])"
   ]
  },
  {
   "cell_type": "markdown",
   "metadata": {},
   "source": [
    "**Observation:** The adjacency matrix of $G$ is a block matrix, $G$ is not connected."
   ]
  },
  {
   "cell_type": "markdown",
   "metadata": {},
   "source": [
    "Graphs are also very stuidied as a data structure:\n",
    "\n",
    "* graphs and trees (an undirected graph $G$ is a tree if for each $u, v \\in G$ there exists a unique path connecting $u$ and $v$;\n",
    "* representations of graphs: adjacency sets and lists, matrices\n",
    "* search algorithms on graphs\n",
    "* ...\n",
    "\n",
    "We will now see several ways to save an igraph-graph and the other way around\n",
    "\n",
    "```r\n",
    "write_graph(graph, file, format = c(\"edgelist\", ...), ...)\n",
    "read_graph(file, format = c(\"edgelist\", ...), ...)\n",
    "```"
   ]
  },
  {
   "cell_type": "code",
   "execution_count": 19,
   "metadata": {},
   "outputs": [
    {
     "data": {
      "text/html": [
       "<table>\n",
       "<tbody>\n",
       "\t<tr><td>a</td><td>b</td></tr>\n",
       "\t<tr><td>b</td><td>c</td></tr>\n",
       "\t<tr><td>a</td><td>d</td></tr>\n",
       "\t<tr><td>c</td><td>d</td></tr>\n",
       "\t<tr><td>a</td><td>e</td></tr>\n",
       "\t<tr><td>h</td><td>i</td></tr>\n",
       "\t<tr><td>h</td><td>j</td></tr>\n",
       "\t<tr><td>h</td><td>k</td></tr>\n",
       "</tbody>\n",
       "</table>\n"
      ],
      "text/latex": [
       "\\begin{tabular}{ll}\n",
       "\t a & b\\\\\n",
       "\t b & c\\\\\n",
       "\t a & d\\\\\n",
       "\t c & d\\\\\n",
       "\t a & e\\\\\n",
       "\t h & i\\\\\n",
       "\t h & j\\\\\n",
       "\t h & k\\\\\n",
       "\\end{tabular}\n"
      ],
      "text/markdown": [
       "\n",
       "| a | b |\n",
       "| b | c |\n",
       "| a | d |\n",
       "| c | d |\n",
       "| a | e |\n",
       "| h | i |\n",
       "| h | j |\n",
       "| h | k |\n",
       "\n"
      ],
      "text/plain": [
       "     [,1] [,2]\n",
       "[1,] a    b   \n",
       "[2,] b    c   \n",
       "[3,] a    d   \n",
       "[4,] c    d   \n",
       "[5,] a    e   \n",
       "[6,] h    i   \n",
       "[7,] h    j   \n",
       "[8,] h    k   "
      ]
     },
     "metadata": {},
     "output_type": "display_data"
    }
   ],
   "source": [
    "as_edgelist(g)\n",
    "write_graph(g, \"g-edge-list.txt\", format = \"edgelist\")\n",
    "# read_graph(\"g-edge-list.txt\", format = \"edgelist\")"
   ]
  },
  {
   "cell_type": "code",
   "execution_count": 14,
   "metadata": {},
   "outputs": [],
   "source": [
    "el <- as_edgelist(g)\n",
    "# write_csv(data.frame(el) , \"el.csv\", col_names = F)"
   ]
  },
  {
   "cell_type": "markdown",
   "metadata": {},
   "source": [
    "Small networks can also be saved and build from their adjacency matrix\n",
    "\n",
    "```r\n",
    "graph_from_adjacency_matrix(adjmatrix, \n",
    "                            mode = c(\"directed\", \"undirected\", \"max\", \"min\", \"upper\", \"lower\", \"plus\"), \n",
    "                            weighted = NULL, diag = TRUE, add.colnames = NULL, add.rownames = NA)\n",
    "\n",
    "from_adjacency(...)\n",
    "```"
   ]
  },
  {
   "cell_type": "code",
   "execution_count": 20,
   "metadata": {},
   "outputs": [
    {
     "data": {
      "image/png": "[encoded data removed]",
      "text/plain": [
       "Plot with title “”"
      ]
     },
     "metadata": {},
     "output_type": "display_data"
    }
   ],
   "source": [
    "adj_matrix <- as_adjacency_matrix(g)\n",
    "plot(graph_from_adjacency_matrix(adj_matrix, mode = \"undirected\"))"
   ]
  },
  {
   "cell_type": "markdown",
   "metadata": {},
   "source": [
    "In order to write and read the graph using its adjacency matrix, uncomment the code in the next cell. Observe that the sparse matrix is converted to a full matrix `as.matrix(adj_matrix)`, which is usually a problem for larger networks. Alternatively use\n",
    "```r\n",
    "writeMM(sparse_matrix,file)\n",
    "readMM(file)\n",
    "```\n",
    "to write/read spare matrices to/from text files; for undirected graphs it is also better to save just a triangular adjacency matrix.\n",
    "\n",
    "**N.B.** Edge lists are preferred!"
   ]
  },
  {
   "cell_type": "code",
   "execution_count": 16,
   "metadata": {},
   "outputs": [],
   "source": [
    "# save adjacency matrix, read it and build (plot) the resulting graph\n",
    "# write.csv(as.matrix(adj_matrix), file = \"g-adj-matrix.csv\")\n",
    "# plot(graph_from_adjacency_matrix(as.matrix(read.csv(\"g-adj-matrix.csv\", row.names = 1)), mode = \"undirected\"))"
   ]
  },
  {
   "cell_type": "markdown",
   "metadata": {},
   "source": [
    "## Degree of a node\n",
    "\n",
    "Given a vertex $v \\in V$ we can count how many edges are connected to $v$. If the graph is _simple_, i.e. no loops and no multiedges, then the number of $v$'s incident edges is equal to the length of its adjacency list. This is a key number and it is called the _degree_ of vertex $v$.\n",
    "\n",
    "#### Def. Degree\n",
    "\n",
    "> The _degree_ $k_i$ of a vertex $i \\in G$ is the number of edges incident to $i$. Given $A$ the adjacency matrix of $G$ \n",
    "$$k_i = \\sum_j a_{ij}.$$\n",
    "\n",
    "#### Def. Degree distribution.\n",
    "\n",
    "> Given vertex $i \\in G$ we can ask what is the probability of its degree being exactly $k$ and this is given by\n",
    "$$P(k_i = k) = \\frac{n_k}{N}$$\n",
    "where $n_k$ is the number of nodes having degree $k$.\n",
    "\n",
    "It is then possible to look at frequency distribution, which is called _degree distribution_."
   ]
  },
  {
   "cell_type": "code",
   "execution_count": 21,
   "metadata": {},
   "outputs": [
    {
     "data": {
      "text/html": [
       "<dl class=dl-horizontal>\n",
       "\t<dt>a</dt>\n",
       "\t\t<dd>3</dd>\n",
       "\t<dt>b</dt>\n",
       "\t\t<dd>2</dd>\n",
       "\t<dt>c</dt>\n",
       "\t\t<dd>2</dd>\n",
       "\t<dt>d</dt>\n",
       "\t\t<dd>2</dd>\n",
       "\t<dt>e</dt>\n",
       "\t\t<dd>1</dd>\n",
       "\t<dt>h</dt>\n",
       "\t\t<dd>3</dd>\n",
       "\t<dt>i</dt>\n",
       "\t\t<dd>1</dd>\n",
       "\t<dt>j</dt>\n",
       "\t\t<dd>1</dd>\n",
       "\t<dt>k</dt>\n",
       "\t\t<dd>1</dd>\n",
       "\t<dt>f</dt>\n",
       "\t\t<dd>0</dd>\n",
       "\t<dt>g</dt>\n",
       "\t\t<dd>0</dd>\n",
       "</dl>\n"
      ],
      "text/latex": [
       "\\begin{description*}\n",
       "\\item[a] 3\n",
       "\\item[b] 2\n",
       "\\item[c] 2\n",
       "\\item[d] 2\n",
       "\\item[e] 1\n",
       "\\item[h] 3\n",
       "\\item[i] 1\n",
       "\\item[j] 1\n",
       "\\item[k] 1\n",
       "\\item[f] 0\n",
       "\\item[g] 0\n",
       "\\end{description*}\n"
      ],
      "text/markdown": [
       "a\n",
       ":   3b\n",
       ":   2c\n",
       ":   2d\n",
       ":   2e\n",
       ":   1h\n",
       ":   3i\n",
       ":   1j\n",
       ":   1k\n",
       ":   1f\n",
       ":   0g\n",
       ":   0\n",
       "\n"
      ],
      "text/plain": [
       "a b c d e h i j k f g \n",
       "3 2 2 2 1 3 1 1 1 0 0 "
      ]
     },
     "metadata": {},
     "output_type": "display_data"
    }
   ],
   "source": [
    "k_g <- degree(g)\n",
    "k_g\n",
    "deg_g <- degree_distribution(g)"
   ]
  },
  {
   "cell_type": "code",
   "execution_count": 22,
   "metadata": {},
   "outputs": [
    {
     "data": {
      "image/png": "[encoded data removed]",
      "text/plain": [
       "plot without title"
      ]
     },
     "metadata": {},
     "output_type": "display_data"
    }
   ],
   "source": [
    "data <- data.frame(\"k\" = 1:length(deg_g), \"deg\" = deg_g)\n",
    "ggplot(data, aes(x = k, y = deg)) + \n",
    "  geom_col(width = 0.5) +\n",
    "  labs(x = \"k\", y = \"P(k)\") "
   ]
  },
  {
   "cell_type": "markdown",
   "metadata": {},
   "source": [
    "## Weighted Graphs\n",
    "\n",
    "A graph $G = (V, E)$ can also be _weighted_ if we provide a weight function $w: V \\times V \\to \\mathbb{R}$. Let the nodes of $G$ be labeled $1, \\dots, N = |V|$ then we write $w_{ij} = w(i, j)$ and $w_{i, j} = 0$ if $(i, j) \\notin E$.\n",
    "\n",
    "In particular \n",
    "\n",
    "* if $G$ is undirected the weight function satisfies $w_{ij} = w_{ji}$\n",
    "* if $G$ is unweighted we can still think of $w$, in which case \n",
    "$$w_{ij} = \\begin{cases} 1 & (i, j) \\in E \\\\ 0 & (i, j) \\notin E. \\end{cases} $$\n",
    "\n",
    "An example of weighted undirected graph is the well-known [Zachary's Karate Club Network](https://www.jstor.org/stable/3629752), often use as a toy model for checking new methods and metrics.  "
   ]
  },
  {
   "cell_type": "code",
   "execution_count": 24,
   "metadata": {},
   "outputs": [],
   "source": [
    "library(igraphdata)\n",
    "data(karate)"
   ]
  },
  {
   "cell_type": "code",
   "execution_count": 26,
   "metadata": {},
   "outputs": [
    {
     "data": {
      "text/html": [
       "<ol class=list-inline>\n",
       "\t<li>'Faction'</li>\n",
       "\t<li>'name'</li>\n",
       "\t<li>'label'</li>\n",
       "\t<li>'color'</li>\n",
       "</ol>\n"
      ],
      "text/latex": [
       "\\begin{enumerate*}\n",
       "\\item 'Faction'\n",
       "\\item 'name'\n",
       "\\item 'label'\n",
       "\\item 'color'\n",
       "\\end{enumerate*}\n"
      ],
      "text/markdown": [
       "1. 'Faction'\n",
       "2. 'name'\n",
       "3. 'label'\n",
       "4. 'color'\n",
       "\n",
       "\n"
      ],
      "text/plain": [
       "[1] \"Faction\" \"name\"    \"label\"   \"color\"  "
      ]
     },
     "metadata": {},
     "output_type": "display_data"
    }
   ],
   "source": [
    "list.vertex.attributes(karate)"
   ]
  },
  {
   "cell_type": "code",
   "execution_count": 27,
   "metadata": {},
   "outputs": [
    {
     "data": {
      "image/png": "[encoded data removed]",
      "text/plain": [
       "Plot with title “”"
      ]
     },
     "metadata": {},
     "output_type": "display_data"
    }
   ],
   "source": [
    "plot(karate, layout = layout_in_circle, edge.width = E(karate)$weight)"
   ]
  },
  {
   "cell_type": "markdown",
   "metadata": {},
   "source": [
    "By default `karate` nodes are plotted in different colours, reflecting the two factions in this social network. We will see it in detail in the **Community Detection** module."
   ]
  },
  {
   "cell_type": "code",
   "execution_count": 28,
   "metadata": {},
   "outputs": [
    {
     "name": "stderr",
     "output_type": "stream",
     "text": [
      "   [[ suppressing 34 column names ‘Mr Hi’, ‘Actor 2’, ‘Actor 3’ ... ]]\n"
     ]
    },
    {
     "data": {
      "text/plain": [
       "34 x 34 sparse Matrix of class \"dgCMatrix\"\n",
       "                                                                            \n",
       "Mr Hi    . 4 5 3 3 3 3 2 2 . 2 3 1 3 . . . 2 . 2 . 2 . . . . . . . . . 2 . .\n",
       "Actor 2  4 . 6 3 . . . 4 . . . . . 5 . . . 1 . 2 . 2 . . . . . . . . 2 . . .\n",
       "Actor 3  5 6 . 3 . . . 4 5 1 . . . 3 . . . . . . . . . . . . . 2 2 . . . 2 .\n",
       "Actor 4  3 3 3 . . . . 3 . . . . 3 3 . . . . . . . . . . . . . . . . . . . .\n",
       "Actor 5  3 . . . . . 2 . . . 3 . . . . . . . . . . . . . . . . . . . . . . .\n",
       "Actor 6  3 . . . . . 5 . . . 3 . . . . . 3 . . . . . . . . . . . . . . . . .\n",
       "Actor 7  3 . . . 2 5 . . . . . . . . . . 3 . . . . . . . . . . . . . . . . .\n",
       "Actor 8  2 4 4 3 . . . . . . . . . . . . . . . . . . . . . . . . . . . . . .\n",
       "Actor 9  2 . 5 . . . . . . . . . . . . . . . . . . . . . . . . . . . 3 . 3 4\n",
       "Actor 10 . . 1 . . . . . . . . . . . . . . . . . . . . . . . . . . . . . . 2\n",
       "Actor 11 2 . . . 3 3 . . . . . . . . . . . . . . . . . . . . . . . . . . . .\n",
       "Actor 12 3 . . . . . . . . . . . . . . . . . . . . . . . . . . . . . . . . .\n",
       "Actor 13 1 . . 3 . . . . . . . . . . . . . . . . . . . . . . . . . . . . . .\n",
       "Actor 14 3 5 3 3 . . . . . . . . . . . . . . . . . . . . . . . . . . . . . 3\n",
       "Actor 15 . . . . . . . . . . . . . . . . . . . . . . . . . . . . . . . . 3 2\n",
       "Actor 16 . . . . . . . . . . . . . . . . . . . . . . . . . . . . . . . . 3 4\n",
       "Actor 17 . . . . . 3 3 . . . . . . . . . . . . . . . . . . . . . . . . . . .\n",
       "Actor 18 2 1 . . . . . . . . . . . . . . . . . . . . . . . . . . . . . . . .\n",
       "Actor 19 . . . . . . . . . . . . . . . . . . . . . . . . . . . . . . . . 1 2\n",
       "Actor 20 2 2 . . . . . . . . . . . . . . . . . . . . . . . . . . . . . . . 1\n",
       "Actor 21 . . . . . . . . . . . . . . . . . . . . . . . . . . . . . . . . 3 1\n",
       "Actor 22 2 2 . . . . . . . . . . . . . . . . . . . . . . . . . . . . . . . .\n",
       "Actor 23 . . . . . . . . . . . . . . . . . . . . . . . . . . . . . . . . 2 3\n",
       "Actor 24 . . . . . . . . . . . . . . . . . . . . . . . . . 5 . 4 . 3 . . 5 4\n",
       "Actor 25 . . . . . . . . . . . . . . . . . . . . . . . . . 2 . 3 . . . 2 . .\n",
       "Actor 26 . . . . . . . . . . . . . . . . . . . . . . . 5 2 . . . . . . 7 . .\n",
       "Actor 27 . . . . . . . . . . . . . . . . . . . . . . . . . . . . . 4 . . . 2\n",
       "Actor 28 . . 2 . . . . . . . . . . . . . . . . . . . . 4 3 . . . . . . . . 4\n",
       "Actor 29 . . 2 . . . . . . . . . . . . . . . . . . . . . . . . . . . . 2 . 2\n",
       "Actor 30 . . . . . . . . . . . . . . . . . . . . . . . 3 . . 4 . . . . . 4 2\n",
       "Actor 31 . 2 . . . . . . 3 . . . . . . . . . . . . . . . . . . . . . . . 3 3\n",
       "Actor 32 2 . . . . . . . . . . . . . . . . . . . . . . . 2 7 . . 2 . . . 4 4\n",
       "Actor 33 . . 2 . . . . . 3 . . . . . 3 3 . . 1 . 3 . 2 5 . . . . . 4 3 4 . 5\n",
       "John A   . . . . . . . . 4 2 . . . 3 2 4 . . 2 1 1 . 3 4 . . 2 4 2 2 3 4 5 ."
      ]
     },
     "metadata": {},
     "output_type": "display_data"
    }
   ],
   "source": [
    "karate[]"
   ]
  },
  {
   "cell_type": "markdown",
   "metadata": {},
   "source": [
    "**Observations.** \n",
    "\n",
    "* Nodes are called \"actors\" in social network analysis and edges are usually referred to as \"ties\".\n",
    "* Entries of the adjacency matrix are now weights $a_{ij} = w_{ij}$.\n",
    "* The [karate club network](https://www.jstor.org/stable/3629752) is undirected, indeed the adjacency matrix is symmetric:"
   ]
  },
  {
   "cell_type": "code",
   "execution_count": 29,
   "metadata": {},
   "outputs": [
    {
     "data": {
      "text/html": [
       "TRUE"
      ],
      "text/latex": [
       "TRUE"
      ],
      "text/markdown": [
       "TRUE"
      ],
      "text/plain": [
       "[1] TRUE"
      ]
     },
     "metadata": {},
     "output_type": "display_data"
    }
   ],
   "source": [
    "isSymmetric(as.matrix(karate[]))"
   ]
  },
  {
   "cell_type": "markdown",
   "metadata": {},
   "source": [
    "### Degree of a weighted graph\n",
    "The _degree_ becomes then a weighted degree $$k_i = \\sum_j w_{ij}.$$\n",
    "\n",
    "We can also build the degree matrix $D$, a diagonal $N \\times N$ matrix having $d_{ii} = k_i$ on the diagonal."
   ]
  },
  {
   "cell_type": "code",
   "execution_count": 30,
   "metadata": {},
   "outputs": [
    {
     "data": {
      "text/html": [
       "<dl class=dl-horizontal>\n",
       "\t<dt>Mr Hi</dt>\n",
       "\t\t<dd>16</dd>\n",
       "\t<dt>Actor 2</dt>\n",
       "\t\t<dd>9</dd>\n",
       "\t<dt>Actor 3</dt>\n",
       "\t\t<dd>10</dd>\n",
       "\t<dt>Actor 4</dt>\n",
       "\t\t<dd>6</dd>\n",
       "\t<dt>Actor 5</dt>\n",
       "\t\t<dd>3</dd>\n",
       "\t<dt>Actor 6</dt>\n",
       "\t\t<dd>4</dd>\n",
       "</dl>\n"
      ],
      "text/latex": [
       "\\begin{description*}\n",
       "\\item[Mr Hi] 16\n",
       "\\item[Actor 2] 9\n",
       "\\item[Actor 3] 10\n",
       "\\item[Actor 4] 6\n",
       "\\item[Actor 5] 3\n",
       "\\item[Actor 6] 4\n",
       "\\end{description*}\n"
      ],
      "text/markdown": [
       "Mr Hi\n",
       ":   16Actor 2\n",
       ":   9Actor 3\n",
       ":   10Actor 4\n",
       ":   6Actor 5\n",
       ":   3Actor 6\n",
       ":   4\n",
       "\n"
      ],
      "text/plain": [
       "  Mr Hi Actor 2 Actor 3 Actor 4 Actor 5 Actor 6 \n",
       "     16       9      10       6       3       4 "
      ]
     },
     "metadata": {},
     "output_type": "display_data"
    }
   ],
   "source": [
    "head(degree(karate))"
   ]
  },
  {
   "cell_type": "code",
   "execution_count": 31,
   "metadata": {},
   "outputs": [
    {
     "data": {
      "image/png": "[encoded data removed]",
      "text/plain": [
       "plot without title"
      ]
     },
     "metadata": {},
     "output_type": "display_data"
    }
   ],
   "source": [
    "data <- data.frame(deg = degree(karate))\n",
    "ggplot(data = data, aes(x = deg)) + \n",
    "  geom_bar(aes(y = (..count..)/sum(..count..))) +\n",
    "  labs(x = \"k\", y = \"P(k)\")"
   ]
  },
  {
   "cell_type": "markdown",
   "metadata": {},
   "source": [
    "### 1.2 The Laplacian of a Graph\n",
    "\n",
    "A very important matrix in network science is the graph's Laplacian matrix $L$, also called admittance or Kirchhoff matrix, together with its _normalised_ counterpart $\\textbf{L}$. \n",
    "The main reference for the following paragraphs is [Chung, 1997](https://goo.gl/5wh715), a classic book in Spectral graph theory; the first chapther can be found [here](http://www.cs.ucsb.edu/~veronika/MAE/lecturesspectralgraphtheory_chung.pdf).\n",
    "\n",
    "###### Def. (Graph's Laplacian)\n",
    "\n",
    "Let $G$ be a weighted undirected graph such that $w$ is not-negative. Then the Laplacian matrix $L$ is a square $N \\times N$ matrix defined as\n",
    "\\begin{equation}\n",
    "    l_{ij} =\n",
    "    \\begin{cases}\n",
    "    k_i - w_{ii} & \\text{if } i = j \\\\\n",
    "    - w_{ij} & \\text{if } i \\neq j \\\\\n",
    "    0 & \\text{otherwise}\n",
    "    \\end{cases}\n",
    "\\end{equation}\n",
    "note that $L = D - A$, where $D$ and $A$ are respectively the degree and the adjacency matrices."
   ]
  },
  {
   "cell_type": "code",
   "execution_count": 32,
   "metadata": {},
   "outputs": [
    {
     "name": "stderr",
     "output_type": "stream",
     "text": [
      "   [[ suppressing 11 column names ‘a’, ‘b’, ‘c’ ... ]]\n"
     ]
    },
    {
     "data": {
      "text/plain": [
       "11 x 11 sparse Matrix of class \"dgCMatrix\"\n",
       "                                \n",
       "a  3 -1  . -1 -1  .  .  .  . . .\n",
       "b -1  2 -1  .  .  .  .  .  . . .\n",
       "c  . -1  2 -1  .  .  .  .  . . .\n",
       "d -1  . -1  2  .  .  .  .  . . .\n",
       "e -1  .  .  .  1  .  .  .  . . .\n",
       "h  .  .  .  .  .  3 -1 -1 -1 . .\n",
       "i  .  .  .  .  . -1  1  .  . . .\n",
       "j  .  .  .  .  . -1  .  1  . . .\n",
       "k  .  .  .  .  . -1  .  .  1 . .\n",
       "f  .  .  .  .  .  .  .  .  . 0 .\n",
       "g  .  .  .  .  .  .  .  .  . . 0"
      ]
     },
     "metadata": {},
     "output_type": "display_data"
    },
    {
     "data": {
      "text/plain": [
       "10 x 5 sparse Matrix of class \"dgCMatrix\"\n",
       "         Mr Hi Actor 2 Actor 3 Actor 4 Actor 5\n",
       "Mr Hi       42      -4      -5      -3      -3\n",
       "Actor 2     -4      29      -6      -3       .\n",
       "Actor 3     -5      -6      33      -3       .\n",
       "Actor 4     -3      -3      -3      18       .\n",
       "Actor 5     -3       .       .       .       8\n",
       "Actor 6     -3       .       .       .       .\n",
       "Actor 7     -3       .       .       .      -2\n",
       "Actor 8     -2      -4      -4      -3       .\n",
       "Actor 9     -2       .      -5       .       .\n",
       "Actor 10     .       .      -1       .       ."
      ]
     },
     "metadata": {},
     "output_type": "display_data"
    }
   ],
   "source": [
    "Lg <- laplacian_matrix(g, normalized = FALSE)\n",
    "Lk <- laplacian_matrix(karate, normalized = FALSE, weights = NULL) # if NULL and the graph has an edge attribute called \n",
    "                                                                   # weight, then it will be used automatically\n",
    "Lg\n",
    "Lk[1:10, 1:5]"
   ]
  },
  {
   "cell_type": "code",
   "execution_count": null,
   "metadata": {},
   "outputs": [],
   "source": []
  },
  {
   "cell_type": "code",
   "execution_count": 33,
   "metadata": {
    "scrolled": false
   },
   "outputs": [
    {
     "name": "stderr",
     "output_type": "stream",
     "text": [
      "   [[ suppressing 34 column names ‘Mr Hi’, ‘Actor 2’, ‘Actor 3’ ... ]]\n"
     ]
    },
    {
     "data": {
      "text/plain": [
       "34 x 34 sparse Matrix of class \"dgCMatrix\"\n",
       "                                                                             \n",
       "Mr Hi    42 -4 -5 -3 -3 -3 -3 -2 -2  . -2 -3 -1 -3  .  .  . -2  . -2  . -2  .\n",
       "Actor 2  -4 29 -6 -3  .  .  . -4  .  .  .  .  . -5  .  .  . -1  . -2  . -2  .\n",
       "Actor 3  -5 -6 33 -3  .  .  . -4 -5 -1  .  .  . -3  .  .  .  .  .  .  .  .  .\n",
       "Actor 4  -3 -3 -3 18  .  .  . -3  .  .  .  . -3 -3  .  .  .  .  .  .  .  .  .\n",
       "Actor 5  -3  .  .  .  8  . -2  .  .  . -3  .  .  .  .  .  .  .  .  .  .  .  .\n",
       "Actor 6  -3  .  .  .  . 14 -5  .  .  . -3  .  .  .  .  . -3  .  .  .  .  .  .\n",
       "Actor 7  -3  .  .  . -2 -5 13  .  .  .  .  .  .  .  .  . -3  .  .  .  .  .  .\n",
       "Actor 8  -2 -4 -4 -3  .  .  . 13  .  .  .  .  .  .  .  .  .  .  .  .  .  .  .\n",
       "Actor 9  -2  . -5  .  .  .  .  . 17  .  .  .  .  .  .  .  .  .  .  .  .  .  .\n",
       "Actor 10  .  . -1  .  .  .  .  .  .  3  .  .  .  .  .  .  .  .  .  .  .  .  .\n",
       "Actor 11 -2  .  .  . -3 -3  .  .  .  .  8  .  .  .  .  .  .  .  .  .  .  .  .\n",
       "Actor 12 -3  .  .  .  .  .  .  .  .  .  .  3  .  .  .  .  .  .  .  .  .  .  .\n",
       "Actor 13 -1  .  . -3  .  .  .  .  .  .  .  .  4  .  .  .  .  .  .  .  .  .  .\n",
       "Actor 14 -3 -5 -3 -3  .  .  .  .  .  .  .  .  . 17  .  .  .  .  .  .  .  .  .\n",
       "Actor 15  .  .  .  .  .  .  .  .  .  .  .  .  .  .  5  .  .  .  .  .  .  .  .\n",
       "Actor 16  .  .  .  .  .  .  .  .  .  .  .  .  .  .  .  7  .  .  .  .  .  .  .\n",
       "Actor 17  .  .  .  .  . -3 -3  .  .  .  .  .  .  .  .  .  6  .  .  .  .  .  .\n",
       "Actor 18 -2 -1  .  .  .  .  .  .  .  .  .  .  .  .  .  .  .  3  .  .  .  .  .\n",
       "Actor 19  .  .  .  .  .  .  .  .  .  .  .  .  .  .  .  .  .  .  3  .  .  .  .\n",
       "Actor 20 -2 -2  .  .  .  .  .  .  .  .  .  .  .  .  .  .  .  .  .  5  .  .  .\n",
       "Actor 21  .  .  .  .  .  .  .  .  .  .  .  .  .  .  .  .  .  .  .  .  4  .  .\n",
       "Actor 22 -2 -2  .  .  .  .  .  .  .  .  .  .  .  .  .  .  .  .  .  .  .  4  .\n",
       "Actor 23  .  .  .  .  .  .  .  .  .  .  .  .  .  .  .  .  .  .  .  .  .  .  5\n",
       "Actor 24  .  .  .  .  .  .  .  .  .  .  .  .  .  .  .  .  .  .  .  .  .  .  .\n",
       "Actor 25  .  .  .  .  .  .  .  .  .  .  .  .  .  .  .  .  .  .  .  .  .  .  .\n",
       "Actor 26  .  .  .  .  .  .  .  .  .  .  .  .  .  .  .  .  .  .  .  .  .  .  .\n",
       "Actor 27  .  .  .  .  .  .  .  .  .  .  .  .  .  .  .  .  .  .  .  .  .  .  .\n",
       "Actor 28  .  . -2  .  .  .  .  .  .  .  .  .  .  .  .  .  .  .  .  .  .  .  .\n",
       "Actor 29  .  . -2  .  .  .  .  .  .  .  .  .  .  .  .  .  .  .  .  .  .  .  .\n",
       "Actor 30  .  .  .  .  .  .  .  .  .  .  .  .  .  .  .  .  .  .  .  .  .  .  .\n",
       "Actor 31  . -2  .  .  .  .  .  . -3  .  .  .  .  .  .  .  .  .  .  .  .  .  .\n",
       "Actor 32 -2  .  .  .  .  .  .  .  .  .  .  .  .  .  .  .  .  .  .  .  .  .  .\n",
       "Actor 33  .  . -2  .  .  .  .  . -3  .  .  .  .  . -3 -3  .  . -1  . -3  . -2\n",
       "John A    .  .  .  .  .  .  .  . -4 -2  .  .  . -3 -2 -4  .  . -2 -1 -1  . -3\n",
       "                                         \n",
       "Mr Hi     .  .  .  .  .  .  .  . -2  .  .\n",
       "Actor 2   .  .  .  .  .  .  . -2  .  .  .\n",
       "Actor 3   .  .  .  . -2 -2  .  .  . -2  .\n",
       "Actor 4   .  .  .  .  .  .  .  .  .  .  .\n",
       "Actor 5   .  .  .  .  .  .  .  .  .  .  .\n",
       "Actor 6   .  .  .  .  .  .  .  .  .  .  .\n",
       "Actor 7   .  .  .  .  .  .  .  .  .  .  .\n",
       "Actor 8   .  .  .  .  .  .  .  .  .  .  .\n",
       "Actor 9   .  .  .  .  .  .  . -3  . -3 -4\n",
       "Actor 10  .  .  .  .  .  .  .  .  .  . -2\n",
       "Actor 11  .  .  .  .  .  .  .  .  .  .  .\n",
       "Actor 12  .  .  .  .  .  .  .  .  .  .  .\n",
       "Actor 13  .  .  .  .  .  .  .  .  .  .  .\n",
       "Actor 14  .  .  .  .  .  .  .  .  .  . -3\n",
       "Actor 15  .  .  .  .  .  .  .  .  . -3 -2\n",
       "Actor 16  .  .  .  .  .  .  .  .  . -3 -4\n",
       "Actor 17  .  .  .  .  .  .  .  .  .  .  .\n",
       "Actor 18  .  .  .  .  .  .  .  .  .  .  .\n",
       "Actor 19  .  .  .  .  .  .  .  .  . -1 -2\n",
       "Actor 20  .  .  .  .  .  .  .  .  .  . -1\n",
       "Actor 21  .  .  .  .  .  .  .  .  . -3 -1\n",
       "Actor 22  .  .  .  .  .  .  .  .  .  .  .\n",
       "Actor 23  .  .  .  .  .  .  .  .  . -2 -3\n",
       "Actor 24 21  . -5  . -4  . -3  .  . -5 -4\n",
       "Actor 25  .  7 -2  . -3  .  .  . -2  .  .\n",
       "Actor 26 -5 -2 14  .  .  .  .  . -7  .  .\n",
       "Actor 27  .  .  .  6  .  . -4  .  .  . -2\n",
       "Actor 28 -4 -3  .  . 13  .  .  .  .  . -4\n",
       "Actor 29  .  .  .  .  .  6  .  . -2  . -2\n",
       "Actor 30 -3  .  . -4  .  . 13  .  . -4 -2\n",
       "Actor 31  .  .  .  .  .  .  . 11  . -3 -3\n",
       "Actor 32  . -2 -7  .  . -2  .  . 21 -4 -4\n",
       "Actor 33 -5  .  .  .  .  . -4 -3 -4 38 -5\n",
       "John A   -4  .  . -2 -4 -2 -2 -3 -4 -5 48"
      ]
     },
     "metadata": {},
     "output_type": "display_data"
    }
   ],
   "source": [
    "laplacian_matrix(karate, normalized = FALSE)"
   ]
  },
  {
   "cell_type": "markdown",
   "metadata": {},
   "source": [
    "#### *Laplacian as an Operator\n",
    "\n",
    "$L$ can be seen as an **operator** on the space of functions $f: V \\to \\mathbb{R}$.\n",
    "Indeed let $v^i: V \\to \\mathbb{R}$ such that $v^i(v_j) = 1$ if $i=j$ and zero otherwise. Then $\\{v^1, \\dots, v^N\\}$ forms a basis of the vector space of all functions from $V$ to $\\mathbb{R}$ and every other function $g$ can be written as $g = \\sum_i g_i v^i$ and it can be thought as a column vector.\n",
    "\n",
    "The operator $L$ satisfies\n",
    "\\begin{align}\n",
    "  Lf(v_i) & = (k_i - w_{ii}) f(v) - \\sum_j w_{ij} f(v_j)\\\\\n",
    "  & = \\sum_{j} w_{ij} \\left( f(v_i) - f(v_j) \\right) \n",
    "\\end{align}\n",
    "\n",
    "and if $G$ is unweighted previous equation can be rewritten as\n",
    "\\begin{equation}\n",
    "    Lf(v_i) = C \\sum_{j} \\left( f(v_i) - f(v_j) \\right) a_{ij}\n",
    "\\end{equation}\n",
    "a diffusion operator with diffusion constant $C$.\n",
    "\n",
    "Indicating with $\\langle f, g \\rangle = \\sum_i f(v_i)g(v_i)$ the standard scalar product in $\\mathbb{R}^N$, we also have\n",
    "\\begin{align}\n",
    "  \\langle f, Lf \\rangle & = \\sum_{i} f(v_i) \\sum_{i, j} w_{ij} \\left( f(v_i) - f(v_j) \\right) \\\\\n",
    "  & = \\sum_{i, j} w_{ij} \\left( f(v_i)^2 - f(v_i)f(v_j) + f(v_j)^2\\right) \\\\\n",
    "  & = \\sum_{i, j} w_{ij} \\left( f(v_i) - f(v_j)\\right)^2\n",
    "\\end{align}\n",
    "\n",
    "Looking at the Laplacian as an operator provides to be very useful in characterising its _spectrum_, i.e. the set of its eigenvalues."
   ]
  },
  {
   "cell_type": "markdown",
   "metadata": {},
   "source": [
    "#### Normalised Laplacian\n",
    "\n",
    "Often with \"Laplacian\" one refers to the normalised matrix $\\textbf{L}$.\n",
    "\n",
    "##### Def. (Normalised Laplacian)\n",
    "$\\textbf{L}$ is defined as\n",
    "\\begin{equation}\n",
    "    \\textbf{l}_{ij} =\n",
    "    \\begin{cases}\n",
    "    1 - \\frac{w_{ii}}{k_i} & \\text{if } i = j \\\\\n",
    "    - \\frac{w_{ih}}{\\sqrt{k_i k_j}} & \\text{if } i \\neq j \\text{ and } e_{ij} \\in E \\\\\n",
    "    0 & \\text{otherwise}\n",
    "    \\end{cases}\n",
    "\\end{equation}\n",
    "and it can be written as $\\textbf{L}=D^{-\\frac12} L D^{-\\frac12}$, with the convention that $D^{-1}(v, v) = 0$ if $k_v=0$, i.e. $v$ is an isolated node.\n",
    "\n",
    "Further $\\textbf{L}=D^{-\\frac12} L D^{-\\frac12} = D^{-\\frac12} (D - A) D^{-\\frac12} = I - D^{-\\frac12} A D^{-\\frac12}$.\n",
    "\n",
    "Observe that for a _regular_ graph, that is an undirected graph with each vertex having the same degree $k$, last equation reduces to $I - \\frac{1}{k} A$."
   ]
  },
  {
   "cell_type": "code",
   "execution_count": 35,
   "metadata": {
    "scrolled": false
   },
   "outputs": [
    {
     "name": "stderr",
     "output_type": "stream",
     "text": [
      "   [[ suppressing 11 column names ‘a’, ‘b’, ‘c’ ... ]]\n"
     ]
    },
    {
     "data": {
      "text/plain": [
       "11 x 11 sparse Matrix of class \"dgCMatrix\"\n",
       "                                                                  \n",
       "a  1.000 -0.408  .   -0.408 -0.577  .      .      .      .     . .\n",
       "b -0.408  1.000 -0.5  .      .      .      .      .      .     . .\n",
       "c  .     -0.500  1.0 -0.500  .      .      .      .      .     . .\n",
       "d -0.408  .     -0.5  1.000  .      .      .      .      .     . .\n",
       "e -0.577  .      .    .      1.000  .      .      .      .     . .\n",
       "h  .      .      .    .      .      1.000 -0.577 -0.577 -0.577 . .\n",
       "i  .      .      .    .      .     -0.577  1.000  .      .     . .\n",
       "j  .      .      .    .      .     -0.577  .      1.000  .     . .\n",
       "k  .      .      .    .      .     -0.577  .      .      1.000 . .\n",
       "f  .      .      .    .      .      .      .      .      .     0 .\n",
       "g  .      .      .    .      .      .      .      .      .     . 0"
      ]
     },
     "metadata": {},
     "output_type": "display_data"
    },
    {
     "name": "stderr",
     "output_type": "stream",
     "text": [
      "   [[ suppressing 10 column names ‘Mr Hi’, ‘Actor 2’, ‘Actor 3’ ... ]]\n"
     ]
    },
    {
     "data": {
      "text/plain": [
       "10 x 10 sparse Matrix of class \"dgCMatrix\"\n",
       "                                                                              \n",
       "Mr Hi     1.000 -0.115 -0.134 -0.109 -0.164 -0.124 -0.128 -0.086 -0.075  .    \n",
       "Actor 2  -0.115  1.000 -0.194 -0.131  .      .      .     -0.206  .      .    \n",
       "Actor 3  -0.134 -0.194  1.000 -0.123  .      .      .     -0.193 -0.211 -0.101\n",
       "Actor 4  -0.109 -0.131 -0.123  1.000  .      .      .     -0.196  .      .    \n",
       "Actor 5  -0.164  .      .      .      1.000  .     -0.196  .      .      .    \n",
       "Actor 6  -0.124  .      .      .      .      1.000 -0.371  .      .      .    \n",
       "Actor 7  -0.128  .      .      .     -0.196 -0.371  1.000  .      .      .    \n",
       "Actor 8  -0.086 -0.206 -0.193 -0.196  .      .      .      1.000  .      .    \n",
       "Actor 9  -0.075  .     -0.211  .      .      .      .      .      1.000  .    \n",
       "Actor 10  .      .     -0.101  .      .      .      .      .      .      1.000"
      ]
     },
     "metadata": {},
     "output_type": "display_data"
    }
   ],
   "source": [
    "Lng <- laplacian_matrix(g, normalized = TRUE)\n",
    "Lnk <- laplacian_matrix(karate, normalized = TRUE)\n",
    "round(Lng, 3)\n",
    "round(Lnk[1:10, 1:10], 3)"
   ]
  },
  {
   "cell_type": "markdown",
   "metadata": {},
   "source": [
    "One can also visualise the Laplacian by means of a heatmap (I use `ggplot`).\n",
    "\n",
    "**N.B.** You can either load \n",
    "* two libraries `ggplot2` and `reshape2`\n",
    "* just `tidyverse`, [see here](https://www.tidyverse.org/)\n",
    "\n",
    "I suggest you the second option since `reshape2` is out of maintenance. Unfortunately syntax between `reshape2` and `tidyr` varies a bit, see [tidyr](https://tidyr.tidyverse.org/)."
   ]
  },
  {
   "cell_type": "code",
   "execution_count": 36,
   "metadata": {},
   "outputs": [
    {
     "data": {
      "image/png": "[encoded data removed]",
      "text/plain": [
       "plot without title"
      ]
     },
     "metadata": {},
     "output_type": "display_data"
    }
   ],
   "source": [
    "melted_Lng <- as_tibble(as.matrix(Lng)) %>%\n",
    "  mutate(Var1 = factor(row.names(.), levels = row.names(.))) %>% \n",
    "  gather(key = Var2, value = value, -Var1, na.rm = TRUE, factor_key = TRUE) \n",
    "\n",
    "# with reshape2 (I used column names Var1 and Var2 for backward compatibility with reshape2::melt())\n",
    "#\n",
    "# install.packages(\"reshape2\")  # install the package if you do not have it\n",
    "# library(reshape2)             # if you want to load the lilbrary, OR just use reshape2:: reshape2 has to be installed\n",
    "#\n",
    "# melted_Lng <- reshape2::melt(as.matrix(Lng))\n",
    "\n",
    "ggplot(data = melted_Lng, aes(x = Var1, y = Var2, fill = value)) + \n",
    "  geom_tile() +\n",
    "  coord_equal() +\n",
    "  scale_fill_gradient2(low = scales::muted(\"blue\"), mid = \"white\", high = scales::muted(\"red\")) + \n",
    "  labs(x = \"\", y = \"\", fill = \"\")"
   ]
  },
  {
   "cell_type": "code",
   "execution_count": 28,
   "metadata": {},
   "outputs": [
    {
     "data": {
      "image/png": "[encoded data removed]",
      "text/plain": [
       "plot without title"
      ]
     },
     "metadata": {},
     "output_type": "display_data"
    }
   ],
   "source": [
    "melted_Lnk <- as_tibble(as.matrix(Lnk)) %>%\n",
    "  mutate(Var1 = factor(row.names(.), levels = row.names(.))) %>% \n",
    "  gather(key = Var2, value = value, -Var1, na.rm = TRUE, factor_key = TRUE) \n",
    "\n",
    "ggplot(data = melted_Lnk, aes(x = Var1, y = Var2, fill = value)) + \n",
    "  geom_tile() +\n",
    "  coord_equal() +\n",
    "  scale_fill_gradient2(low = scales::muted(\"blue\"), mid = \"white\", high = scales::muted(\"red\")) + \n",
    "  theme(axis.text.x = element_text(angle = 90, hjust = 1)) +\n",
    "  labs(x = \"\", y = \"\", fill = \"\")"
   ]
  },
  {
   "cell_type": "markdown",
   "metadata": {},
   "source": [
    "#### Eigenvalues of the Laplacian\n",
    "\n",
    "Due to the assumption of the kernel symmetry $w$, the (normalised) Laplacian is real symmetric, so that its eigenvalues are **all real and non-negative**.\n",
    "\n",
    "Some important results are briefly summarised, for details and proofs see [Spectral Graph Theory, Chung 1977].\n",
    "As a function $g:V \\to \\mathbb{R}$ can be seen as a vector, we may consider the Rayleigh quotient\n",
    "\n",
    "\\begin{align}\n",
    "    \\frac{\\langle g, \\textbf{L}g \\rangle}{\\langle g, g \\rangle} & = \\frac{\\langle g, D^{-\\frac12} L D^{-\\frac12} g \\rangle}{\\langle g, g \\rangle} \\\\\n",
    "    & = \\frac{\\langle f, L f \\rangle}{\\langle D^{\\frac12}f, D^{\\frac12} f \\rangle} \\\\\n",
    "    & = \\frac{\\sum_{i, j} \\left( f(v_i) - f(v_j) \\right)^2 w_{ij}}{\\sum_{j} \\left( f(v_j) \\right)^2 k_j} \n",
    "\\end{align}\n",
    "\n",
    "From last equation we see that all eigenvalues are non-negative, indeed the smallest eigenvalue of $\\textbf{L}$ is $\\lambda_0=0$ with eigenvector (or eigenfunction) $\\phi_0 = \\frac{\\textbf{1}D^{\\frac12}}{\\sqrt{\\sum_i k_i}}$, so that $0 = \\lambda_0 \\leq \\lambda_1 \\leq \\dots \\leq \\lambda_{N-1}$.\n",
    "\n",
    "\n",
    "<div style=\"color:gray;padding-top:20pt\">\n",
    "<b>On Rayleigh Quotient.</b>\n",
    "    \n",
    "It can be shown that, for a given matrix $M$, the Rayleigh quotient $R(M, x)\\frac{x^*Mx}{x^*x}$ reaches its minimum value $\\lambda_{\\min}$ (the smallest eigenvalue of $M$) when $x = v_{\\min }$ (the corresponding eigenvector). \n",
    "\n",
    "Similarly, $R(M,x)\\leq \\lambda _{\\max }$ and $R(M,v_{\\max })=\\lambda _{\\max }$.\n",
    "</div>"
   ]
  },
  {
   "cell_type": "code",
   "execution_count": 37,
   "metadata": {},
   "outputs": [
    {
     "data": {
      "text/plain": [
       "eigen() decomposition\n",
       "$values\n",
       " [1] 1.692239e+00 1.618343e+00 1.589347e+00 1.524742e+00 1.512968e+00\n",
       " [6] 1.433716e+00 1.404903e+00 1.373293e+00 1.344767e+00 1.305398e+00\n",
       "[11] 1.211782e+00 1.133552e+00 1.112145e+00 1.014532e+00 1.000000e+00\n",
       "[16] 1.000000e+00 1.000000e+00 1.000000e+00 1.000000e+00 1.000000e+00\n",
       "[21] 1.000000e+00 9.558579e-01 8.977235e-01 8.431186e-01 8.082767e-01\n",
       "[26] 7.795576e-01 7.380337e-01 7.108636e-01 6.454944e-01 5.704647e-01\n",
       "[31] 4.214591e-01 2.473489e-01 1.100742e-01 6.661338e-16\n",
       "\n",
       "$vectors\n",
       "              [,1]         [,2]         [,3]          [,4]          [,5]\n",
       " [1,]  0.140879894  0.099229921  0.015237834  6.025471e-03  0.4892835897\n",
       " [2,]  0.094610987  0.016903807  0.031745002 -8.704123e-03  0.3853433247\n",
       " [3,] -0.038864435 -0.016402572  0.209481357  2.502494e-01 -0.2311411299\n",
       " [4,]  0.015332983 -0.003135855  0.021004546  5.131017e-02  0.1086675446\n",
       " [5,] -0.041580249 -0.477430288  0.005177156 -2.724742e-05 -0.0099543069\n",
       " [6,] -0.040155432 -0.542242971  0.006533821  4.955655e-05 -0.0088741321\n",
       " [7,] -0.002853967  0.427009181 -0.010571602 -2.545882e-03 -0.2065752962\n",
       " [8,] -0.039076863 -0.013249882 -0.088943863 -1.088420e-01 -0.1909214097\n",
       " [9,] -0.099746251  0.002237763 -0.162000397 -1.467705e-01  0.1036932219\n",
       "[10,] -0.077752296  0.008901658 -0.128669691 -1.455139e-01  0.0682840637\n",
       "[11,]  0.016763472  0.520618655 -0.009258013 -1.260168e-03 -0.0918902177\n",
       "[12,] -0.054391222 -0.042889319 -0.006910161 -3.068888e-03 -0.2549212747\n",
       "[13,] -0.023532543 -0.010588075 -0.014595567 -3.545696e-02 -0.1484864139\n",
       "[14,] -0.102863152 -0.016014324 -0.124733418 -1.362175e-01 -0.2410173349\n",
       "[15,] -0.191887067  0.017285911 -0.119498637  4.428013e-02  0.0705977727\n",
       "[16,] -0.216768940  0.018691439 -0.161842198 -2.645995e-02  0.0747214252\n",
       "[17,]  0.020388032  0.052467428  0.002464253  1.617122e-03  0.1424549564\n",
       "[18,] -0.050913788 -0.031523742 -0.010381677 -2.675663e-04 -0.2504849272\n",
       "[19,] -0.138171638  0.011595758 -0.113388002 -4.600063e-02  0.0457121307\n",
       "[20,] -0.083086496 -0.024273373 -0.048512651 -3.662373e-02 -0.2475018955\n",
       "[21,] -0.178425217  0.016626130 -0.093356755  9.176164e-02  0.0689724870\n",
       "[22,] -0.056782481 -0.029838563 -0.013992009  1.308385e-03 -0.2866737539\n",
       "[23,] -0.181755880  0.015549022 -0.139662120 -3.346989e-02  0.0619100234\n",
       "[24,] -0.353485161  0.036548280  0.331915403 -8.227188e-02  0.1023467500\n",
       "[25,] -0.055960550  0.011743186  0.320902426  8.677713e-02  0.0258360435\n",
       "[26,]  0.397285242 -0.035391918 -0.326557494 -2.398516e-02 -0.0867712827\n",
       "[27,] -0.042931299  0.005462229  0.188957536 -5.436908e-01 -0.0002014546\n",
       "[28,]  0.074342389 -0.011729302 -0.431204476 -1.538557e-01  0.0014642323\n",
       "[29,]  0.050284530  0.001930185 -0.139078351 -1.526259e-01  0.0722695574\n",
       "[30,] -0.024512524 -0.001437588 -0.331400845  5.499740e-01  0.0186462352\n",
       "[31,] -0.134839355  0.009427263 -0.050563463  6.759152e-02 -0.0748631333\n",
       "[32,] -0.393467191  0.021688196  0.075530206  4.665141e-02  0.0231386942\n",
       "[33,]  0.404859999 -0.035388091  0.128631588 -2.890048e-01 -0.1244079371\n",
       "[34,]  0.346375253 -0.023134545  0.328664509  3.072375e-01 -0.0707820259\n",
       "               [,6]         [,7]         [,8]         [,9]        [,10]\n",
       " [1,] -0.2379377727  0.286271796  0.054580943 -0.033177080 -0.339504712\n",
       " [2,]  0.0410054103 -0.436608628  0.074974655 -0.180753929  0.317436793\n",
       " [3,]  0.0077094518  0.268143921  0.237231469 -0.251745435  0.186788542\n",
       " [4,]  0.6612456944  0.167937984 -0.144689343  0.146022281 -0.068726259\n",
       " [5,]  0.0125940656 -0.006870998  0.007759335  0.096317888  0.158437041\n",
       " [6,]  0.0467976911 -0.096216064 -0.045620480 -0.234713483 -0.207493108\n",
       " [7,]  0.1355640535 -0.218180964 -0.081151797 -0.330404814 -0.191602899\n",
       " [8,] -0.2749536915 -0.047607524 -0.100606962  0.174196370 -0.192964461\n",
       " [9,]  0.0569963475 -0.330734578 -0.225840286  0.178001149  0.085034222\n",
       "[10,]  0.0045526771 -0.028519996 -0.089267006  0.060880683 -0.078567208\n",
       "[11,]  0.0183817745 -0.003416863  0.010895371  0.098721033  0.119345422\n",
       "[12,]  0.1466203040 -0.188957132 -0.039077488  0.025718688  0.297108656\n",
       "[13,] -0.4967039526 -0.201187305  0.125757353 -0.142319437  0.165330896\n",
       "[14,] -0.2194221952  0.032401992 -0.091667251  0.140834799 -0.158902478\n",
       "[15,] -0.0103160443  0.078507748 -0.062867911 -0.131356041  0.128002628\n",
       "[16,] -0.0045686895  0.091252760 -0.069758613 -0.119203372  0.096989488\n",
       "[17,] -0.1414911732  0.260819073  0.113847970  0.548373570  0.435504623\n",
       "[18,]  0.0876106435 -0.010365140 -0.047584656  0.073354394  0.086634991\n",
       "[19,] -0.0002132071  0.059142907 -0.043984653 -0.064864132  0.043685700\n",
       "[20,]  0.0624665748  0.096251424 -0.063374100  0.095515420 -0.025833459\n",
       "[21,] -0.0142786281  0.071303469 -0.059291707 -0.141445158  0.150514417\n",
       "[22,]  0.0670948139  0.091141502 -0.059857643  0.112204846 -0.021479557\n",
       "[23,] -0.0027854479  0.076891810 -0.058304934 -0.095643436  0.074299154\n",
       "[24,] -0.0463755811 -0.002815622 -0.145860327  0.007990969 -0.012455821\n",
       "[25,] -0.1199158510  0.002558058 -0.457612547  0.043545292  0.000138192\n",
       "[26,] -0.0039163450  0.196590283 -0.151103603 -0.233651183  0.243923493\n",
       "[27,]  0.0643652680  0.160506051  0.097225462 -0.188419502  0.153502506\n",
       "[28,]  0.1172104032 -0.027704495  0.394350504  0.013160449 -0.065753431\n",
       "[29,] -0.0377400403  0.018240923 -0.332050127  0.007054200  0.002284625\n",
       "[30,] -0.0573448824 -0.119446954 -0.094935010  0.136697810 -0.111658689\n",
       "[31,] -0.0447165963  0.362805241  0.061217309 -0.146383411 -0.095641551\n",
       "[32,]  0.0966290274 -0.194234241  0.468811313  0.170061852 -0.173643165\n",
       "[33,]  0.0303428513 -0.091241138  0.074088816  0.192734706 -0.198197150\n",
       "[34,] -0.0164963827 -0.092409835  0.056880777  0.025870409  0.031327977\n",
       "             [,11]        [,12]       [,13]         [,14]         [,15]\n",
       " [1,] -0.086883277  0.012038358 -0.12966660 -0.0085659282 -1.519636e-16\n",
       " [2,]  0.188165448  0.018725211  0.17391794  0.0224812063  1.710951e-16\n",
       " [3,]  0.186505061 -0.097168069 -0.32202731 -0.0495068643 -4.929807e-16\n",
       " [4,] -0.033069701  0.009131637  0.04253147  0.0090039411 -2.929431e-16\n",
       " [5,]  0.044535901  0.528569996 -0.09193290  0.0011873805  3.895900e-17\n",
       " [6,] -0.032047759 -0.499400899  0.11440457  0.0014971722 -1.895152e-16\n",
       " [7,]  0.007587831  0.459858062 -0.11530348 -0.0014847249 -2.186266e-16\n",
       " [8,] -0.287372114  0.090500115  0.25965516  0.2681538285  1.146220e-01\n",
       " [9,] -0.286204469 -0.100305437 -0.36856127 -0.0122751552 -9.821233e-16\n",
       "[10,]  0.239241494  0.013744182  0.08071074  0.3918366323 -3.849613e-01\n",
       "[11,]  0.008798981 -0.433992510  0.14438487  0.0044689398  5.252272e-16\n",
       "[12,]  0.109643585 -0.024090962  0.30901955  0.1575363608  1.991564e-01\n",
       "[13,]  0.086858654 -0.031128799 -0.04488091 -0.1735806291 -1.269781e-01\n",
       "[14,] -0.032257260  0.001317470 -0.05174608  0.0742073007  1.306967e-01\n",
       "[15,] -0.153879282  0.004959021  0.01214207  0.0434902742 -7.947711e-02\n",
       "[16,]  0.084510886 -0.034681742 -0.12583382  0.0691278825 -3.606674e-01\n",
       "[17,]  0.037362170  0.054370741  0.01532805  0.0009820520  4.458824e-16\n",
       "[18,] -0.022160049 -0.031092684  0.03974582 -0.0608314513 -2.675704e-01\n",
       "[19,]  0.152280774 -0.037452180 -0.13336800  0.0516811556  6.530531e-02\n",
       "[20,]  0.035987051 -0.058725565 -0.17851837 -0.1564396364 -6.488213e-02\n",
       "[21,] -0.313962099  0.031256347  0.10359412  0.0272116107 -1.157517e-01\n",
       "[22,] -0.101685085 -0.039945185 -0.10957074 -0.1963168248 -7.314054e-02\n",
       "[23,]  0.108975404 -0.035023162 -0.12609749  0.0609126323  7.284122e-01\n",
       "[24,] -0.021494175  0.022377972  0.08183177 -0.3284405518 -7.955078e-15\n",
       "[25,]  0.203559489 -0.021361154 -0.06292506  0.2775662544  6.273614e-15\n",
       "[26,] -0.120024417 -0.023427525 -0.08144438  0.1522001214 -4.847556e-16\n",
       "[27,] -0.161382610 -0.001431900 -0.01391772  0.1326695510  2.872940e-15\n",
       "[28,] -0.047849416  0.022941042  0.07735067 -0.1587658800  7.247490e-16\n",
       "[29,]  0.126034894  0.058422026  0.26898933 -0.6066382880 -5.437941e-15\n",
       "[30,]  0.183831474 -0.011958792 -0.03295235 -0.0031349373  2.453891e-16\n",
       "[31,]  0.178818966  0.136907127  0.50123688  0.0543120009  4.528820e-17\n",
       "[32,] -0.023119247  0.002250687 -0.00493892  0.0918229554  2.027708e-15\n",
       "[33,]  0.396772774 -0.031266782 -0.08923047 -0.0003463614 -8.197521e-16\n",
       "[34,] -0.416468967  0.047581205  0.13988216 -0.0043115888  7.754457e-16\n",
       "              [,16]         [,17]         [,18]         [,19]         [,20]\n",
       " [1,]  3.727041e-16 -1.154299e-16  0.000000e+00  2.531604e-16  7.315481e-17\n",
       " [2,] -6.209020e-16  2.234543e-16  5.763769e-16 -9.315606e-16  2.180571e-16\n",
       " [3,]  1.993941e-15 -3.058936e-16  9.281310e-16  1.893126e-15 -2.730094e-16\n",
       " [4,] -9.194968e-16 -1.968057e-16 -1.333331e-15 -4.480848e-16 -6.665010e-16\n",
       " [5,] -9.806475e-16  5.054404e-16 -1.059560e-15 -2.576527e-16  7.535986e-16\n",
       " [6,]  8.773001e-16 -7.407821e-16  9.264726e-16  3.273467e-18 -5.934318e-16\n",
       " [7,] -6.896367e-16 -1.273313e-16 -5.318789e-16  2.157310e-16  1.318415e-15\n",
       " [8,] -7.193064e-03 -5.102798e-02 -1.161083e-01  7.944399e-02  4.406512e-01\n",
       " [9,] -1.144722e-16 -9.353614e-16 -5.359342e-16 -3.830724e-16  5.589972e-16\n",
       "[10,] -1.729646e-01  1.407575e-01 -3.400429e-02 -4.419894e-01 -1.808389e-01\n",
       "[11,]  7.239518e-16 -3.429549e-16  3.787966e-16  2.618116e-16 -9.509041e-16\n",
       "[12,] -8.728277e-02  7.306733e-02 -8.143562e-02  2.690800e-01 -1.105030e-01\n",
       "[13,] -6.790409e-02  4.474249e-02 -3.455668e-02 -1.554326e-01  1.187152e-02\n",
       "[14,]  1.482135e-01 -3.388628e-02  2.040153e-01  2.295848e-01 -5.283777e-01\n",
       "[15,]  2.505315e-01 -1.053954e-01 -7.201229e-01 -1.518851e-01 -1.375310e-01\n",
       "[16,]  3.257322e-01  2.770938e-01  1.550725e-01  5.279845e-01  2.220176e-01\n",
       "[17,] -3.745595e-16  9.202707e-16 -3.017166e-16 -1.075246e-17 -1.401226e-16\n",
       "[18,]  4.382683e-01 -3.354464e-01  3.340878e-01 -4.034144e-01  3.006658e-01\n",
       "[19,] -5.394150e-01 -3.735623e-01 -1.993125e-02  1.447851e-01  4.218215e-01\n",
       "[20,] -1.554458e-01 -4.137188e-01 -2.078105e-01  5.457809e-02 -2.084264e-01\n",
       "[21,] -3.764427e-01 -5.114983e-02  4.493170e-01 -1.183320e-01 -2.588004e-01\n",
       "[22,] -2.857546e-01  6.614150e-01 -1.256086e-01 -1.824524e-01  1.647262e-01\n",
       "[23,]  1.907662e-01  1.337269e-01  1.429321e-01 -3.365246e-01  8.657486e-02\n",
       "[24,]  1.921180e-15 -1.158359e-15 -3.299343e-15  9.256415e-15  1.123778e-15\n",
       "[25,] -1.470792e-15 -2.802428e-16  2.669354e-15 -8.348684e-15 -1.295370e-15\n",
       "[26,] -5.869477e-16  3.295685e-15  6.997639e-16  1.241833e-15  2.055259e-15\n",
       "[27,] -6.675432e-16  3.051456e-17  1.503084e-15 -3.091128e-15  1.166900e-16\n",
       "[28,] -6.743442e-17 -2.596197e-15 -1.255741e-15  5.034078e-16 -2.340187e-15\n",
       "[29,]  2.726672e-15 -9.457542e-15 -4.453863e-15  6.045617e-15 -2.727090e-15\n",
       "[30,]  2.165003e-16 -9.892231e-17  2.512199e-16 -6.147523e-16  2.469194e-16\n",
       "[31,] -2.335599e-15 -2.675378e-16 -3.702127e-16 -2.498942e-15 -4.812462e-16\n",
       "[32,] -4.771117e-16  1.203353e-15  1.035526e-15 -2.409789e-15  3.645722e-16\n",
       "[33,] -1.590423e-16 -8.742204e-16 -7.555603e-18 -1.530874e-15 -1.253475e-15\n",
       "[34,]  2.271266e-16  1.407468e-15  6.611585e-17  9.719252e-16  1.034950e-15\n",
       "              [,21]        [,22]        [,23]        [,24]         [,25]\n",
       " [1,] -3.606458e-17 -0.019648540 -0.117599213 -0.292090364 -0.0607785398\n",
       " [2,] -1.463104e-16  0.045380411  0.179812740  0.347729285  0.0434087100\n",
       " [3,] -1.222243e-15 -0.065164928 -0.359731868  0.006455469  0.0809399541\n",
       " [4,]  9.161372e-16  0.013427452  0.083280077 -0.064036572  0.0080851691\n",
       " [5,]  1.944633e-15  0.004974172  0.043422493  0.153841285  0.0420487099\n",
       " [6,] -1.747135e-15  0.002597884  0.012845497  0.024808934  0.0035021760\n",
       " [7,]  1.059966e-15 -0.002319019 -0.011836618 -0.033610993 -0.0091981659\n",
       " [8,]  2.314162e-01 -0.051749910 -0.255794415  0.225159463  0.1093106228\n",
       " [9,] -5.680481e-16 -0.020015570  0.139630003 -0.370516616  0.3311750728\n",
       "[10,]  1.029126e-01 -0.323683622 -0.090146473 -0.047852904 -0.3147030436\n",
       "[11,] -1.209368e-15  0.010373639  0.069357712  0.209416014  0.0528342624\n",
       "[12,] -5.443922e-03 -0.118963409 -0.307301366 -0.497601511 -0.0847249695\n",
       "[13,]  8.239994e-02  0.073204585  0.199175518 -0.287960212 -0.0095482787\n",
       "[14,] -4.345064e-01 -0.063753771  0.126906684  0.192548080 -0.1489400956\n",
       "[15,] -2.451853e-01  0.140852505 -0.178358886  0.120150607  0.0455811184\n",
       "[16,]  1.998363e-01  0.004271795  0.021662445  0.067511330 -0.1952752220\n",
       "[17,]  6.998032e-16  0.001418728  0.001798817 -0.021012410 -0.0103175031\n",
       "[18,] -1.977496e-01  0.030909923 -0.016379048 -0.094099497 -0.0322092525\n",
       "[19,] -4.140335e-01 -0.056263084  0.098813398  0.017045585 -0.2184735428\n",
       "[20,]  5.957414e-01  0.041418863  0.235310549  0.091046940 -0.1444635117\n",
       "[21,]  1.062547e-01  0.233391304 -0.313445305  0.156844145  0.2056042781\n",
       "[22,] -1.484933e-01  0.122221113  0.149051183  0.124305256 -0.0068720778\n",
       "[23,]  2.035021e-01 -0.019263371  0.051085939  0.046541968 -0.2001408186\n",
       "[24,]  1.598981e-16 -0.561088112 -0.031227031  0.069810645  0.2175343871\n",
       "[25,] -1.755404e-16  0.500096060  0.017112498 -0.072392426  0.0165427279\n",
       "[26,] -2.952023e-15 -0.264468963  0.137258879  0.064713535  0.1084900932\n",
       "[27,] -5.475049e-16  0.214058922  0.048314185 -0.069173076 -0.1000465327\n",
       "[28,]  2.460631e-15  0.174686139 -0.107906627 -0.083365830 -0.0005387264\n",
       "[29,]  5.800573e-15  0.169536579 -0.229694049 -0.018614836 -0.2971861750\n",
       "[30,]  3.136584e-16  0.032944963 -0.031141217 -0.011226903  0.0645487460\n",
       "[31,] -3.290801e-16  0.064829709  0.444889863 -0.202495505  0.3417821366\n",
       "[32,]  1.488124e-16  0.124697993  0.048223349  0.010828295 -0.1126186614\n",
       "[33,]  1.162312e-15  0.056109960 -0.179676613  0.115634534  0.2838416462\n",
       "[34,] -2.978008e-16 -0.046432496  0.161607278 -0.048936185 -0.4108240047\n",
       "             [,26]         [,27]        [,28]        [,29]        [,30]\n",
       " [1,] -0.177231936  0.1430145741 -0.039189024  0.314434772  0.052537804\n",
       " [2,] -0.105043860  0.1037965904 -0.247558822 -0.022617129  0.032450222\n",
       " [3,]  0.306497330 -0.1514281473 -0.183768116 -0.119000575 -0.075678462\n",
       " [4,]  0.003275133 -0.0680246470  0.460790209 -0.248990185  0.141200733\n",
       " [5,]  0.163159401 -0.2512639521  0.177077226  0.445745025  0.024127540\n",
       " [6,]  0.002735990  0.0227768623 -0.030639285 -0.197019264 -0.024762877\n",
       " [7,] -0.038410810  0.0717498693 -0.059658703 -0.242064211 -0.025546774\n",
       " [8,]  0.104443765 -0.0342055660  0.001814989 -0.139797037  0.056476117\n",
       " [9,]  0.276263130 -0.0841440332 -0.173705134  0.010141747 -0.231109313\n",
       "[10,]  0.130112301 -0.1483947817 -0.069672299 -0.039344613 -0.079194202\n",
       "[11,]  0.193350991 -0.2754673628  0.184835496  0.410747574  0.018067329\n",
       "[12,] -0.214873441  0.1459052009 -0.036224107  0.237051898  0.032689556\n",
       "[13,] -0.056775846 -0.0496877966  0.552993172 -0.179890397  0.125659930\n",
       "[14,] -0.024982863 -0.0241309799 -0.018863816 -0.081289398  0.026061068\n",
       "[15,] -0.140966324  0.0691586001  0.139428142  0.019191343 -0.127528648\n",
       "[16,] -0.125439651 -0.0006649826  0.114044886  0.012548696 -0.148033913\n",
       "[17,] -0.055125229  0.1214953647 -0.104774481 -0.413857530 -0.039073300\n",
       "[18,] -0.194336598  0.1397494929 -0.115943775  0.151194620  0.029892555\n",
       "[19,] -0.067079241 -0.0304383080  0.056137308  0.004520328 -0.095870766\n",
       "[20,] -0.193832732  0.1061811527 -0.163157482  0.109644862  0.005614814\n",
       "[21,] -0.153437183  0.1164223429  0.158394500  0.023884678 -0.115956814\n",
       "[22,] -0.212543623  0.1578148151 -0.179906511  0.125014787  0.032902101\n",
       "[23,] -0.100190777 -0.0121821150  0.089211750  0.009174624 -0.124708632\n",
       "[24,] -0.216392646 -0.1402394952 -0.013245363 -0.031996400  0.181338153\n",
       "[25,] -0.111591715 -0.2337847030 -0.089277488 -0.046590603  0.010116466\n",
       "[26,]  0.090283612  0.2501090112  0.064025254  0.022207112  0.042586299\n",
       "[27,]  0.189158849  0.0543119498 -0.113452492  0.005504762  0.567639210\n",
       "[28,] -0.271833526 -0.5528265867 -0.175133787 -0.100982333  0.033523726\n",
       "[29,]  0.399779873  0.1099641270 -0.033435590 -0.018909838 -0.105739077\n",
       "[30,]  0.095380867  0.0683462437 -0.069811872  0.007412301  0.579576127\n",
       "[31,]  0.124021665 -0.0030494145 -0.135185173  0.010606578 -0.211612567\n",
       "[32,]  0.258540331  0.3763554135  0.098986900  0.065194661 -0.089726756\n",
       "[33,] -0.135227817  0.1674328722  0.191191699  0.038334555 -0.157691311\n",
       "[34,] -0.012731199 -0.1419320259 -0.010052432 -0.011927270 -0.158464409\n",
       "              [,31]       [,32]       [,33]       [,34]\n",
       " [1,] -5.731860e-02 -0.11256712 -0.28814558 -0.30151134\n",
       " [2,] -1.591580e-02 -0.34438667 -0.14084241 -0.25054054\n",
       " [3,] -9.842433e-03 -0.27308951 -0.06725901 -0.26726124\n",
       " [4,] -5.200872e-02 -0.31539717 -0.13436137 -0.19738551\n",
       " [5,] -2.174131e-05  0.16350094 -0.23229627 -0.13159034\n",
       " [6,]  3.629547e-02  0.35801748 -0.35714964 -0.17407766\n",
       " [7,]  3.446102e-02  0.33902251 -0.34138202 -0.16774543\n",
       " [8,] -3.506300e-02 -0.25931820 -0.10452288 -0.16774543\n",
       " [9,]  1.506013e-01 -0.06818518  0.05403598 -0.19182423\n",
       "[10,]  5.627088e-02 -0.01974038  0.04118929 -0.08058230\n",
       "[11,]  6.960048e-03  0.19998534 -0.24697876 -0.13159034\n",
       "[12,] -2.647875e-02 -0.03997181 -0.08653547 -0.08058230\n",
       "[13,] -3.942692e-02 -0.15969481 -0.07836028 -0.09304842\n",
       "[14,]  1.644953e-03 -0.22711352 -0.07671608 -0.19182423\n",
       "[15,]  1.391303e-01  0.04335480  0.10116210 -0.10403130\n",
       "[16,]  1.555438e-01  0.04759129  0.11743498 -0.12309149\n",
       "[17,]  4.076861e-02  0.30870737 -0.26166942 -0.11396058\n",
       "[18,] -2.060191e-02 -0.07570397 -0.07465790 -0.08058230\n",
       "[19,]  9.852595e-02  0.02980766  0.07605670 -0.08058230\n",
       "[20,]  4.213060e-03 -0.09016075 -0.05207837 -0.10403130\n",
       "[21,]  1.304460e-01  0.04122953  0.09197806 -0.09304842\n",
       "[22,] -2.039604e-02 -0.10804539 -0.07934999 -0.09304842\n",
       "[23,]  1.301799e-01  0.03969984  0.09893210 -0.10403130\n",
       "[24,] -1.478199e-01  0.14128692  0.22645795 -0.21320072\n",
       "[25,] -4.057116e-01  0.09058122  0.12551549 -0.12309149\n",
       "[26,] -4.897944e-01  0.14222691  0.18315111 -0.17407766\n",
       "[27,]  2.259534e-01  0.08198627  0.13037628 -0.11396058\n",
       "[28,] -2.283303e-01  0.06432732  0.14553304 -0.16774543\n",
       "[29,] -8.083288e-02 -0.01217344  0.05886632 -0.11396058\n",
       "[30,]  2.362584e-01  0.11659107  0.18839478 -0.16774543\n",
       "[31,]  1.629685e-01 -0.03751469  0.07654081 -0.15430335\n",
       "[32,] -3.877415e-01  0.11646581  0.17537480 -0.21320072\n",
       "[33,]  2.504531e-01  0.10512502  0.25912862 -0.28679449\n",
       "[34,]  2.012652e-01  0.07553345  0.26049118 -0.32232919\n"
      ]
     },
     "metadata": {},
     "output_type": "display_data"
    }
   ],
   "source": [
    "eigen(Lnk)"
   ]
  },
  {
   "cell_type": "markdown",
   "metadata": {},
   "source": [
    "### 1.3 Random Walks and Graphs\n",
    "\n",
    "Random walks and graphs are closely related. Let us build a simple random walk: given a startng point `x_start` and the number of steps `n_step`, the random walker can only move up or down with equal probability."
   ]
  },
  {
   "cell_type": "code",
   "execution_count": 38,
   "metadata": {},
   "outputs": [],
   "source": [
    "my_random_walk <- function(x_start, n_steps) {\n",
    "    r_steps <- rbinom(n = n_steps, size = 1, prob = 0.5)\n",
    "    r_steps <- 1*(r_steps) - 1*(rep(1, n_steps) - r_steps)\n",
    "    rw <- cbind(x = c(x_start[1]:(x_start[1] + n_steps)), \n",
    "                y = cumsum(c(x_start[2], r_steps)))\n",
    "    return(rw)\n",
    "}"
   ]
  },
  {
   "cell_type": "code",
   "execution_count": 41,
   "metadata": {},
   "outputs": [],
   "source": [
    "rw <- data.frame(my_random_walk(x_start = c(0, 0), n_steps = 2000))"
   ]
  },
  {
   "cell_type": "code",
   "execution_count": 42,
   "metadata": {},
   "outputs": [
    {
     "data": {
      "image/png": "[encoded data removed]",
      "text/plain": [
       "plot without title"
      ]
     },
     "metadata": {},
     "output_type": "display_data"
    }
   ],
   "source": [
    "options(repr.plot.width = 9, repr.plot.height = 3)\n",
    "ggplot(rw, aes(x = x, y = y)) +\n",
    "  geom_line() +\n",
    "  labs(x = \"\", y = \"\")\n",
    "options(repr.plot.width = 4*1.5, repr.plot.height = 3*1.5)"
   ]
  },
  {
   "cell_type": "markdown",
   "metadata": {},
   "source": [
    "Figure: At each step a random walker starting from $x_0 = 0$ can move up or down ($\\pm 1$) with equal probability.\n",
    "\n",
    "We use to represent it graphically by means of a state diagram, which looks like\n",
    "\n",
    "<img src=\"./rw-graph-lattice.png\" alt=\"Drawing\" style=\"width: 350px;\"/>\n",
    "\n",
    "This is called a **lattice random walk**, a one dimensional Markov chain with states $\\{0, \\pm 1, \\pm 2, \\dots\\}$. \n",
    "Now let us look at the following graph"
   ]
  },
  {
   "cell_type": "code",
   "execution_count": 32,
   "metadata": {},
   "outputs": [
    {
     "data": {
      "image/png": "[encoded data removed]",
      "text/plain": [
       "Plot with title “”"
      ]
     },
     "metadata": {},
     "output_type": "display_data"
    }
   ],
   "source": [
    "lattice_g <- make_lattice(c(4, 4))\n",
    "lattice_layout <- as.matrix(expand.grid(x = c(1:4), y = c(1:4))) %*% matrix(c(1/sqrt(2), -1/sqrt(2), 1/sqrt(2), 1/sqrt(2)), nrow = 2)\n",
    "plot(lattice_g, layout = lattice_layout, vertex.label = \"\")"
   ]
  },
  {
   "cell_type": "markdown",
   "metadata": {},
   "source": [
    "This is called a _lattice graph_ or simply a lattice. So we can think of finite state **Markov chains as graphs** where each node has $k_i$ links (in simple undirected graphs), so that the walker can randomly choose one of the $k_i$ possible directions. Let us formalise it.\n",
    "\n",
    "Let  $G=(V, E)$ be an undirected unweighted graph with vertices $V = 1, \\dots, N$, with adjacency matrix $A$ and degree matrix $D = \\text{diag}(k_i)$; start a random walk at one node, which may be fixed or drawn from an initial distribution $p_0: V \\to \\mathbb{R}$ - since $V$ is finite, the initial distribution can be seen as a row vector $\\textbf{p}_0=(p_0(i))_{i \\in V}$.\n",
    "\n",
    "Let $X_t$ be the position of the walker at time $t$ and indicate by $p_t(i) = p(X_t = i)$.\n",
    "If $X_t = i$ in a single time step the walker can move to one of $i$'s adjacent vertices, with probability $\\frac{1}{k_i}$.\n",
    "\n",
    "The sequence of random positions $\\{X_t : t = 1, 2, \\dots\\}$ is a time-homogeneous Markov chain with transition probability\n",
    "\\begin{equation}\n",
    "  p_{ij} = \\frac{a_{ij}}{k_i}.\n",
    "\\end{equation}\n",
    "In matrix form\n",
    "\\begin{equation*}\n",
    "  P = D^{-1}A\n",
    "\\end{equation*}\n",
    "so that the probability of being in $j$ at time $t+1$ is given by\n",
    "\\begin{align}\n",
    "  p_{t+1}(j) & = \\sum_i \\frac{a_{ij}}{k_i} p_t(i) \\\\\n",
    "  \\textbf{p}_{t+1} & = \\textbf{p}_t D^{-1}A = \\textbf{p}_t P \\\\\n",
    "  \\textbf{p}_{t+1} & = \\textbf{p}_0 P^{t+1}\n",
    "\\end{align}\n",
    "\n",
    "\n",
    "Probabilities $\\textbf{p}_0, \\textbf{p}_1, \\dots$ are different in general, but for the case of _stationary distribution_ $\\boldsymbol{\\pi}$, which satisfies\n",
    "\\begin{equation}\n",
    "  \\boldsymbol{\\pi} = \\boldsymbol{\\pi} P.\n",
    "\\end{equation}\n",
    "\n",
    "In words: if the initial position $X_0$ of the random walker is random with distribution $\\boldsymbol{\\pi}$ then after $t$ time steps $X_t$ will have the same probability distribution.\n",
    "\n",
    "If the random walk is (i) **irreducible**, i.e. for all pairs $i, j \\in V$ there exists some $s$ such that $p_{ij}^s = p(X_{t+s} = j | X_t = i) > 0$ then a unique stationary distribution exists.\n",
    "\n",
    "Further, if it is also (ii) **aperiodic**, i.e. $\\text{gcd}\\{s : p_{ij}^s > 0 \\}=1$, then the random walk is said \\textit{ergodic} and the following convergence theorem holds\n",
    "\n",
    "> **Thmeorem [Thm.1.8.3, Norris]**\n",
    "For any initial distribution $f$\n",
    "\\begin{equation}\n",
    "  \\lim_{s\\to\\infty} f P^s = \\boldsymbol{\\pi}\n",
    "\\end{equation}\n",
    "provided the chain is aperiodic.\n",
    "\n",
    "\n",
    "The two conditions for ergodicity in terms of graph $G$ are \n",
    "\n",
    "* $G$ is connected (i)\n",
    "* $G$ is non-bipartite (ii).\n",
    "\n",
    "In terms of eigenvalues of the Laplacian $\\textbf{L}$, [Lemma 1.7, Chung 1977]\n",
    "\n",
    "* $\\lambda_1>0$ (i) and \n",
    "* $\\lambda_{N-1}<2$ (ii).\n",
    "\n",
    "Now, let us write $P = D^{-1}A = D^{-\\frac12}D^{-\\frac12}AD^{-\\frac12}D^{\\frac12} = D^{-\\frac12} (I - \\textbf{L}) D^{\\frac12}$, where $\\textbf{L}$ is the **normalised Laplacian**.\n",
    "\n",
    "It follows that, in a random walk with an associated connected graph, the transition matrix satisfies $\\textbf{1} D P=\\textbf{1} DD^{-1}A=D$, therefore the stationary distribution\n",
    "\\begin{equation}\n",
    "\\boldsymbol{\\pi} = \\frac{1}{\\sum_i k_i}D.\n",
    "\\end{equation}\n",
    "\n",
    "**N.B.** Everything can be generalised to weighted connected networks.\n",
    "\n",
    "A random walk such that $\\pi(i)p_{ij}=\\pi(j)p_{ji}$ is called _reversible_.\n",
    "The associated weighted connected network $G$ has weights satisfying\n",
    "\\begin{equation}\n",
    "w(i, j) = w(j, i) = \\pi(i) p_{ij} \\frac{1}{c}\n",
    "\\end{equation}\n",
    "where $c$ is a constant that can be chosen in order to simplify calculations.\n",
    "Transition probabilities are $p_{ij} = \\frac{w(i, j)}{k_i}$ with $k_i$, weighted degree of $i$."
   ]
  },
  {
   "cell_type": "markdown",
   "metadata": {},
   "source": [
    "### Further References on Random Walks and Related Articles.\n",
    "\n",
    "[Masuda, N., Porter, M. A., & Lambiotte, R. (2017). Random walks and diffusion on networks. Physics reports, 716, 1-58.](https://journals.aps.org/prx/abstract/10.1103/PhysRevX.3.041022)\n",
    "\n",
    "[Noh, J. D., & Rieger, H. (2004). Random walks on complex networks. Physical review letters, 92(11), 118701.](https://journals.aps.org/prl/abstract/10.1103/PhysRevLett.92.118701).\n",
    "\n",
    "[De Domenico, M. (2017). Diffusion geometry unravels the emergence of functional clusters in collective phenomena. Physical review letters, 118(16), 168301.](https://journals.aps.org/prl/abstract/10.1103/PhysRevLett.118.168301).\n",
    "\n"
   ]
  },
  {
   "cell_type": "code",
   "execution_count": null,
   "metadata": {},
   "outputs": [],
   "source": []
  }
 ],
 "metadata": {
  "kernelspec": {
   "display_name": "R",
   "language": "R",
   "name": "ir"
  },
  "language_info": {
   "codemirror_mode": "r",
   "file_extension": ".r",
   "mimetype": "text/x-r-source",
   "name": "R",
   "pygments_lexer": "r",
   "version": "3.5.2"
  }
 },
 "nbformat": 4,
 "nbformat_minor": 2
}
