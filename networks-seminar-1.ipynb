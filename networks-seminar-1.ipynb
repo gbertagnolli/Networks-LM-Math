{
 "cells": [
  {
   "cell_type": "code",
   "execution_count": 95,
   "metadata": {},
   "outputs": [],
   "source": [
    "# Clear workspace\n",
    "# rm(list = ls())\n",
    "# Load libraries\n",
    "library(IRdisplay)\n",
    "library(igraph)\n",
    "igraph_options(vertex.frame.color = \"white\", vertex.frame.size = 1)\n",
    "# library(sigmajs)\n",
    "library(reshape2)\n",
    "library(ggplot2)\n",
    "theme_set(new = theme_light())\n",
    "# library(colorspace)\n",
    "mygreen <- hcl(h = c(135), c = 70, l = 80)\n",
    "options(repr.plot.width = 4*1.5, repr.plot.height = 3*1.5)"
   ]
  },
  {
   "cell_type": "markdown",
   "metadata": {},
   "source": [
    "# Networks: A very brief Introduction\n",
    "\n",
    "A seminar series on Networks for the Masters in Math and Data Science.\n",
    "\n",
    "\n",
    "Practical Issues:\n",
    "\n",
    "* R needed\n",
    "* I am using Jupyter Notebooks (read [this, on _Nature_](https://www.nature.com/articles/d41586-018-07196-1) to see how **cool** Jupyter is!!): [![Binder](http://mybinder.org/badge.svg)](https://mybinder.org/v2/gh/jules91/Networks-LM-Math.git/master)\n",
    "    \n",
    "    * http://jupyter.org/install\n",
    "    * https://irkernel.github.io/installation/\n",
    "    * just as Rmarkdown (code not in chunks but in code-cells and markdown in markdown-cells)\n",
    "\n",
    "## Contents\n",
    "\n",
    "0. Why do we study Networks?\n",
    "\n",
    "  * Complex Systems\n",
    "  * Network Modeling\n",
    "\n",
    "1. Fundamentals of Graph Theory\n",
    "  \n",
    "  * Definitions\n",
    "  * The Laplacian of a Graph\n",
    "  * Random Walks and Graphs\n",
    "  \n",
    "2. Network Centrality\n",
    "3. Community Detection\n",
    "4. _Current Research at CoMuNe Lab - FBK_"
   ]
  },
  {
   "cell_type": "markdown",
   "metadata": {},
   "source": [
    "## 0. Why do we study Networks?\n",
    "\n",
    "### Complex Systems\n",
    "\n",
    "[Top 20 Papers That Will Introduce You to Complexity Theory Research\n",
    "](http://complexitylabs.io/Blog/top-resources-for-learning-complexity/?portfolioCats=401)\n",
    "\n",
    "##### Some Keywords:\n",
    "\n",
    "* interacting parts\n",
    "* emergence\n",
    "* collective behaviour\n",
    "* self-organisation\n",
    "* evolution\n",
    "* patterns\n",
    "* non-linearity\n",
    "* ...\n",
    "\n",
    "##### Some examples\n",
    "\n",
    "* Ecosystems\n",
    "* Human body or brain...\n",
    "* An [ant colony](https://www.quantamagazine.org/ants-build-complex-structures-with-a-few-simple-rules-20140409/)\n",
    "* ...\n",
    "* Millennium Bridge, London, 2000"
   ]
  },
  {
   "cell_type": "code",
   "execution_count": 2,
   "metadata": {},
   "outputs": [
    {
     "data": {
      "text/html": [
       "<iframe width=\"560\" height=\"315\" \n",
       "                          src=\"https://www.youtube.com/embed/eAXVa__XWZ8\" \n",
       "                          frameborder=\"0\" allow=\"accelerometer; autoplay; encrypted-media; gyroscope; \n",
       "                          picture-in-picture\" allowfullscreen></iframe>"
      ]
     },
     "metadata": {},
     "output_type": "display_data"
    }
   ],
   "source": [
    "IRdisplay::display_html('<iframe width=\"560\" height=\"315\" \n",
    "                          src=\"https://www.youtube.com/embed/eAXVa__XWZ8\" \n",
    "                          frameborder=\"0\" allow=\"accelerometer; autoplay; encrypted-media; gyroscope; \n",
    "                          picture-in-picture\" allowfullscreen></iframe>')"
   ]
  },
  {
   "cell_type": "markdown",
   "metadata": {},
   "source": [
    "### Network Modeling\n",
    "\n",
    "Networks as mathematical models of complex systems, [Borgatti, Halgin 2011](http://steveborgatti.com/papers/orsc.1110.0641.pdf).\n",
    "\n",
    "> A graph $G = (V, E)$ is a pair of sets, where the elements of $V$ are called _vertices_ (nodes), $E \\subseteq V \\times V$.\n",
    "\n",
    "> For $u, v \\in V$, $(u, v) \\in E$, or $\\{u, v\\} \\in E$ if $G$ is undirected, are called _edges_. \n",
    "\n",
    "Elements ~ **vertices**, interactions and relationships ~ **edges**. \n",
    "\n",
    "The pattern of connections in a network yields a particular network structure so we can study its characteristics (e.g. edge denity, rich-clubs, **community structure** etc.) and what position vertices occupy (node **centrality**).\n",
    "\n",
    "\n",
    "#### Importance of Network Modeling"
   ]
  },
  {
   "cell_type": "markdown",
   "metadata": {},
   "source": [
    "## 1. Fundamentals of Graph Theory\n",
    "\n",
    "Throughout this course we are going to mix theory and practice, so to have a rough idea of network analysis in R.\n",
    "\n",
    "R packages required:\n",
    "\n",
    "* `igraph`, see [`igraph`'s documentation](http://igraph.org/r/doc/);\n",
    "* `sigmajs`;\n",
    "* ..."
   ]
  },
  {
   "cell_type": "markdown",
   "metadata": {},
   "source": [
    "### 1.1 Definitions\n",
    "\n",
    "###### Def. (Graph)\n",
    "A graph $G = (V, E)$ is a pair of sets, where the elements of $V$ are called vertices (nodes), $E \\subseteq V \\times V$, whit $(u, v) \\in E$ (if $G$ is undirected $\\{u, v\\}$) is an _edge_ for $u, v \\in V$. "
   ]
  },
  {
   "cell_type": "code",
   "execution_count": 32,
   "metadata": {},
   "outputs": [
    {
     "data": {
      "image/png": "[encoded data removed]",
      "text/plain": [
       "Plot with title “”"
      ]
     },
     "metadata": {},
     "output_type": "display_data"
    }
   ],
   "source": [
    "g <- make_graph(edges = c(\"a\", \"b\", \"b\", \"c\", \"a\", \"d\", \"c\", \"d\", \"a\", \"e\"), directed = FALSE)\n",
    "plot(g)"
   ]
  },
  {
   "cell_type": "markdown",
   "metadata": {},
   "source": [
    "Networks do not have to be _connected_. A disconnected network is one in which some nodes cannot reach certain others by any path; the network is divided into _components_. Nodes without any adjacent are said to be _isolated_."
   ]
  },
  {
   "cell_type": "code",
   "execution_count": 40,
   "metadata": {},
   "outputs": [
    {
     "data": {
      "image/png": "[encoded data removed]",
      "text/plain": [
       "Plot with title “”"
      ]
     },
     "metadata": {},
     "output_type": "display_data"
    }
   ],
   "source": [
    "g <- make_graph(edges = c(\"a\", \"b\", \"b\", \"c\", \"a\", \"d\", \"c\", \"d\", \"a\", \"e\", \"h\", \"i\", \"h\", \"j\", \"h\", \"k\"), \n",
    "                isolates = c(\"f\", \"g\"),\n",
    "                directed = FALSE)\n",
    "plot(g)"
   ]
  },
  {
   "cell_type": "markdown",
   "metadata": {},
   "source": [
    "You can explore the graph, asking for the sets $V$, $E$."
   ]
  },
  {
   "cell_type": "code",
   "execution_count": 41,
   "metadata": {},
   "outputs": [
    {
     "data": {
      "text/plain": [
       "+ 11/11 vertices, named, from 941b8a7:\n",
       " [1] a b c d e h i j k f g"
      ]
     },
     "metadata": {},
     "output_type": "display_data"
    },
    {
     "data": {
      "text/plain": [
       "+ 8/8 edges from 941b8a7 (vertex names):\n",
       "[1] a--b b--c a--d c--d a--e h--i h--j h--k"
      ]
     },
     "metadata": {},
     "output_type": "display_data"
    }
   ],
   "source": [
    "V(g)\n",
    "E(g)"
   ]
  },
  {
   "cell_type": "markdown",
   "metadata": {},
   "source": [
    "Given a vertex $u$ we can loo at its _adjacents_ or _adjacency set orlist_\n",
    "$$\n",
    "A(u) = \\{v \\in V(G) : (u, v) \\in E\\}.\n",
    "$$\n",
    "Take \"a\" in our example:"
   ]
  },
  {
   "cell_type": "code",
   "execution_count": 43,
   "metadata": {},
   "outputs": [
    {
     "data": {
      "text/plain": [
       "$a\n",
       "+ 3/11 vertices, named, from 941b8a7:\n",
       "[1] b d e\n"
      ]
     },
     "metadata": {},
     "output_type": "display_data"
    }
   ],
   "source": [
    "adjacent_vertices(g, \"a\")"
   ]
  },
  {
   "cell_type": "markdown",
   "metadata": {},
   "source": [
    "A graph is completely determined by $V$ and the adjacency sets $A(u)$ for each $u \\in V$\n",
    "\n",
    "```r\n",
    "as_adj_list(graph, mode = c(\"all\", \"out\", \"in\", \"total\"))\n",
    "```"
   ]
  },
  {
   "cell_type": "code",
   "execution_count": 38,
   "metadata": {},
   "outputs": [
    {
     "data": {
      "text/plain": [
       "$a\n",
       "+ 3/5 vertices, named, from 1e44cee:\n",
       "[1] b d e\n",
       "\n",
       "$b\n",
       "+ 2/5 vertices, named, from 1e44cee:\n",
       "[1] a c\n",
       "\n",
       "$c\n",
       "+ 2/5 vertices, named, from 1e44cee:\n",
       "[1] b d\n",
       "\n",
       "$d\n",
       "+ 2/5 vertices, named, from 1e44cee:\n",
       "[1] a c\n",
       "\n",
       "$e\n",
       "+ 1/5 vertex, named, from 1e44cee:\n",
       "[1] a\n"
      ]
     },
     "metadata": {},
     "output_type": "display_data"
    }
   ],
   "source": [
    "as_adj_list(g)  "
   ]
  },
  {
   "cell_type": "markdown",
   "metadata": {},
   "source": [
    "Take node \"a\", from its adjacency list we can build the following vector "
   ]
  },
  {
   "cell_type": "code",
   "execution_count": 46,
   "metadata": {},
   "outputs": [
    {
     "data": {
      "text/html": [
       "<dl class=dl-horizontal>\n",
       "\t<dt>a</dt>\n",
       "\t\t<dd>0</dd>\n",
       "\t<dt>b</dt>\n",
       "\t\t<dd>1</dd>\n",
       "\t<dt>c</dt>\n",
       "\t\t<dd>0</dd>\n",
       "\t<dt>d</dt>\n",
       "\t\t<dd>1</dd>\n",
       "\t<dt>e</dt>\n",
       "\t\t<dd>1</dd>\n",
       "\t<dt>h</dt>\n",
       "\t\t<dd>0</dd>\n",
       "\t<dt>i</dt>\n",
       "\t\t<dd>0</dd>\n",
       "\t<dt>j</dt>\n",
       "\t\t<dd>0</dd>\n",
       "\t<dt>k</dt>\n",
       "\t\t<dd>0</dd>\n",
       "\t<dt>f</dt>\n",
       "\t\t<dd>0</dd>\n",
       "\t<dt>g</dt>\n",
       "\t\t<dd>0</dd>\n",
       "</dl>\n"
      ],
      "text/latex": [
       "\\begin{description*}\n",
       "\\item[a] 0\n",
       "\\item[b] 1\n",
       "\\item[c] 0\n",
       "\\item[d] 1\n",
       "\\item[e] 1\n",
       "\\item[h] 0\n",
       "\\item[i] 0\n",
       "\\item[j] 0\n",
       "\\item[k] 0\n",
       "\\item[f] 0\n",
       "\\item[g] 0\n",
       "\\end{description*}\n"
      ],
      "text/markdown": [
       "a\n",
       ":   0b\n",
       ":   1c\n",
       ":   0d\n",
       ":   1e\n",
       ":   1h\n",
       ":   0i\n",
       ":   0j\n",
       ":   0k\n",
       ":   0f\n",
       ":   0g\n",
       ":   0\n",
       "\n"
      ],
      "text/plain": [
       "a b c d e h i j k f g \n",
       "0 1 0 1 1 0 0 0 0 0 0 "
      ]
     },
     "metadata": {},
     "output_type": "display_data"
    }
   ],
   "source": [
    "g[\"a\", ]"
   ]
  },
  {
   "cell_type": "markdown",
   "metadata": {},
   "source": [
    "Putting all vectors together, for each node in $G$, we get a very important matrix, which completely determines $G$: the _adjacency matrix_.\n",
    "\n",
    "###### Def. (Adjacency Matrix)\n",
    "Given a graph $G = (V, E)$ with $N = |V|$ vertices, which can be labeled from $1, \\dots, N$.\n",
    "The adjacency matrix $A$ of $G$ is defined as\n",
    "$A = \\{a_{ij}\\}_{i,j=1}^{N}$, where its elements are\n",
    "$$a_{ij} = \n",
    "\\begin{cases}\n",
    "1 & (i, j) \\in V \\\\\n",
    "0 & \\text{otherwise}\n",
    "\\end{cases}$$\n",
    "\n",
    "```r\n",
    "as_adjacency_matrix(graph, type = c(\"both\", \"upper\", \"lower\"), attr = NULL, \n",
    "                    edges = FALSE, names = TRUE, sparse = igraph_opt(\"sparsematrices\"))\n",
    "```"
   ]
  },
  {
   "cell_type": "code",
   "execution_count": 7,
   "metadata": {},
   "outputs": [
    {
     "name": "stderr",
     "output_type": "stream",
     "text": [
      "   [[ suppressing 11 column names ‘a’, ‘b’, ‘c’ ... ]]\n"
     ]
    },
    {
     "data": {
      "text/plain": [
       "11 x 11 sparse Matrix of class \"dgCMatrix\"\n",
       "                       \n",
       "a . 1 . 1 1 . . . . . .\n",
       "b 1 . 1 . . . . . . . .\n",
       "c . 1 . 1 . . . . . . .\n",
       "d 1 . 1 . . . . . . . .\n",
       "e 1 . . . . . . . . . .\n",
       "h . . . . . . 1 1 1 . .\n",
       "i . . . . . 1 . . . . .\n",
       "j . . . . . 1 . . . . .\n",
       "k . . . . . 1 . . . . .\n",
       "f . . . . . . . . . . .\n",
       "g . . . . . . . . . . ."
      ]
     },
     "metadata": {},
     "output_type": "display_data"
    }
   ],
   "source": [
    "g[] # equivalently: as_adjacency_matrix(g)"
   ]
  },
  {
   "cell_type": "markdown",
   "metadata": {},
   "source": [
    "**Observation:** The adjacency matrix of $G$ is a block matrix, $G$ is not connected."
   ]
  },
  {
   "cell_type": "markdown",
   "metadata": {},
   "source": [
    "Graphs are also very stuidied as a data structure:\n",
    "\n",
    "* graphs and trees (an undirected graph $G$ is a tree if for each $u, v \\in G$ there exists a unique path connecting $u$ and $v$;\n",
    "* representations of graphs: adjacency sets and lists, matrices\n",
    "* search algorithms on graphs\n",
    "* ...\n",
    "\n",
    "We will now see several ways to save an igraph-graph and the other way around\n",
    "\n",
    "```r\n",
    "write_graph(graph, file, format = c(\"edgelist\", ...), ...)\n",
    "read_graph(file, format = c(\"edgelist\", ...), ...)\n",
    "```"
   ]
  },
  {
   "cell_type": "code",
   "execution_count": 48,
   "metadata": {},
   "outputs": [
    {
     "data": {
      "text/plain": [
       "$a\n",
       "+ 3/8 edges from 941b8a7 (vertex names):\n",
       "[1] a--b a--d a--e\n",
       "\n",
       "$b\n",
       "+ 2/8 edges from 941b8a7 (vertex names):\n",
       "[1] a--b b--c\n",
       "\n",
       "$c\n",
       "+ 2/8 edges from 941b8a7 (vertex names):\n",
       "[1] b--c c--d\n",
       "\n",
       "$d\n",
       "+ 2/8 edges from 941b8a7 (vertex names):\n",
       "[1] a--d c--d\n",
       "\n",
       "$e\n",
       "+ 1/8 edge from 941b8a7 (vertex names):\n",
       "[1] a--e\n",
       "\n",
       "$h\n",
       "+ 3/8 edges from 941b8a7 (vertex names):\n",
       "[1] h--i h--j h--k\n",
       "\n",
       "$i\n",
       "+ 1/8 edge from 941b8a7 (vertex names):\n",
       "[1] h--i\n",
       "\n",
       "$j\n",
       "+ 1/8 edge from 941b8a7 (vertex names):\n",
       "[1] h--j\n",
       "\n",
       "$k\n",
       "+ 1/8 edge from 941b8a7 (vertex names):\n",
       "[1] h--k\n",
       "\n",
       "$f\n",
       "+ 0/8 edges from 941b8a7 (vertex names):\n",
       "\n",
       "$g\n",
       "+ 0/8 edges from 941b8a7 (vertex names):\n"
      ]
     },
     "metadata": {},
     "output_type": "display_data"
    }
   ],
   "source": [
    "as_adj_edge_list(g)\n",
    "write_graph(g, \"g-edge-list.txt\", format = \"edgelist\")\n",
    "# read_graph(\"g-edge-list.txt\", format = \"edgelist\")"
   ]
  },
  {
   "cell_type": "markdown",
   "metadata": {},
   "source": [
    "Small networks can also be saved and build from their adjacency matrix\n",
    "\n",
    "```r\n",
    "graph_from_adjacency_matrix(adjmatrix, \n",
    "                            mode = c(\"directed\", \"undirected\", \"max\", \"min\", \"upper\", \"lower\", \"plus\"), \n",
    "                            weighted = NULL, diag = TRUE, add.colnames = NULL, add.rownames = NA)\n",
    "\n",
    "from_adjacency(...)\n",
    "```"
   ]
  },
  {
   "cell_type": "code",
   "execution_count": 72,
   "metadata": {},
   "outputs": [
    {
     "data": {
      "image/png": "[encoded data removed]",
      "text/plain": [
       "Plot with title “”"
      ]
     },
     "metadata": {},
     "output_type": "display_data"
    }
   ],
   "source": [
    "adj_matrix <- as_adjacency_matrix(g)\n",
    "plot(graph_from_adjacency_matrix(adj_matrix, mode = \"undirected\"))"
   ]
  },
  {
   "cell_type": "markdown",
   "metadata": {},
   "source": [
    "In order to write and read the graph using its adjacency matrix, uncomment the code in the next cell. Observe that the sparse matrix is converted to a full matrix `as.matrix(adj_matrix)`, which is usually a problem for larger networks. Alternatively use\n",
    "```r\n",
    "writeMM(sparse_matrix,file)\n",
    "readMM(file)\n",
    "```\n",
    "to write/read spare matrices to/from text files; for undirected graphs it is also better to save just a triangular adjacency matrix.\n",
    "\n",
    "**N.B.** Edge lists are preferred!"
   ]
  },
  {
   "cell_type": "code",
   "execution_count": 73,
   "metadata": {},
   "outputs": [],
   "source": [
    "# save adjacency matrix, read it and build (plot) the resulting graph\n",
    "# write.csv(as.matrix(adj_matrix), file = \"g-adj-matrix.csv\")\n",
    "# plot(graph_from_adjacency_matrix(as.matrix(read.csv(\"g-adj-matrix.csv\", row.names = 1)), mode = \"undirected\"))"
   ]
  },
  {
   "cell_type": "markdown",
   "metadata": {},
   "source": [
    "Given a vertex $v \\in V$ we can count how many edges are connected to $v$. If the graph is _simple_, i.e. no loops and no multiedges, then the number of $v$'s incident edges is equal to the length of its adjacency list. This is a key number and it is called the _degree_ of vertex $v$.\n",
    "\n",
    "###### Def. (degree)\n",
    "\n",
    "The _degree_ $k_i$ of a vertex $i \\in G$ is the number of edges incident to $i$. Given $A$ the adjacency matrix of $G$ \n",
    "$$k_i = \\sum_j a_{ij}.$$\n",
    "\n",
    "###### Degree distribution.\n",
    "\n",
    "Given vertex $i \\in G$ we can ask what is the probability of its degree being exactly $k$ and this is given by\n",
    "$$P(k_i = k) = \\frac{n_k}{N}$$\n",
    "where $n_k$ is the number of nodes having degree $k$.\n",
    "\n",
    "It is then possible to look at frequency distribution, which is called _degree distribution_."
   ]
  },
  {
   "cell_type": "code",
   "execution_count": 75,
   "metadata": {},
   "outputs": [
    {
     "data": {
      "text/html": [
       "<dl class=dl-horizontal>\n",
       "\t<dt>a</dt>\n",
       "\t\t<dd>3</dd>\n",
       "\t<dt>b</dt>\n",
       "\t\t<dd>2</dd>\n",
       "\t<dt>c</dt>\n",
       "\t\t<dd>2</dd>\n",
       "\t<dt>d</dt>\n",
       "\t\t<dd>2</dd>\n",
       "\t<dt>e</dt>\n",
       "\t\t<dd>1</dd>\n",
       "\t<dt>h</dt>\n",
       "\t\t<dd>3</dd>\n",
       "\t<dt>i</dt>\n",
       "\t\t<dd>1</dd>\n",
       "\t<dt>j</dt>\n",
       "\t\t<dd>1</dd>\n",
       "\t<dt>k</dt>\n",
       "\t\t<dd>1</dd>\n",
       "\t<dt>f</dt>\n",
       "\t\t<dd>0</dd>\n",
       "\t<dt>g</dt>\n",
       "\t\t<dd>0</dd>\n",
       "</dl>\n"
      ],
      "text/latex": [
       "\\begin{description*}\n",
       "\\item[a] 3\n",
       "\\item[b] 2\n",
       "\\item[c] 2\n",
       "\\item[d] 2\n",
       "\\item[e] 1\n",
       "\\item[h] 3\n",
       "\\item[i] 1\n",
       "\\item[j] 1\n",
       "\\item[k] 1\n",
       "\\item[f] 0\n",
       "\\item[g] 0\n",
       "\\end{description*}\n"
      ],
      "text/markdown": [
       "a\n",
       ":   3b\n",
       ":   2c\n",
       ":   2d\n",
       ":   2e\n",
       ":   1h\n",
       ":   3i\n",
       ":   1j\n",
       ":   1k\n",
       ":   1f\n",
       ":   0g\n",
       ":   0\n",
       "\n"
      ],
      "text/plain": [
       "a b c d e h i j k f g \n",
       "3 2 2 2 1 3 1 1 1 0 0 "
      ]
     },
     "metadata": {},
     "output_type": "display_data"
    },
    {
     "data": {
      "text/html": [
       "<ol class=list-inline>\n",
       "\t<li>0.181818181818182</li>\n",
       "\t<li>0.363636363636364</li>\n",
       "\t<li>0.272727272727273</li>\n",
       "\t<li>0.181818181818182</li>\n",
       "</ol>\n"
      ],
      "text/latex": [
       "\\begin{enumerate*}\n",
       "\\item 0.181818181818182\n",
       "\\item 0.363636363636364\n",
       "\\item 0.272727272727273\n",
       "\\item 0.181818181818182\n",
       "\\end{enumerate*}\n"
      ],
      "text/markdown": [
       "1. 0.181818181818182\n",
       "2. 0.363636363636364\n",
       "3. 0.272727272727273\n",
       "4. 0.181818181818182\n",
       "\n",
       "\n"
      ],
      "text/plain": [
       "[1] 0.1818182 0.3636364 0.2727273 0.1818182"
      ]
     },
     "metadata": {},
     "output_type": "display_data"
    }
   ],
   "source": [
    "k_g <- degree(g)\n",
    "k_g\n",
    "degree_distribution(g)"
   ]
  },
  {
   "cell_type": "code",
   "execution_count": 96,
   "metadata": {},
   "outputs": [
    {
     "data": {},
     "metadata": {},
     "output_type": "display_data"
    },
    {
     "data": {
      "image/png": "[encoded data removed]",
      "text/plain": [
       "plot without title"
      ]
     },
     "metadata": {},
     "output_type": "display_data"
    }
   ],
   "source": [
    "data <- data.frame(node = names(k_g), deg = k_g)\n",
    "N <- length(V(g))\n",
    "ggplot(data = data, aes(x = deg)) + \n",
    "  geom_bar(stat = \"count\", width = .5, fill = mygreen) +\n",
    "  labs(x = \"k\", y = \"P(k)\")"
   ]
  },
  {
   "cell_type": "markdown",
   "metadata": {},
   "source": [
    "##### Weighted Graphs\n",
    "\n",
    "A graph $G = (V, E)$ can also be _weighted_ if we provide a weight function $w: V \\times V \\to \\mathbb{R}$. Let the nodes of $G$ be labeled $1, \\dots, N = |V|$ then we write $w_{ij} = w(i, j)$ and $w_{i, j} = 0$ if $(i, j) \\notin E$.\n",
    "\n",
    "In particular \n",
    "\n",
    "* if $G$ is undirected the weight function satisfies $w_{ij} = w_{ji}$\n",
    "* if $G$ is unweighted we can still think of $w$, in which case \n",
    "$$w_{ij} = \\begin{cases} 1 & (i, j) \\in E \\\\ 0 & (i, j) \\notin E. \\end{cases} $$\n",
    "\n",
    "An example of weighted undirected graph is the well-known [Zachary's Karate Club Network](https://www.jstor.org/stable/3629752), often use as a toy model for checking new methods and metrics.  "
   ]
  },
  {
   "cell_type": "code",
   "execution_count": 10,
   "metadata": {},
   "outputs": [],
   "source": [
    "library(igraphdata)\n",
    "data(karate)"
   ]
  },
  {
   "cell_type": "code",
   "execution_count": 97,
   "metadata": {},
   "outputs": [
    {
     "data": {
      "image/png": "[encoded data removed]",
      "text/plain": [
       "Plot with title “”"
      ]
     },
     "metadata": {},
     "output_type": "display_data"
    }
   ],
   "source": [
    "plot(karate, layout = layout_in_circle, edge.width = E(karate)$weight)"
   ]
  },
  {
   "cell_type": "markdown",
   "metadata": {},
   "source": [
    "By default `karate` nodes are plotted in different colours, reflecting the two factions in this social network. We will see it in detail in the **Community Detection** module."
   ]
  },
  {
   "cell_type": "code",
   "execution_count": 12,
   "metadata": {},
   "outputs": [
    {
     "name": "stderr",
     "output_type": "stream",
     "text": [
      "   [[ suppressing 34 column names ‘Mr Hi’, ‘Actor 2’, ‘Actor 3’ ... ]]\n"
     ]
    },
    {
     "data": {
      "text/plain": [
       "34 x 34 sparse Matrix of class \"dgCMatrix\"\n",
       "                                                                            \n",
       "Mr Hi    . 4 5 3 3 3 3 2 2 . 2 3 1 3 . . . 2 . 2 . 2 . . . . . . . . . 2 . .\n",
       "Actor 2  4 . 6 3 . . . 4 . . . . . 5 . . . 1 . 2 . 2 . . . . . . . . 2 . . .\n",
       "Actor 3  5 6 . 3 . . . 4 5 1 . . . 3 . . . . . . . . . . . . . 2 2 . . . 2 .\n",
       "Actor 4  3 3 3 . . . . 3 . . . . 3 3 . . . . . . . . . . . . . . . . . . . .\n",
       "Actor 5  3 . . . . . 2 . . . 3 . . . . . . . . . . . . . . . . . . . . . . .\n",
       "Actor 6  3 . . . . . 5 . . . 3 . . . . . 3 . . . . . . . . . . . . . . . . .\n",
       "Actor 7  3 . . . 2 5 . . . . . . . . . . 3 . . . . . . . . . . . . . . . . .\n",
       "Actor 8  2 4 4 3 . . . . . . . . . . . . . . . . . . . . . . . . . . . . . .\n",
       "Actor 9  2 . 5 . . . . . . . . . . . . . . . . . . . . . . . . . . . 3 . 3 4\n",
       "Actor 10 . . 1 . . . . . . . . . . . . . . . . . . . . . . . . . . . . . . 2\n",
       "Actor 11 2 . . . 3 3 . . . . . . . . . . . . . . . . . . . . . . . . . . . .\n",
       "Actor 12 3 . . . . . . . . . . . . . . . . . . . . . . . . . . . . . . . . .\n",
       "Actor 13 1 . . 3 . . . . . . . . . . . . . . . . . . . . . . . . . . . . . .\n",
       "Actor 14 3 5 3 3 . . . . . . . . . . . . . . . . . . . . . . . . . . . . . 3\n",
       "Actor 15 . . . . . . . . . . . . . . . . . . . . . . . . . . . . . . . . 3 2\n",
       "Actor 16 . . . . . . . . . . . . . . . . . . . . . . . . . . . . . . . . 3 4\n",
       "Actor 17 . . . . . 3 3 . . . . . . . . . . . . . . . . . . . . . . . . . . .\n",
       "Actor 18 2 1 . . . . . . . . . . . . . . . . . . . . . . . . . . . . . . . .\n",
       "Actor 19 . . . . . . . . . . . . . . . . . . . . . . . . . . . . . . . . 1 2\n",
       "Actor 20 2 2 . . . . . . . . . . . . . . . . . . . . . . . . . . . . . . . 1\n",
       "Actor 21 . . . . . . . . . . . . . . . . . . . . . . . . . . . . . . . . 3 1\n",
       "Actor 22 2 2 . . . . . . . . . . . . . . . . . . . . . . . . . . . . . . . .\n",
       "Actor 23 . . . . . . . . . . . . . . . . . . . . . . . . . . . . . . . . 2 3\n",
       "Actor 24 . . . . . . . . . . . . . . . . . . . . . . . . . 5 . 4 . 3 . . 5 4\n",
       "Actor 25 . . . . . . . . . . . . . . . . . . . . . . . . . 2 . 3 . . . 2 . .\n",
       "Actor 26 . . . . . . . . . . . . . . . . . . . . . . . 5 2 . . . . . . 7 . .\n",
       "Actor 27 . . . . . . . . . . . . . . . . . . . . . . . . . . . . . 4 . . . 2\n",
       "Actor 28 . . 2 . . . . . . . . . . . . . . . . . . . . 4 3 . . . . . . . . 4\n",
       "Actor 29 . . 2 . . . . . . . . . . . . . . . . . . . . . . . . . . . . 2 . 2\n",
       "Actor 30 . . . . . . . . . . . . . . . . . . . . . . . 3 . . 4 . . . . . 4 2\n",
       "Actor 31 . 2 . . . . . . 3 . . . . . . . . . . . . . . . . . . . . . . . 3 3\n",
       "Actor 32 2 . . . . . . . . . . . . . . . . . . . . . . . 2 7 . . 2 . . . 4 4\n",
       "Actor 33 . . 2 . . . . . 3 . . . . . 3 3 . . 1 . 3 . 2 5 . . . . . 4 3 4 . 5\n",
       "John A   . . . . . . . . 4 2 . . . 3 2 4 . . 2 1 1 . 3 4 . . 2 4 2 2 3 4 5 ."
      ]
     },
     "metadata": {},
     "output_type": "display_data"
    }
   ],
   "source": [
    "karate[]"
   ]
  },
  {
   "cell_type": "markdown",
   "metadata": {},
   "source": [
    "**Observations.** \n",
    "\n",
    "* Nodes are called \"actors\" in social network analysis and edges are usually referred to as \"ties\".\n",
    "* Entries of the adjacency matrix are now weights $a_{ij} = w_{ij}$.\n",
    "* The [karate club network](https://www.jstor.org/stable/3629752) is undirected, indeed the adjacency matrix is symmetric:"
   ]
  },
  {
   "cell_type": "code",
   "execution_count": 13,
   "metadata": {},
   "outputs": [
    {
     "data": {
      "text/html": [
       "TRUE"
      ],
      "text/latex": [
       "TRUE"
      ],
      "text/markdown": [
       "TRUE"
      ],
      "text/plain": [
       "[1] TRUE"
      ]
     },
     "metadata": {},
     "output_type": "display_data"
    }
   ],
   "source": [
    "isSymmetric(as.matrix(karate[]))"
   ]
  },
  {
   "cell_type": "markdown",
   "metadata": {},
   "source": [
    "The _degree_ becomes then a weighted degree $$k_i = \\sum_j w_{ij}.$$\n",
    "\n",
    "We can also build the degree matrix $D$, a diagonal $N \\times N$ matrix having $d_{ii} = k_i$ on the diagonal."
   ]
  },
  {
   "cell_type": "markdown",
   "metadata": {},
   "source": [
    "### 1.2 The Laplacian of a Graph\n",
    "\n",
    "A very important matrix in network science is the graph's Laplacian matrix $L$, also called admittance or Kirchhoff matrix, together with its _normalised_ counterpart $\\textbf{L}$. \n",
    "The main reference for the following paragraphs is [Chung, 1997](https://goo.gl/5wh715), a classic book in Spectral graph theory; the first chapther can be found [here](http://www.cs.ucsb.edu/~veronika/MAE/lecturesspectralgraphtheory_chung.pdf).\n",
    "\n",
    "###### Def. (Graph's Laplacian)\n",
    "\n",
    "Let $G$ be a weighted undirected graph such that $w$ is not-negative. Then the Laplacian matrix $L$ is a square $N \\times N$ matrix defined as\n",
    "\\begin{equation}\n",
    "    l_{ij} =\n",
    "    \\begin{cases}\n",
    "    k_i - w_{ii} & \\text{if } i = j \\\\\n",
    "    - w_{ij} & \\text{if } i \\neq j \\\\\n",
    "    0 & \\text{otherwise}\n",
    "    \\end{cases}\n",
    "\\end{equation}\n",
    "note that $L = D - A$, where $D$ and $A$ are respectively the degree and the adjacency matrices."
   ]
  },
  {
   "cell_type": "code",
   "execution_count": 14,
   "metadata": {},
   "outputs": [
    {
     "name": "stderr",
     "output_type": "stream",
     "text": [
      "   [[ suppressing 11 column names ‘a’, ‘b’, ‘c’ ... ]]\n"
     ]
    },
    {
     "data": {
      "text/plain": [
       "11 x 11 sparse Matrix of class \"dgCMatrix\"\n",
       "                                \n",
       "a  3 -1  . -1 -1  .  .  .  . . .\n",
       "b -1  2 -1  .  .  .  .  .  . . .\n",
       "c  . -1  2 -1  .  .  .  .  . . .\n",
       "d -1  . -1  2  .  .  .  .  . . .\n",
       "e -1  .  .  .  1  .  .  .  . . .\n",
       "h  .  .  .  .  .  3 -1 -1 -1 . .\n",
       "i  .  .  .  .  . -1  1  .  . . .\n",
       "j  .  .  .  .  . -1  .  1  . . .\n",
       "k  .  .  .  .  . -1  .  .  1 . .\n",
       "f  .  .  .  .  .  .  .  .  . 0 .\n",
       "g  .  .  .  .  .  .  .  .  . . 0"
      ]
     },
     "metadata": {},
     "output_type": "display_data"
    },
    {
     "data": {
      "text/plain": [
       "10 x 5 sparse Matrix of class \"dgCMatrix\"\n",
       "         Mr Hi Actor 2 Actor 3 Actor 4 Actor 5\n",
       "Mr Hi       42      -4      -5      -3      -3\n",
       "Actor 2     -4      29      -6      -3       .\n",
       "Actor 3     -5      -6      33      -3       .\n",
       "Actor 4     -3      -3      -3      18       .\n",
       "Actor 5     -3       .       .       .       8\n",
       "Actor 6     -3       .       .       .       .\n",
       "Actor 7     -3       .       .       .      -2\n",
       "Actor 8     -2      -4      -4      -3       .\n",
       "Actor 9     -2       .      -5       .       .\n",
       "Actor 10     .       .      -1       .       ."
      ]
     },
     "metadata": {},
     "output_type": "display_data"
    }
   ],
   "source": [
    "Lg <- laplacian_matrix(g, normalized = FALSE)\n",
    "Lk <- laplacian_matrix(karate, normalized = FALSE, weights = NULL) # if NULL and the graph has an edge attribute called \n",
    "                                                                   # weight, then it will be used automatically\n",
    "Lg\n",
    "Lk[1:10, 1:5]"
   ]
  },
  {
   "cell_type": "markdown",
   "metadata": {},
   "source": [
    "#### *Laplacian as an Operator\n",
    "\n",
    "In particular $L$ can be seen as an **operator** on the space of functions $f: V \\to \\mathbb{R}$.\n",
    "Indeed let $v^i: V \\to \\mathbb{R}$ such that $v^i(v_j) = 1$ if $i=j$ and zero otherwise. Then $\\{v^1, \\dots, v^N\\}$ forms a basis of the vector space of all functions from $V$ to $\\mathbb{R}$ and every other function $g$ can be written as $g = \\sum_i g_i v^i$ and it can be thought as a column vector.\n",
    "\n",
    "The operator $L$ satisfies\n",
    "\\begin{align}\n",
    "  Lf(v_i) & = (k_i - w_{ii}) f(v) - \\sum_j w_{ij} f(v_j)\\\\\n",
    "  & = \\sum_{j} w_{ij} \\left( f(v_i) - f(v_j) \\right) \n",
    "\\end{align}\n",
    "\n",
    "and if $G$ is unweighted previous equation can be rewritten as\n",
    "\\begin{equation}\n",
    "    Lf(v_i) = C \\sum_{j} \\left( f(v_i) - f(v_j) \\right) a_{ij}\n",
    "\\end{equation}\n",
    "a diffusion operator with diffusion constant $C$.\n",
    "\n",
    "Indicating with $\\langle f, g \\rangle = \\sum_i f(v_i)g(v_i)$ the standard scalar product in $\\mathbb{R}^N$, we also have\n",
    "\\begin{align}\n",
    "  \\langle f, Lf \\rangle & = \\sum_{i} f(v_i) \\sum_{i, j} w_{ij} \\left( f(v_i) - f(v_j) \\right) \\\\\n",
    "  & = \\sum_{i, j} w_{ij} \\left( f(v_i)^2 - f(v_i)f(v_j) + f(v_j)^2\\right) \\\\\n",
    "  & = \\sum_{i, j} w_{ij} \\left( f(v_i) - f(v_j)\\right)^2\n",
    "\\end{align}"
   ]
  },
  {
   "cell_type": "markdown",
   "metadata": {},
   "source": [
    "#### Normalised Laplacian\n",
    "\n",
    "Often with \"Laplacian\" one refers to the normalised matrix $\\textbf{L}$.\n",
    "\n",
    "##### Def. (Normalised Laplacian)\n",
    "$\\textbf{L}$ is defined as\n",
    "\\begin{equation}\n",
    "    \\textbf{l}_{ij} =\n",
    "    \\begin{cases}\n",
    "    1 - \\frac{w_{ii}}{k_i} & \\text{if } i = j \\\\\n",
    "    - \\frac{w_{ih}}{\\sqrt{k_i k_j}} & \\text{if } i \\neq j \\text{ and } e_{ij} \\in E \\\\\n",
    "    0 & \\text{otherwise}\n",
    "    \\end{cases}\n",
    "\\end{equation}\n",
    "and it can be written as $\\textbf{L}=D^{-\\frac12} L D^{-\\frac12}$, with the convention that $D^{-1}(v, v) = 0$ if $k_v=0$, i.e. $v$ is an isolated node.\n",
    "\n",
    "Further $\\textbf{L}=D^{-\\frac12} L D^{-\\frac12} = D^{-\\frac12} (D - A) D^{-\\frac12} = I - D^{-\\frac12} A D^{-\\frac12}$.\n",
    "Observe that a _regular_ graph, that is an undirected graph with each vertex having the same degree $k$, last equation reduces to $I - \\frac{1}{k} A$."
   ]
  },
  {
   "cell_type": "code",
   "execution_count": 15,
   "metadata": {},
   "outputs": [
    {
     "name": "stderr",
     "output_type": "stream",
     "text": [
      "   [[ suppressing 11 column names ‘a’, ‘b’, ‘c’ ... ]]\n"
     ]
    },
    {
     "data": {
      "text/plain": [
       "11 x 11 sparse Matrix of class \"dgCMatrix\"\n",
       "                                                                        \n",
       "a  1.0000000 -0.4082483  .   -0.4082483 -0.5773503  .          .        \n",
       "b -0.4082483  1.0000000 -0.5  .          .          .          .        \n",
       "c  .         -0.5000000  1.0 -0.5000000  .          .          .        \n",
       "d -0.4082483  .         -0.5  1.0000000  .          .          .        \n",
       "e -0.5773503  .          .    .          1.0000000  .          .        \n",
       "h  .          .          .    .          .          1.0000000 -0.5773503\n",
       "i  .          .          .    .          .         -0.5773503  1.0000000\n",
       "j  .          .          .    .          .         -0.5773503  .        \n",
       "k  .          .          .    .          .         -0.5773503  .        \n",
       "f  .          .          .    .          .          .          .        \n",
       "g  .          .          .    .          .          .          .        \n",
       "                           \n",
       "a  .          .         . .\n",
       "b  .          .         . .\n",
       "c  .          .         . .\n",
       "d  .          .         . .\n",
       "e  .          .         . .\n",
       "h -0.5773503 -0.5773503 . .\n",
       "i  .          .         . .\n",
       "j  1.0000000  .         . .\n",
       "k  .          1.0000000 . .\n",
       "f  .          .         0 .\n",
       "g  .          .         . 0"
      ]
     },
     "metadata": {},
     "output_type": "display_data"
    },
    {
     "data": {
      "text/plain": [
       "10 x 5 sparse Matrix of class \"dgCMatrix\"\n",
       "               Mr Hi    Actor 2    Actor 3    Actor 4    Actor 5\n",
       "Mr Hi     1.00000000 -0.1146137 -0.1343038 -0.1091089 -0.1636634\n",
       "Actor 2  -0.11461365  1.0000000 -0.1939525 -0.1313064  .        \n",
       "Actor 3  -0.13430383 -0.1939525  1.0000000 -0.1230915  .        \n",
       "Actor 4  -0.10910895 -0.1313064 -0.1230915  1.0000000  .        \n",
       "Actor 5  -0.16366342  .          .          .          1.0000000\n",
       "Actor 6  -0.12371791  .          .          .          .        \n",
       "Actor 7  -0.12838815  .          .          .         -0.1961161\n",
       "Actor 8  -0.08559210 -0.2060105 -0.1931218 -0.1961161  .        \n",
       "Actor 9  -0.07484812  .         -0.2111002  .          .        \n",
       "Actor 10  .           .         -0.1005038  .          .        "
      ]
     },
     "metadata": {},
     "output_type": "display_data"
    }
   ],
   "source": [
    "Lng <- laplacian_matrix(g, normalized = TRUE)\n",
    "Lnk <- laplacian_matrix(karate, normalized = TRUE)\n",
    "Lng\n",
    "Lnk[1:10, 1:5]"
   ]
  },
  {
   "cell_type": "code",
   "execution_count": 103,
   "metadata": {},
   "outputs": [
    {
     "data": {},
     "metadata": {},
     "output_type": "display_data"
    },
    {
     "data": {
      "image/png": "[encoded data removed]",
      "text/plain": [
       "plot without title"
      ]
     },
     "metadata": {},
     "output_type": "display_data"
    }
   ],
   "source": [
    "melted_Lng <- melt(as.matrix(Lng))\n",
    "ggplot(data = melted_Lng, aes(x = Var1, y = Var2, fill = value)) + \n",
    "  geom_tile() +\n",
    "  coord_equal() +\n",
    "  scale_fill_gradient2(low = scales::muted(\"blue\"), mid = \"white\", high = scales::muted(\"red\")) + \n",
    "  labs(x = \"\", y = \"\", fill = \"\")"
   ]
  },
  {
   "cell_type": "markdown",
   "metadata": {},
   "source": [
    "### 1.3 Random Walks and Graphs"
   ]
  },
  {
   "cell_type": "code",
   "execution_count": null,
   "metadata": {},
   "outputs": [],
   "source": []
  }
 ],
 "metadata": {
  "kernelspec": {
   "display_name": "R",
   "language": "R",
   "name": "ir"
  },
  "language_info": {
   "codemirror_mode": "r",
   "file_extension": ".r",
   "mimetype": "text/x-r-source",
   "name": "R",
   "pygments_lexer": "r",
   "version": "3.4.4"
  }
 },
 "nbformat": 4,
 "nbformat_minor": 2
}
